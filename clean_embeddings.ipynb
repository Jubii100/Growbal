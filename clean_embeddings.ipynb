{
 "cells": [
  {
   "cell_type": "markdown",
   "metadata": {},
   "source": [
    "# Clean ServiceProviderProfile Embeddings\n",
    "\n",
    "This notebook removes/cleans the `profile_embedding` field contents for all ServiceProviderProfile records in the database."
   ]
  },
  {
   "cell_type": "code",
   "execution_count": 1,
   "metadata": {},
   "outputs": [
    {
     "name": "stdout",
     "output_type": "stream",
     "text": [
      "✅ Django environment setup complete\n"
     ]
    }
   ],
   "source": [
    "import os\n",
    "import sys\n",
    "import django\n",
    "from pathlib import Path\n",
    "\n",
    "# Setup Django path and settings\n",
    "notebook_dir = Path.cwd()\n",
    "django_path = notebook_dir / 'growbal_django'\n",
    "sys.path.insert(0, str(django_path))\n",
    "\n",
    "os.environ.setdefault(\"DJANGO_SETTINGS_MODULE\", \"growbal.settings\")\n",
    "os.environ[\"DJANGO_ALLOW_ASYNC_UNSAFE\"] = \"true\"\n",
    "\n",
    "django.setup()\n",
    "\n",
    "print(\"✅ Django environment setup complete\")"
   ]
  },
  {
   "cell_type": "code",
   "execution_count": 2,
   "metadata": {},
   "outputs": [
    {
     "name": "stdout",
     "output_type": "stream",
     "text": [
      "✅ Database connection successful\n",
      "✅ Found 0 profiles with embeddings in database\n"
     ]
    }
   ],
   "source": [
    "# Test database connection\n",
    "from django.db import connection\n",
    "\n",
    "try:\n",
    "    with connection.cursor() as cursor:\n",
    "        cursor.execute(\"SELECT 1\")\n",
    "        result = cursor.fetchone()\n",
    "        print(\"✅ Database connection successful\")\n",
    "        \n",
    "        # Check if we can access the ServiceProviderProfile table\n",
    "        cursor.execute(\"\"\"\n",
    "            SELECT COUNT(*) \n",
    "            FROM accounts_serviceproviderprofile \n",
    "            WHERE profile_embedding IS NOT NULL\n",
    "        \"\"\")\n",
    "        count = cursor.fetchone()[0]\n",
    "        print(f\"✅ Found {count} profiles with embeddings in database\")\n",
    "        \n",
    "except Exception as e:\n",
    "    print(f\"❌ Database connection failed: {e}\")\n",
    "    raise"
   ]
  },
  {
   "cell_type": "code",
   "execution_count": 3,
   "metadata": {},
   "outputs": [
    {
     "name": "stdout",
     "output_type": "stream",
     "text": [
      "Total ServiceProviderProfile records: 482\n",
      "Profiles with embeddings: 482\n"
     ]
    }
   ],
   "source": [
    "# Import the ServiceProviderProfile model\n",
    "from accounts.models import ServiceProviderProfile\n",
    "\n",
    "# Get total count of profiles\n",
    "total_profiles = ServiceProviderProfile.objects.count()\n",
    "print(f\"Total ServiceProviderProfile records: {total_profiles}\")\n",
    "\n",
    "# Count profiles with embeddings\n",
    "profiles_with_embeddings = ServiceProviderProfile.objects.exclude(profile_embedding__isnull=True).count()\n",
    "print(f\"Profiles with embeddings: {profiles_with_embeddings}\")"
   ]
  },
  {
   "cell_type": "code",
   "execution_count": 4,
   "metadata": {},
   "outputs": [
    {
     "name": "stdout",
     "output_type": "stream",
     "text": [
      "Preview of profiles with embeddings (first 5):\n",
      "--------------------------------------------------\n",
      "ID: 37\n",
      "Name: 360 Chartered Accountants\n",
      "Provider Type: Company\n",
      "Country: UK\n",
      "Has embedding: True\n",
      "Embedding dimensions: 1536\n",
      "--------------------------------------------------\n",
      "ID: 39\n",
      "Name: 3E Accounting India\n",
      "Provider Type: Company\n",
      "Country: India\n",
      "Has embedding: True\n",
      "Embedding dimensions: 1536\n",
      "--------------------------------------------------\n",
      "ID: 40\n",
      "Name: A&A Associate LLC\n",
      "Provider Type: Company\n",
      "Country: UAE\n",
      "Has embedding: True\n",
      "Embedding dimensions: 1536\n",
      "--------------------------------------------------\n",
      "ID: 41\n",
      "Name: AEY Group\n",
      "Provider Type: Company\n",
      "Country: UAE\n",
      "Has embedding: True\n",
      "Embedding dimensions: 1536\n",
      "--------------------------------------------------\n",
      "ID: 42\n",
      "Name: AKA Management Consultancy\n",
      "Provider Type: Company\n",
      "Country: UAE\n",
      "Has embedding: True\n",
      "Embedding dimensions: 1536\n",
      "--------------------------------------------------\n"
     ]
    }
   ],
   "source": [
    "# Preview profiles with embeddings (show first 5)\n",
    "profiles_to_clean = ServiceProviderProfile.objects.exclude(profile_embedding__isnull=True)[:5]\n",
    "\n",
    "print(\"Preview of profiles with embeddings (first 5):\")\n",
    "print(\"-\" * 50)\n",
    "for profile in profiles_to_clean:\n",
    "    print(f\"ID: {profile.id}\")\n",
    "    print(f\"Name: {profile.name}\")\n",
    "    print(f\"Provider Type: {profile.provider_type}\")\n",
    "    print(f\"Country: {profile.country}\")\n",
    "    print(f\"Has embedding: {profile.profile_embedding is not None}\")\n",
    "    if profile.profile_embedding is not None:\n",
    "        print(f\"Embedding dimensions: {len(profile.profile_embedding) if hasattr(profile.profile_embedding, '__len__') else 'N/A'}\")\n",
    "    print(\"-\" * 50)"
   ]
  },
  {
   "cell_type": "code",
   "execution_count": 6,
   "metadata": {},
   "outputs": [
    {
     "name": "stdout",
     "output_type": "stream",
     "text": [
      "DRY RUN: Would clean 482 profile embeddings\n"
     ]
    },
    {
     "data": {
      "text/plain": [
       "482"
      ]
     },
     "execution_count": 6,
     "metadata": {},
     "output_type": "execute_result"
    }
   ],
   "source": [
    "# Function to clean embeddings with progress tracking\n",
    "def clean_embeddings(dry_run=True):\n",
    "    \"\"\"\n",
    "    Clean profile_embedding field for all ServiceProviderProfile records.\n",
    "    \n",
    "    Args:\n",
    "        dry_run (bool): If True, only shows what would be cleaned without making changes.\n",
    "                       If False, actually performs the cleaning.\n",
    "    \"\"\"\n",
    "    profiles_with_embeddings = ServiceProviderProfile.objects.exclude(profile_embedding__isnull=True)\n",
    "    count = profiles_with_embeddings.count()\n",
    "    \n",
    "    if dry_run:\n",
    "        print(f\"DRY RUN: Would clean {count} profile embeddings\")\n",
    "        return count\n",
    "    \n",
    "    print(f\"Starting to clean {count} profile embeddings...\")\n",
    "    \n",
    "    # Update all profiles with embeddings to set them to None\n",
    "    updated = profiles_with_embeddings.update(profile_embedding=None)\n",
    "    \n",
    "    print(f\"Successfully cleaned {updated} profile embeddings\")\n",
    "    return updated\n",
    "\n",
    "# First, do a dry run to see what would be cleaned\n",
    "clean_embeddings(dry_run=True)"
   ]
  },
  {
   "cell_type": "code",
   "execution_count": 7,
   "metadata": {},
   "outputs": [
    {
     "name": "stdout",
     "output_type": "stream",
     "text": [
      "Starting to clean 482 profile embeddings...\n",
      "Successfully cleaned 482 profile embeddings\n",
      "⚠️  Ready to clean embeddings. Uncomment one of the lines above to proceed.\n"
     ]
    }
   ],
   "source": [
    "# ACTUAL CLEANING - Remove embeddings\n",
    "# WARNING: This will permanently delete all embedding data!\n",
    "# \n",
    "# To perform the actual cleaning, uncomment ONE of the following lines:\n",
    "\n",
    "# Option 1: Fast bulk cleaning (recommended for large datasets)\n",
    "cleaned_count = clean_embeddings(dry_run=False)\n",
    "\n",
    "# Option 2: Detailed progress tracking (shows progress every 10 profiles) \n",
    "# cleaned_count = clean_embeddings_with_progress(dry_run=False)\n",
    "\n",
    "print(\"⚠️  Ready to clean embeddings. Uncomment one of the lines above to proceed.\")"
   ]
  },
  {
   "cell_type": "code",
   "execution_count": 6,
   "metadata": {},
   "outputs": [
    {
     "name": "stdout",
     "output_type": "stream",
     "text": [
      "DRY RUN: Processing 482 profiles...\n",
      "Progress: 10/482 (2.1%) - Cleaned: 10, Failed: 0\n",
      "Progress: 20/482 (4.1%) - Cleaned: 20, Failed: 0\n",
      "Progress: 30/482 (6.2%) - Cleaned: 30, Failed: 0\n",
      "Progress: 40/482 (8.3%) - Cleaned: 40, Failed: 0\n",
      "Progress: 50/482 (10.4%) - Cleaned: 50, Failed: 0\n",
      "Progress: 60/482 (12.4%) - Cleaned: 60, Failed: 0\n",
      "Progress: 70/482 (14.5%) - Cleaned: 70, Failed: 0\n",
      "Progress: 80/482 (16.6%) - Cleaned: 80, Failed: 0\n",
      "Progress: 90/482 (18.7%) - Cleaned: 90, Failed: 0\n",
      "Progress: 100/482 (20.7%) - Cleaned: 100, Failed: 0\n",
      "Progress: 110/482 (22.8%) - Cleaned: 110, Failed: 0\n",
      "Progress: 120/482 (24.9%) - Cleaned: 120, Failed: 0\n",
      "Progress: 130/482 (27.0%) - Cleaned: 130, Failed: 0\n",
      "Progress: 140/482 (29.0%) - Cleaned: 140, Failed: 0\n",
      "Progress: 150/482 (31.1%) - Cleaned: 150, Failed: 0\n",
      "Progress: 160/482 (33.2%) - Cleaned: 160, Failed: 0\n",
      "Progress: 170/482 (35.3%) - Cleaned: 170, Failed: 0\n",
      "Progress: 180/482 (37.3%) - Cleaned: 180, Failed: 0\n",
      "Progress: 190/482 (39.4%) - Cleaned: 190, Failed: 0\n",
      "Progress: 200/482 (41.5%) - Cleaned: 200, Failed: 0\n",
      "Progress: 210/482 (43.6%) - Cleaned: 210, Failed: 0\n",
      "Progress: 220/482 (45.6%) - Cleaned: 220, Failed: 0\n",
      "Progress: 230/482 (47.7%) - Cleaned: 230, Failed: 0\n",
      "Progress: 240/482 (49.8%) - Cleaned: 240, Failed: 0\n",
      "Progress: 250/482 (51.9%) - Cleaned: 250, Failed: 0\n",
      "Progress: 260/482 (53.9%) - Cleaned: 260, Failed: 0\n",
      "Progress: 270/482 (56.0%) - Cleaned: 270, Failed: 0\n",
      "Progress: 280/482 (58.1%) - Cleaned: 280, Failed: 0\n",
      "Progress: 290/482 (60.2%) - Cleaned: 290, Failed: 0\n",
      "Progress: 300/482 (62.2%) - Cleaned: 300, Failed: 0\n",
      "Progress: 310/482 (64.3%) - Cleaned: 310, Failed: 0\n",
      "Progress: 320/482 (66.4%) - Cleaned: 320, Failed: 0\n",
      "Progress: 330/482 (68.5%) - Cleaned: 330, Failed: 0\n",
      "Progress: 340/482 (70.5%) - Cleaned: 340, Failed: 0\n",
      "Progress: 350/482 (72.6%) - Cleaned: 350, Failed: 0\n",
      "Progress: 360/482 (74.7%) - Cleaned: 360, Failed: 0\n",
      "Progress: 370/482 (76.8%) - Cleaned: 370, Failed: 0\n",
      "Progress: 380/482 (78.8%) - Cleaned: 380, Failed: 0\n",
      "Progress: 390/482 (80.9%) - Cleaned: 390, Failed: 0\n",
      "Progress: 400/482 (83.0%) - Cleaned: 400, Failed: 0\n",
      "Progress: 410/482 (85.1%) - Cleaned: 410, Failed: 0\n",
      "Progress: 420/482 (87.1%) - Cleaned: 420, Failed: 0\n",
      "Progress: 430/482 (89.2%) - Cleaned: 430, Failed: 0\n",
      "Progress: 440/482 (91.3%) - Cleaned: 440, Failed: 0\n",
      "Progress: 450/482 (93.4%) - Cleaned: 450, Failed: 0\n",
      "Progress: 460/482 (95.4%) - Cleaned: 460, Failed: 0\n",
      "Progress: 470/482 (97.5%) - Cleaned: 470, Failed: 0\n",
      "Progress: 480/482 (99.6%) - Cleaned: 480, Failed: 0\n",
      "Progress: 482/482 (100.0%) - Cleaned: 482, Failed: 0\n",
      "\n",
      "DRY RUN Summary:\n",
      "  Total profiles processed: 482\n",
      "  Successfully would be cleaned: 482\n",
      "  Failed: 0\n"
     ]
    },
    {
     "data": {
      "text/plain": [
       "482"
      ]
     },
     "execution_count": 6,
     "metadata": {},
     "output_type": "execute_result"
    }
   ],
   "source": [
    "# Alternative: Clean embeddings one by one with progress tracking\n",
    "def clean_embeddings_with_progress(dry_run=True):\n",
    "    \"\"\"\n",
    "    Clean embeddings one by one with detailed progress tracking.\n",
    "    \n",
    "    Args:\n",
    "        dry_run (bool): If True, only shows what would be cleaned without making changes.\n",
    "    \"\"\"\n",
    "    profiles_with_embeddings = ServiceProviderProfile.objects.exclude(profile_embedding__isnull=True)\n",
    "    total = profiles_with_embeddings.count()\n",
    "    \n",
    "    if total == 0:\n",
    "        print(\"No profiles with embeddings found.\")\n",
    "        return 0\n",
    "    \n",
    "    print(f\"{'DRY RUN: ' if dry_run else ''}Processing {total} profiles...\")\n",
    "    \n",
    "    cleaned = 0\n",
    "    failed = 0\n",
    "    \n",
    "    for i, profile in enumerate(profiles_with_embeddings, 1):\n",
    "        try:\n",
    "            if not dry_run:\n",
    "                profile.profile_embedding = None\n",
    "                profile.save(update_fields=['profile_embedding'])\n",
    "            \n",
    "            cleaned += 1\n",
    "            \n",
    "            # Print progress every 10 profiles or at the end\n",
    "            if i % 10 == 0 or i == total:\n",
    "                print(f\"Progress: {i}/{total} ({(i/total)*100:.1f}%) - Cleaned: {cleaned}, Failed: {failed}\")\n",
    "                \n",
    "        except Exception as e:\n",
    "            failed += 1\n",
    "            print(f\"Failed to clean profile ID {profile.id}: {str(e)}\")\n",
    "    \n",
    "    print(f\"\\n{'DRY RUN ' if dry_run else ''}Summary:\")\n",
    "    print(f\"  Total profiles processed: {total}\")\n",
    "    print(f\"  Successfully {'would be ' if dry_run else ''}cleaned: {cleaned}\")\n",
    "    print(f\"  Failed: {failed}\")\n",
    "    \n",
    "    return cleaned\n",
    "\n",
    "# Dry run with progress tracking\n",
    "clean_embeddings_with_progress(dry_run=True)"
   ]
  },
  {
   "cell_type": "code",
   "execution_count": null,
   "metadata": {},
   "outputs": [],
   "source": [
    "# ACTUAL CLEANING with progress tracking\n",
    "# WARNING: This will permanently delete all embedding data!\n",
    "# Uncomment the line below to actually perform the cleaning\n",
    "\n",
    "# cleaned_count = clean_embeddings_with_progress(dry_run=False)"
   ]
  },
  {
   "cell_type": "code",
   "execution_count": 7,
   "metadata": {},
   "outputs": [
    {
     "name": "stdout",
     "output_type": "stream",
     "text": [
      "Verification Results:\n",
      "==================================================\n",
      "Total profiles: 482\n",
      "Profiles WITH embeddings: 482\n",
      "Profiles WITHOUT embeddings: 0\n",
      "\n",
      "⚠️  482 profiles still have embeddings\n"
     ]
    },
    {
     "data": {
      "text/plain": [
       "False"
      ]
     },
     "execution_count": 7,
     "metadata": {},
     "output_type": "execute_result"
    }
   ],
   "source": [
    "# Verify cleaning results\n",
    "def verify_cleaning():\n",
    "    \"\"\"\n",
    "    Verify that embeddings have been cleaned.\n",
    "    \"\"\"\n",
    "    total_profiles = ServiceProviderProfile.objects.count()\n",
    "    profiles_with_embeddings = ServiceProviderProfile.objects.exclude(profile_embedding__isnull=True).count()\n",
    "    profiles_without_embeddings = ServiceProviderProfile.objects.filter(profile_embedding__isnull=True).count()\n",
    "    \n",
    "    print(\"Verification Results:\")\n",
    "    print(\"=\" * 50)\n",
    "    print(f\"Total profiles: {total_profiles}\")\n",
    "    print(f\"Profiles WITH embeddings: {profiles_with_embeddings}\")\n",
    "    print(f\"Profiles WITHOUT embeddings: {profiles_without_embeddings}\")\n",
    "    \n",
    "    if profiles_with_embeddings == 0:\n",
    "        print(\"\\n✅ All embeddings have been successfully cleaned!\")\n",
    "    else:\n",
    "        print(f\"\\n⚠️  {profiles_with_embeddings} profiles still have embeddings\")\n",
    "    \n",
    "    return profiles_with_embeddings == 0\n",
    "\n",
    "verify_cleaning()"
   ]
  },
  {
   "cell_type": "code",
   "execution_count": null,
   "metadata": {},
   "outputs": [],
   "source": [
    "# EXECUTE CLEANING - Run this cell to actually clean all embeddings\n",
    "# This cell is ready to run and will clean all embeddings when executed\n",
    "\n",
    "confirm = input(\"Are you sure you want to delete ALL embeddings? Type 'yes' to confirm: \")\n",
    "\n",
    "if confirm.lower() == 'yes':\n",
    "    print(\"\\n🔄 Starting embedding cleanup...\")\n",
    "    cleaned_count = clean_embeddings(dry_run=False)\n",
    "    print(f\"\\n✅ Complete! Cleaned {cleaned_count} embeddings.\")\n",
    "    \n",
    "    # Verify the results\n",
    "    print(\"\\n\" + \"=\"*50)\n",
    "    verify_cleaning()\n",
    "else:\n",
    "    print(\"❌ Cleaning cancelled. No changes were made.\")"
   ]
  },
  {
   "cell_type": "code",
   "execution_count": null,
   "metadata": {},
   "outputs": [],
   "source": [
    "# Optional: Clean embeddings for specific profiles by ID\n",
    "def clean_specific_profiles(profile_ids, dry_run=True):\n",
    "    \"\"\"\n",
    "    Clean embeddings for specific profiles by their IDs.\n",
    "    \n",
    "    Args:\n",
    "        profile_ids (list): List of profile IDs to clean\n",
    "        dry_run (bool): If True, only shows what would be cleaned\n",
    "    \"\"\"\n",
    "    profiles = ServiceProviderProfile.objects.filter(id__in=profile_ids)\n",
    "    found_count = profiles.count()\n",
    "    \n",
    "    print(f\"Found {found_count} profiles out of {len(profile_ids)} requested IDs\")\n",
    "    \n",
    "    cleaned = 0\n",
    "    for profile in profiles:\n",
    "        if profile.profile_embedding is not None:\n",
    "            print(f\"{'Would clean' if dry_run else 'Cleaning'} embedding for profile ID {profile.id} ({profile.name})\")\n",
    "            if not dry_run:\n",
    "                profile.profile_embedding = None\n",
    "                profile.save(update_fields=['profile_embedding'])\n",
    "            cleaned += 1\n",
    "        else:\n",
    "            print(f\"Profile ID {profile.id} ({profile.name}) has no embedding to clean\")\n",
    "    \n",
    "    print(f\"\\n{'Would clean' if dry_run else 'Cleaned'} {cleaned} embeddings\")\n",
    "    return cleaned\n",
    "\n",
    "# Example usage (uncomment and modify IDs as needed):\n",
    "# clean_specific_profiles([1, 2, 3], dry_run=True)"
   ]
  }
 ],
 "metadata": {
  "kernelspec": {
   "display_name": "growbal",
   "language": "python",
   "name": "python3"
  },
  "language_info": {
   "codemirror_mode": {
    "name": "ipython",
    "version": 3
   },
   "file_extension": ".py",
   "mimetype": "text/x-python",
   "name": "python",
   "nbconvert_exporter": "python",
   "pygments_lexer": "ipython3",
   "version": "3.11.11"
  }
 },
 "nbformat": 4,
 "nbformat_minor": 4
}
