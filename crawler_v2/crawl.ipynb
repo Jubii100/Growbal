{
 "cells": [
  {
   "cell_type": "code",
   "execution_count": 1,
   "id": "51f781b8",
   "metadata": {},
   "outputs": [],
   "source": [
    "import requests\n",
    "import json\n",
    "# from langchain_openai import ChatOpenAI\n",
    "from langchain_anthropic import ChatAnthropic\n",
    "from anthropic._exceptions import OverloadedError\n",
    "import os\n",
    "from pydantic import BaseModel, Field, model_validator\n",
    "from typing import List, Dict, Any\n",
    "from langchain_core.prompts import ChatPromptTemplate\n",
    "import os\n",
    "from bs4 import BeautifulSoup\n",
    "import re\n",
    "from bs4 import BeautifulSoup\n",
    "import re\n",
    "from pydantic import Field\n",
    "# from __future__ import print_function\n",
    "# from IPython.display import display\n",
    "from typing import Optional\n",
    "from utils import Country, ProviderType\n",
    "import anthropic\n",
    "import time\n",
    "from dotenv import load_dotenv\n",
    "# import traceback\n",
    "\n",
    "# llm_model = os.environ[\"LLM_VERSION\"]\n",
    "\n",
    "# HTML Slicing Pipeline Models and Functions\n",
    "class Slice(BaseModel):\n",
    "    start: int = Field(..., ge=0)\n",
    "    end: int = Field(..., ge=0)\n",
    "\n",
    "class SliceSet(BaseModel):\n",
    "    slices: List[Slice] = Field(default_factory=list)\n",
    "\n",
    "# --- Simple, robust JSON extraction and slicing ---\n",
    "\n",
    "# Logging utilities\n",
    "def _resolve_base_dir() -> str:\n",
    "    candidates = [os.getcwd(), os.path.dirname(os.getcwd())]\n",
    "    for c in candidates:\n",
    "        # Prefer a direct prompts folder in the current dir\n",
    "        if os.path.isdir(os.path.join(c, \"prompts\")):\n",
    "            return c\n",
    "    return os.getcwd()\n",
    "\n",
    "BASE_DIR = _resolve_base_dir()\n",
    "LOG_DIR = os.path.join(BASE_DIR, \"logs\")\n",
    "os.makedirs(LOG_DIR, exist_ok=True)\n",
    "\n",
    "def _write_log(filename: str, content: str) -> str:\n",
    "    \"\"\"Write log content to file, overwriting on each run\"\"\"\n",
    "    path = os.path.join(LOG_DIR, filename)\n",
    "    with open(path, \"w\", encoding=\"utf-8\") as f:\n",
    "        f.write(content)\n",
    "    return path\n",
    "\n",
    "def _append_log(filename: str, content: str) -> str:\n",
    "    \"\"\"Append log content to file\"\"\"\n",
    "    path = os.path.join(LOG_DIR, filename)\n",
    "    with open(path, \"a\", encoding=\"utf-8\") as f:\n",
    "        f.write(content + \"\\n\")\n",
    "    return path\n",
    "\n",
    "def join_slices(html_content: str, slice_set: SliceSet) -> str:\n",
    "    \"\"\"Extract slices from HTML content based on SliceSet\"\"\"\n",
    "    if not slice_set.slices:\n",
    "        return \"\"\n",
    "    lines = html_content.split('\\n')\n",
    "    chunks: List[str] = []\n",
    "    for sl in slice_set.slices:\n",
    "        a = max(0, sl.start)\n",
    "        b = min(len(lines) - 1, sl.end)\n",
    "        if a <= b:\n",
    "            chunks.append('\\n'.join(lines[a:b+1]))\n",
    "    return '\\n\\n'.join(chunks)\n",
    "\n",
    "def get_relevant_html(html_content: str) -> str:\n",
    "    \"\"\"Generate relevant HTML by chunking large input, calling the slice model per chunk, and joining slices.\"\"\"\n",
    "    model = \"claude-3-haiku-20240307\"\n",
    "    max_html_tokens = 9000\n",
    "    # Approximate max characters per chunk for the model\n",
    "    max_chars = max_html_tokens * 4\n",
    "    final_html_parts: List[str] = []\n",
    "\n",
    "    if not html_content:\n",
    "        return \"\"\n",
    "\n",
    "    content_len = len(html_content)\n",
    "    start_index = 0\n",
    "\n",
    "    while start_index < content_len:\n",
    "        end_index = min(start_index + max_chars, content_len)\n",
    "        # Prefer to split on a newline near the end of the window to keep line indices stable\n",
    "        if end_index < content_len:\n",
    "            cutoff = html_content.rfind('\\n', start_index, end_index)\n",
    "            if cutoff != -1 and cutoff >= start_index + int(max_chars * 0.9):\n",
    "                end_index = cutoff\n",
    "\n",
    "        partial_html_content = html_content[start_index:end_index]\n",
    "\n",
    "        # Number lines for the model to reference when proposing slices\n",
    "        lines = partial_html_content.splitlines()\n",
    "        marked = [f\"⟦L{i:03}⟧ {line}\" for i, line in enumerate(lines)]\n",
    "        marked_html = \"\\n\".join(marked)\n",
    "\n",
    "        t1 = time.time()\n",
    "        prompt_template = ChatPromptTemplate.from_messages([\n",
    "            (\"system\", load_prompt(\"generate_slices\")),\n",
    "            (\"human\", \"Generate a list of slice pairs indicating the relevant lines of the HTML content.\")\n",
    "        ])\n",
    "        result = call_llm(\n",
    "            model=model,\n",
    "            prompt_template=prompt_template,\n",
    "            input_dict={\"html_content\": marked_html},\n",
    "            structured_output=SliceSet,\n",
    "            temperature=0,\n",
    "            prompt_name=f\"generate_slices_{start_index}-{end_index}\",\n",
    "        )\n",
    "        dt = time.time() - t1\n",
    "        print(f\"Slice LLM took {dt:.2f}s. Produced {len(result.slices)} slices.\")\n",
    "\n",
    "        # Accumulate slices for this chunk\n",
    "        final_html_parts.append(join_slices(partial_html_content, result))\n",
    "\n",
    "        # Advance safely to the next chunk; skip the split newline if present\n",
    "        if end_index < content_len and html_content[end_index:end_index+1] == \"\\n\":\n",
    "            start_index = end_index + 1\n",
    "        else:\n",
    "            start_index = end_index\n",
    "\n",
    "        # Safety guard to avoid infinite loops\n",
    "        if start_index <= 0:\n",
    "            break\n",
    "\n",
    "    final_html = \"\\n\\n\".join([part for part in final_html_parts if part])\n",
    "    return final_html\n",
    "\n",
    "# search_starters = [\"Digital Marketing Firm\", \"Tax Consultancy Firm\", \"Cybersecurity Firm\", \"Legal Services Provider\", \"Healthcare Consultancy\"]\n",
    "\n",
    "# search_starters = [\"Company formation service UAE\", \"Business formation service MENA\", \"Business registration services Gulf\", \"Business setup services Dubai\", \"Investment migration services UAE\", \"Second passport services\", \"Citizenship By investment\", \"economic passport services\", \"Golden Visa services\", \"Tax services UAE\", \"Tax Consultancy Firm Dubai\", \"Tax Calculation Services Dubai\"]\n",
    "\n",
    "class ResultRelevance(BaseModel):\n",
    "    explanation: str = Field(description=\"Be extremely brief and concise with your explanation.\")\n",
    "    link: str\n",
    "\n",
    "class RelevanceCheckOutput(BaseModel):\n",
    "    most_relevant_result: Optional[ResultRelevance]\n",
    "\n",
    "class SqlCommand(BaseModel):\n",
    "    command: str\n",
    "\n",
    "\n",
    "class ServiceProviderMemberDetails(BaseModel):\n",
    "    name: str = Field(description=\"Very important. Find the name of the staff member from the CLEAN HTML content.\")\n",
    "    role_description: str = Field(description=\"Find the role description of the staff member from the CLEAN HTML content.\")\n",
    "    telephone: str = Field(description=\"Find the telephone number of the staff member from the CLEAN HTML content.\")\n",
    "    mobile: str = Field(description=\"Find the mobile number of the staff member from the CLEAN HTML content.\")\n",
    "    email: str = Field(description=\"Find the email address of the staff member from the CLEAN HTML content.\")\n",
    "    linkedin: Optional[str]\n",
    "    facebook: Optional[str]\n",
    "    instagram: Optional[str]\n",
    "    twitter: Optional[str]\n",
    "    additional_info: Optional[str]\n",
    "\n",
    "class ServiceProviderOutput(BaseModel):\n",
    "    service_title: Optional[str] = Field(description=\"Produce a suitable title for the service.\")\n",
    "    service_description: Optional[str] = Field(description=\"Do your due diligence on summarising the service description based on a holistic consideration of the scattered relevant service info throughout the entirety of the given CLEAN HTML content. Use a string, not a number. Null if unavailable.\")\n",
    "    rating_score: Optional[float] = Field(description=\"Must adhere to a rating standard out of 5. Must be a numeric rating score of type float. Use a number, not a string. Null if unavailable.\")\n",
    "    rating_description: Optional[str] = Field(description=\"Do your due diligence on summarising the rating description based on a holistic consideration of the scattered relevant rating info throughout the entirety of the given CLEAN HTML content. Use a string, not a number. Null if unavailable.\")\n",
    "    pricing: Optional[str]\n",
    "    service_tags: List[str] = Field(description=\"Do your due diligence on summarising the service tags based on a holistic consideration of the scattered relevant service info throughout the entirety of the given CLEAN HTML content. Null if unavailable.\")\n",
    "    provider_type: ProviderType = Field(\"Company\", description=\"ProviderType enum. Should be Company if the provider is a company or Agent if the provider is an agent.\")\n",
    "    # provider_type: ProviderType = Field(description=\"ProviderType enum. Should be Company if the provider is a company or Agent if the provider is an agent.\")\n",
    "    country: Optional[Country] = Field(description=\"Country enum.\")\n",
    "    name: Optional[str] = Field(description=\"Very important. Find the name of the company from the CLEAN HTML content.\")\n",
    "    vision: Optional[str] = Field(description=\"A brief summary of the company/firm's vision statement from the CLEAN HTML content.\")\n",
    "    logo: Optional[str] = Field(description=\"Mandatory. Find the absolute URL for the company logo from the CLEAN HTML content.\")\n",
    "    website: Optional[str] = Field(description=\"Very important. Must find the website link of the company from the HTML content or infer it from the base website link address. Null if unavailable.\")\n",
    "    linkedin: Optional[str] = Field(description=\"Null if unavailable.\")\n",
    "    facebook: Optional[str] = Field(description=\"Null if unavailable.\")\n",
    "    instagram: Optional[str] = Field(description=\"Null if unavailable.\")\n",
    "    telephones: List[str] = Field([], description=\"Mandatory. Must find at least one telephone number. Field must be a list of telephone numbers or empty list.\")\n",
    "    mobiles: List[str] = Field([], description=\"Mandatory. Must find at least one mobile number. Field must be a list of mobile numbers or empty list.\")\n",
    "    emails: List[str] = Field(\n",
    "        [], description=\"Mandatory. Must find at least one email address of the company from the HTML content. Field must be a list of email addresses or empty list.\"\n",
    "    )\n",
    "    # emails: List[str] = Field(description=\"Very very important. Must find at least one email address of the company from the HTML content. Output must be a list of email addresses.\")\n",
    "    office_locations: Optional[str] = Field(description=\"Detailed address locations of the company offices eg. 123 Main St, City, Country, or description if address is not available. Null if unavailable.\")\n",
    "    key_individuals: Optional[str] = Field(description=\"Names and role descriptions of key people of the company. Null if unavailable.\")\n",
    "    representatives: Optional[str] = Field(description=\"Names and roles and contact details of representatives of the company. Null if unavailable.\")\n",
    "    # service_provider_member_details: Optional[List[ServiceProviderMemberDetails]]\n",
    "\n",
    "class SearchTermOutput(BaseModel):\n",
    "    search_term: str\n",
    "\n",
    "class AboutUsOutput(BaseModel):\n",
    "    about_us_link: Optional[List[str]]\n",
    "\n",
    "def call_llm(\n",
    "    model = \"claude-3-5-sonnet-20241022\",\n",
    "    API_key = None,\n",
    "    prompt_template = None,\n",
    "    input_dict = None,\n",
    "    structured_output = None,\n",
    "    temperature = 0,\n",
    "    prompt_name = None,\n",
    "):\n",
    "    if API_key is None:\n",
    "        API_key = os.getenv(\"ANTHROPIC_API_KEY\")\n",
    "    if not API_key:\n",
    "        raise RuntimeError(\"Missing ANTHROPIC_API_KEY. Set it or pass API_key.\")\n",
    "    if prompt_template is None:\n",
    "        raise ValueError(\"Prompt template is required\")\n",
    "    if input_dict is None:\n",
    "        raise ValueError(\"Input dictionary is required\")\n",
    "    if structured_output is None:\n",
    "        raise ValueError(\"Structured output is required\")\n",
    "    \n",
    "    # Log Anthropic prompt\n",
    "    if prompt_name:\n",
    "        try:\n",
    "            # Format the prompt to see what will be sent\n",
    "            formatted_messages = prompt_template.invoke(input_dict)\n",
    "            _write_log(f\"anthropic_{prompt_name}_prompt.txt\", \n",
    "                f\"MODEL: {model}\\nTEMPERATURE: {temperature}\\n--- FORMATTED PROMPT ---\\n{formatted_messages}\")\n",
    "        except Exception as e:\n",
    "            print(f\"Error logging Anthropic prompt: {e}\")\n",
    "    \n",
    "    llm = ChatAnthropic(\n",
    "        model=model,\n",
    "        anthropic_api_key=API_key, temperature=temperature).with_structured_output(structured_output)\n",
    "    llm_chain = prompt_template | llm\n",
    "    llm_chain = llm_chain.with_retry(\n",
    "        retry_if_exception_type=(OverloadedError,),\n",
    "        wait_exponential_jitter=True,    \n",
    "        stop_after_attempt=6\n",
    "    )\n",
    "    \n",
    "    t0 = time.time()\n",
    "    result = llm_chain.invoke(input_dict)\n",
    "    dt = time.time() - t0\n",
    "    \n",
    "    # Log Anthropic response\n",
    "    if prompt_name:\n",
    "        try:\n",
    "            response_content = json.dumps(result.dict() if hasattr(result, 'dict') else result.__dict__, ensure_ascii=False, indent=2)\n",
    "            _append_log(f\"anthropic_{prompt_name}_prompt.txt\", \n",
    "                       f\"\\n--- ANTHROPIC RESPONSE ({dt:.2f}s) ---\\n{response_content}\")\n",
    "        except Exception as e:\n",
    "            _append_log(f\"anthropic_{prompt_name}_prompt.txt\", \n",
    "                       f\"\\n--- ANTHROPIC RESPONSE ({dt:.2f}s) ---\\n{str(result)}\")\n",
    "    \n",
    "    return result\n",
    "\n",
    "def search_serper(search_query):\n",
    "    url = \"https://google.serper.dev/search\"\n",
    "    \n",
    "    payload = json.dumps({\n",
    "        \"q\": search_query,\n",
    "        \"gl\": \"ae\", \n",
    "        \"num\": 10,\n",
    "        # \"tbs\": \"qdr:w\"\n",
    "    })\n",
    "\n",
    "    headers = {\n",
    "        'X-API-KEY': os.environ[\"SERPER_API_KEY\"],\n",
    "        'Content-Type': 'application/json'\n",
    "    }\n",
    "\n",
    "    response = requests.request(\"POST\", url, headers=headers, data=payload, timeout=(3,4))\n",
    "    results = json.loads(response.text)\n",
    "    results_list = results['organic']\n",
    "\n",
    "    all_results = []\n",
    "    for id, result in enumerate(results_list, 1):\n",
    "        result_dict = {\n",
    "            'title': result['title'],\n",
    "            'link': result['link'],\n",
    "            'snippet': result['snippet'],\n",
    "            'search_term': search_query,\n",
    "            'id': id\n",
    "        }\n",
    "        all_results.append(result_dict)\n",
    "    return all_results\n",
    "\n",
    "\n",
    "def load_prompt(prompt_name):\n",
    "    with open(f\"prompts/{prompt_name}.md\", \"r\") as f:\n",
    "        return f.read()\n",
    "\n",
    "\n",
    "def check_search_relevance(search_term: str, search_results: Dict[str, Any]) -> RelevanceCheckOutput:\n",
    "    prompt = load_prompt(\"relevance_check_one_link\")\n",
    "    \n",
    "    prompt_template = ChatPromptTemplate.from_messages([\n",
    "        (\"system\", prompt),\n",
    "        (\"human\", f\"Check relevance of search results to the given search term (but most importantly make sure it is the actual company's official website, not a search facilitator website or other service of that sort): {search_term}\")\n",
    "    ])\n",
    "    \n",
    "    return call_llm(model = \"claude-3-haiku-20240307\", prompt_template = prompt_template, input_dict = {\"search_term\": search_term, 'search_results': search_results}, structured_output = RelevanceCheckOutput, temperature=0, prompt_name=\"relevance_check_one_link\")\n",
    "\n",
    "\n",
    "def convert_html_to_markdown(html_content):\n",
    "    soup = BeautifulSoup(html_content, 'html.parser')\n",
    "    \n",
    "    # Headers\n",
    "    for h in soup.find_all(['h1', 'h2', 'h3', 'h4', 'h5', 'h6']):\n",
    "        level = int(h.name[1])\n",
    "        h.replace_with('#' * level + ' ' + h.get_text() + '\\n\\n')\n",
    "    \n",
    "    # Links\n",
    "    for a in soup.find_all('a'):\n",
    "        href = a.get('href', '')\n",
    "        text = a.get_text()\n",
    "        if href and text:\n",
    "            a.replace_with(f'[{text}]({href})')\n",
    "    \n",
    "    # Bold\n",
    "    for b in soup.find_all(['b', 'strong']):\n",
    "        b.replace_with(f'**{b.get_text()}**')\n",
    "    \n",
    "    # Italic\n",
    "    for i in soup.find_all(['i', 'em']):\n",
    "        i.replace_with(f'*{i.get_text()}*')\n",
    "    \n",
    "    # Lists\n",
    "    for ul in soup.find_all('ul'):\n",
    "        for li in ul.find_all('li'):\n",
    "            li.replace_with(f'- {li.get_text()}\\n')\n",
    "    \n",
    "    for ol in soup.find_all('ol'):\n",
    "        for i, li in enumerate(ol.find_all('li'), 1):\n",
    "            li.replace_with(f'{i}. {li.get_text()}\\n')\n",
    "    \n",
    "    # Get text and clean up\n",
    "    text = soup.get_text()\n",
    "    \n",
    "    # Remove excess whitespace/newlines\n",
    "    text = re.sub(r'\\n\\s*\\n', '\\n\\n', text)\n",
    "    text = text.strip()\n",
    "    \n",
    "    return text\n",
    "\n",
    "def scrape_and_save_markdown(relevant_results):\n",
    "    markdown_contents = []\n",
    "    for result in relevant_results:\n",
    "        if 'link' in result:\n",
    "            payload = {\n",
    "                \"api_key\": os.environ[\"SCRAPING_API_KEY\"], \n",
    "                \"url\": result['link'],\n",
    "                \"render_js\": \"true\"\n",
    "            }\n",
    "\n",
    "            response = requests.get(\"https://scraping.narf.ai/api/v1/\", params=payload)\n",
    "            if response.status_code == 200:\n",
    "                markdown_content = convert_html_to_markdown(response.content.decode())\n",
    "                \n",
    "                markdown_contents.append({\n",
    "                    'url': result['link'],\n",
    "                    'markdown': markdown_content,\n",
    "                    'title': result.get('title', ''),\n",
    "                    'id': result.get('id', '')\n",
    "                })\n",
    "            else:\n",
    "                print(f\"Failed to fetch {result['link']}: Status code {response.status_code}\")\n",
    "\n",
    "    print(f\"Successfully downloaded and saved {len(markdown_contents)} pages as markdown\")\n",
    "    return markdown_contents\n",
    "\n",
    "\n",
    "\n",
    "\n",
    "from scrapper import HtmlScraper\n",
    "import tiktoken\n",
    "import string\n",
    "import secrets\n",
    "\n",
    "import os\n",
    "import django\n",
    "import sys\n",
    "from asgiref.sync import sync_to_async\n",
    "from urllib.parse import urlparse\n",
    "from django.core.validators import validate_email, URLValidator\n",
    "from django.core.exceptions import ValidationError\n",
    "\n",
    "sys.path.insert(0, '../growbal_django')\n",
    "\n",
    "os.environ.setdefault(\"DJANGO_SETTINGS_MODULE\", \"growbal.settings\")\n",
    "\n",
    "django.setup()\n",
    "\n",
    "from services.models import Service\n",
    "from services.serializers import ServiceSerializer\n",
    "from accounts.serializers import ServiceProviderProfileSerializer\n",
    "from accounts.models import CustomUser, ServiceProviderProfile\n",
    "from asgiref.sync import sync_to_async\n",
    "# from django.db import transaction\n",
    "from scraper.models import Scrape          # adjust import path as needed\n",
    "from scraper.serializers import ScrapeSerializer\n",
    "# from django.core.files import File\n",
    "\n",
    "def validate_emails(email_list):\n",
    "    valid_emails = []\n",
    "    for email in email_list:\n",
    "        try:\n",
    "            validate_email(email)\n",
    "            valid_emails.append(email)\n",
    "        except ValidationError:\n",
    "            error_message = f\"Error validating email {email}\"\n",
    "            print(error_message)\n",
    "            with open(os.environ[\"LOG_FILE_PATH\"], \"a\") as log_file:\n",
    "                log_file.write(error_message + \"\\n\")\n",
    "    return valid_emails\n",
    "\n",
    "\n",
    "_url_validator = URLValidator()\n",
    "def validate_url(raw_url: str | None) -> bool:\n",
    "    if not raw_url:\n",
    "        return False\n",
    "\n",
    "    raw_url = raw_url.strip()\n",
    "    if not urlparse(raw_url).scheme:\n",
    "        raw_url = \"http://\" + raw_url\n",
    "\n",
    "    try:\n",
    "        _url_validator(raw_url)\n",
    "        return True\n",
    "    except ValidationError:\n",
    "        return False\n",
    "\n",
    "\n",
    "@sync_to_async\n",
    "def get_or_create_user(name=None, email=None, username=None, password=None):\n",
    "    user, created = CustomUser.objects.get_or_create_user(\n",
    "        name=name,\n",
    "        email=email,\n",
    "        username=username,\n",
    "        password=password\n",
    "    )\n",
    "    return user, created\n",
    "\n",
    "@sync_to_async\n",
    "def create_service(data):\n",
    "    serializer = ServiceSerializer(data=data)\n",
    "    if serializer.is_valid():\n",
    "        service = serializer.save()\n",
    "        return service\n",
    "    else:\n",
    "        error_message = f\"Error validating service data {serializer.errors}\"\n",
    "        print(error_message)\n",
    "        with open(os.environ[\"LOG_FILE_PATH\"], \"a\") as log_file:\n",
    "            log_file.write(error_message + \"\\n\")\n",
    "\n",
    "@sync_to_async\n",
    "def create_service_provider_profile(data):\n",
    "    serializer = ServiceProviderProfileSerializer(data=data)\n",
    "    if serializer.is_valid():\n",
    "        profile = serializer.save()\n",
    "        return profile\n",
    "    else:\n",
    "        error_message = f\"Error validating service provider profile data {serializer.errors}\"\n",
    "        print(error_message)\n",
    "        with open(os.environ[\"LOG_FILE_PATH\"], \"a\") as log_file:\n",
    "            log_file.write(error_message + \"\\n\")\n",
    "        # raise ValueError(serializer.errors)\n",
    "\n",
    "@sync_to_async\n",
    "def create_scrape(data):\n",
    "    serializer = ScrapeSerializer(data=data)\n",
    "    if serializer.is_valid():\n",
    "        scrape = serializer.save()\n",
    "        return scrape\n",
    "    else:\n",
    "        error_message = f\"Error validating scrape data {serializer.errors}\"\n",
    "        print(error_message)\n",
    "        with open(os.environ[\"LOG_FILE_PATH\"], \"a\") as log_file:\n",
    "            log_file.write(error_message + \"\\n\")\n",
    "        # raise ValueError(serializer.errors)\n",
    "\n",
    "@sync_to_async\n",
    "def check_similar_scrapes(base_url):\n",
    "    return Scrape.check_similar_base_url(base_url=base_url)\n",
    "\n",
    "def generate_password(length=8):\n",
    "    characters = string.ascii_letters + string.digits + string.punctuation\n",
    "    password = ''.join(secrets.choice(characters) for _ in range(length))\n",
    "    return password\n",
    "\n",
    "# def count_tokens(text, model=\"gpt-4\"):\n",
    "#     encoding = tiktoken.encoding_for_model(model)\n",
    "#     tokens = encoding.encode(text)\n",
    "#     return len(tokens)\n",
    "\n",
    "anthropic_client = anthropic.Anthropic()\n",
    "\n",
    "def count_tokens(text, model=\"claude-3-5-sonnet-20241022\", system_prompt=\"\"):\n",
    "    messages = [{\"role\": \"user\", \"content\": text}]\n",
    "    \n",
    "    response = anthropic_client.messages.count_tokens(\n",
    "        model=model,\n",
    "        system=system_prompt,\n",
    "        messages=messages\n",
    "    )\n",
    "\n",
    "    return response.input_tokens\n",
    "\n",
    "scraper = HtmlScraper(scraping_api_key=os.environ[\"SCRAPING_API_KEY\"])\n",
    "\n",
    "async def process_relevant_links(relevant_link, row_dict):\n",
    "    if await check_similar_scrapes(relevant_link.link):\n",
    "        return\n",
    "    else:\n",
    "        print(f\"Processing {relevant_link.link}\")\n",
    "        \n",
    "        nav_html_list = []\n",
    "        try:\n",
    "                num_tokens_allowed = 30000\n",
    "                i = 1\n",
    "                clean_html_sum_links = []\n",
    "                clean_html_sum = \"\"\n",
    "\n",
    "                try:\n",
    "                    print(\"----------BASE PAGE----------\")\n",
    "                    print(relevant_link.link)\n",
    "                    nav_html_content_base = scraper.scrape_html_base(relevant_link.link)\n",
    "                    \n",
    "                    # Log raw scraped HTML for base page\n",
    "                    if nav_html_content_base:\n",
    "                        _write_log(\"base_raw_scraped_base_html.txt\", nav_html_content_base)\n",
    "                    \n",
    "                    clean_text, clean_html = scraper.clean_html_content(nav_html_content_base)\n",
    "                    print(f\"clean_text: {count_tokens(clean_text)} tokens\")\n",
    "                    print(f\"clean_html: {count_tokens(clean_html)} tokens\")\n",
    "\n",
    "                    sliced_html = get_relevant_html(clean_html)\n",
    "                    _write_log(\"sliced_html.txt\", sliced_html)\n",
    "                    print(f\"sliced_html: {count_tokens(sliced_html)} tokens\")\n",
    "                    \n",
    "                    clean_html_sum += f\"CLEAN HTML PAGE {i}: ({relevant_link.link})\\n\\n\"\n",
    "                    clean_html_sum += sliced_html + \"\\n\\n\"\n",
    "                    clean_html_sum_links.append(relevant_link.link)\n",
    "\n",
    "\n",
    "                    if nav_html_content_base:\n",
    "                        nav_html_list.append(nav_html_content_base)\n",
    "                except Exception as e:\n",
    "                    error_message = f\"Error processing base page: {e}\"\n",
    "                    print(error_message)\n",
    "                    with open(os.environ[\"LOG_FILE_PATH\"], \"a\") as log_file:\n",
    "                        log_file.write(error_message + \"\\n\")\n",
    "\n",
    "                nav_links = []\n",
    "                if len(nav_html_list) == 0 or not nav_html_list[0]: \n",
    "                    return\n",
    "                for html_content in nav_html_list:\n",
    "                    try:\n",
    "                        nav_links.extend(scraper.get_nav_links(html_content))\n",
    "                    except Exception as e:\n",
    "                        error_message = f\"Error processing nav links: {e}\"\n",
    "                        print(error_message)\n",
    "                        with open(os.environ[\"LOG_FILE_PATH\"], \"a\") as log_file:\n",
    "                            log_file.write(error_message + \"\\n\")\n",
    "                print(\"----------NAV LINKS----------\")\n",
    "                print(nav_links)\n",
    "                nav_links_str = \"\\n\".join([f\"{title}: {link}\" for title, link, _ in nav_links])\n",
    "\n",
    "                prompt = load_prompt(\"generate_about_us_link\")\n",
    "                prompt_template = ChatPromptTemplate.from_messages([\n",
    "                    (\"system\", prompt),\n",
    "                    (\"human\", f'Filter \"about us\" page, contact us page, services page, team page, or any similar page.')\n",
    "                ])\n",
    "                \n",
    "\n",
    "                result = call_llm(prompt_template = prompt_template, input_dict = {\"nav_links\": nav_links_str, \"base_url\": relevant_link.link}, structured_output = AboutUsOutput, temperature=0, prompt_name=\"generate_about_us_link\")\n",
    "                print(len(result.about_us_link))\n",
    "                print(result.about_us_link)\n",
    "                print(\"\\n\")\n",
    "                for i, link in enumerate(result.about_us_link):\n",
    "                    if link in clean_html_sum_links:\n",
    "                        continue\n",
    "                    if clean_html_sum and count_tokens(clean_html_sum) >= num_tokens_allowed:\n",
    "                        continue\n",
    "                    try:\n",
    "                        html_content = scraper.scrape_html_base(link)\n",
    "                        \n",
    "                        # Log raw scraped HTML for additional pages\n",
    "                        if html_content:\n",
    "                            _write_log(\"raw_scraped_additional_html.txt\", html_content)\n",
    "                        \n",
    "                        clean_text, clean_html = scraper.clean_html_content(html_content)\n",
    "\n",
    "                        print(f\"clean_text: {count_tokens(clean_text)} tokens\")\n",
    "                        print(f\"clean_html: {count_tokens(clean_html)} tokens\")\n",
    "                        \n",
    "                        if clean_html: print(f\"count_tokens(clean_html) {i} before approval: {count_tokens(clean_html)}\")\n",
    "                        else: print(f\"not clean_text {i} before approval: {clean_html}\")\n",
    "\n",
    "                        sliced_html = get_relevant_html(clean_html)\n",
    "                        print(f\"sliced_html: {count_tokens(sliced_html)} tokens\")\n",
    "                        clean_html_sum += f\"CLEAN HTML PAGE {i}: ({link})\\n\\n\"\n",
    "                        clean_html_sum += sliced_html + \"\\n\\n\"\n",
    "                        clean_html_sum_links.append(link)\n",
    "                        i += 1\n",
    "                    except Exception as e:\n",
    "                        error_message = f\"Error processing {link}: {e}\"\n",
    "                        print(error_message)\n",
    "                        with open(os.environ[\"LOG_FILE_PATH\"], \"a\") as log_file:\n",
    "                            log_file.write(error_message + \"\\n\")\n",
    "                \n",
    "                # print(\"##########PROPRIETARY DATA RECORD OF THE ORGANIZATION##########\\n\")\n",
    "                # print(str(row_dict))\n",
    "                # with open(os.environ[\"LOG_FILE_PATH\"], \"a\") as log_file:\n",
    "                #     log_file.write(\"PROPRIETARY DATA RECORD OF THE ORGANIZATION\\n\\n\" + str(row_dict) + \"\\n\\n\")\n",
    "                # html_appendex = \"PROPRIETARY DATA RECORD OF THE ORGANIZATION\\n\\n\" + str(row_dict)\n",
    "                clean_html_sum = clean_html_sum[:int((num_tokens_allowed*4)/2)]\n",
    "                if clean_html_sum != \"\":\n",
    "                    # Log the final clean HTML sum before field generation\n",
    "                    _write_log(\"final_clean_html_sum.txt\", clean_html_sum)\n",
    "                    \n",
    "                    prompt = load_prompt(\"generate_fields_with_email\")\n",
    "                    prompt_template = ChatPromptTemplate.from_messages([\n",
    "                        (\"system\", prompt),\n",
    "                        (\"human\", f\"Generate fields from the given HTML content.\")\n",
    "                    ])\n",
    "                    \n",
    "                    result = call_llm(prompt_template = prompt_template, input_dict = {\"html_content\": clean_html_sum, \"proprietary_data\": str(row_dict)}, structured_output = ServiceProviderOutput, temperature=0, prompt_name=\"generate_fields_with_email\")\n",
    "                    if result.emails == None:\n",
    "                        print(\"result.email is Null\")\n",
    "                        result.emails = []\n",
    "                    if result.telephones == None:\n",
    "                        print(\"result.telephones is Null\")\n",
    "                        result.telephones = []\n",
    "                    if result.mobiles == None:\n",
    "                        print(\"result.mobiles is Null\")\n",
    "                        result.mobiles = []\n",
    "                    if result.logo:\n",
    "                        try:\n",
    "                            result.logo = scraper.save_logo(result.logo)\n",
    "                        except Exception as e:\n",
    "                            error_message = f\"Error saving logo: {e}\"\n",
    "                            print(error_message)\n",
    "                            with open(os.environ[\"LOG_FILE_PATH\"], \"a\") as log_file:\n",
    "                                log_file.write(error_message + \"\\n\")\n",
    "                            result.logo = None\n",
    "\n",
    "                result.emails = validate_emails(result.emails)\n",
    "                if hasattr(result, 'name') and result.name and result.name != \"\":\n",
    "                    if hasattr(result, 'name') and result.name and result.name != \"\":\n",
    "                        user = None\n",
    "                        if validate_url(result.website):\n",
    "                            result.website = result.website.strip()\n",
    "                            if not urlparse(result.website).scheme:\n",
    "                                result.website = \"http://\" + result.website\n",
    "                            try:\n",
    "                                profile = await ServiceProviderProfile.objects.aget(website=result.website)\n",
    "                                if profile:\n",
    "                                    log_message = f\"Profile already exists for this website: {result.website}\"\n",
    "                                    print(log_message)\n",
    "                                    with open(os.environ[\"LOG_FILE_PATH\"], \"a\") as log_file:\n",
    "                                        log_file.write(log_message + \"\\n\")\n",
    "                                    user = profile.user\n",
    "                            except Exception as e:\n",
    "                                profile = None\n",
    "                                error_message = f\"Error getting profile from website: {e}\"\n",
    "                                print(error_message)\n",
    "                                with open(os.environ[\"LOG_FILE_PATH\"], \"a\") as log_file:\n",
    "                                    log_file.write(error_message + \"\\n\")\n",
    "                        else:\n",
    "                            result.website = None\n",
    "                        \n",
    "                        if not user and hasattr(result, 'emails') and result.emails and result.emails[0] != \"\":\n",
    "                            print(\"creating user with name and email\")\n",
    "                            user_email = result.emails[0]\n",
    "                            user_password = generate_password(8)\n",
    "                            user, created = await get_or_create_user(name=result.name, email=user_email, username=user_email, password=user_password)\n",
    "                            print(\"created user with email and name\")\n",
    "                        elif not user:\n",
    "                            user_password = generate_password(8)\n",
    "                            user, created = await get_or_create_user(name=result.name, password=user_password)\n",
    "                            print(\"created user with name only\")                        \n",
    "\n",
    "                        if user:\n",
    "                            # if not result.emails: result.emails = []\n",
    "                            try:\n",
    "                                profile = await ServiceProviderProfile.objects.aget(user_id=user.id)\n",
    "                            except ServiceProviderProfile.DoesNotExist:\n",
    "                                profile = None\n",
    "                                error_message = f\"Error profile does not exist!\"\n",
    "                                print(error_message)\n",
    "                                with open(os.environ[\"LOG_FILE_PATH\"], \"a\") as log_file:\n",
    "                                    log_file.write(error_message + \"\\n\")\n",
    "                            except Exception as e:\n",
    "                                profile = None\n",
    "                                error_message = f\"Error getting profile: {e}\"\n",
    "                                print(error_message)\n",
    "                                with open(os.environ[\"LOG_FILE_PATH\"], \"a\") as log_file:\n",
    "                                    log_file.write(error_message + \"\\n\")\n",
    "                            \n",
    "                            if not created and profile:\n",
    "                                data = {\n",
    "                                    \"provider_type\": result.provider_type[:50] if result.provider_type else profile.provider_type,\n",
    "                                    \"country\": result.country[:100] if result.country else profile.country,\n",
    "                                    \"session_status\": profile.session_status,\n",
    "                                    \"name\": result.name[:255] if result.name else profile.name,\n",
    "                                    \"vision\": result.vision or profile.vision,\n",
    "                                    \"website\": result.website if validate_url(result.website) else profile.website,\n",
    "                                    \"logo\": result.logo or profile.logo,\n",
    "                                    \"linkedin\": result.linkedin if validate_url(result.linkedin) else profile.linkedin,\n",
    "                                    \"facebook\": result.facebook if validate_url(result.facebook) else profile.facebook,\n",
    "                                    \"instagram\": result.instagram if validate_url(result.instagram) else profile.instagram,\n",
    "                                    \"telephones\": [x[:30] for x in result.telephones] if result.telephones else profile.telephones,\n",
    "                                    \"mobiles\": [x[:30] for x in result.mobiles] if result.mobiles else profile.mobiles,\n",
    "                                    \"emails\": result.emails if result.emails else profile.emails,\n",
    "                                    \"office_locations\": result.office_locations or profile.office_locations,\n",
    "                                    \"key_individuals\": result.key_individuals or profile.key_individuals,\n",
    "                                    \"representatives\": result.representatives or profile.representatives\n",
    "                                }\n",
    "                                saved_profile, created_profile = await ServiceProviderProfile.objects.aupdate_or_create(\n",
    "                                    user_id=user.id,             # lookup part – must stay unique\n",
    "                                    defaults=data            # values to update/insert\n",
    "                                )   \n",
    "                                print(f\"Profile updated: {saved_profile.name}\")\n",
    "                            else:\n",
    "                                data = {\n",
    "                                    \"user\": user.username,\n",
    "                                    \"provider_type\": result.provider_type[:50] if result.provider_type else None,\n",
    "                                    \"country\": result.country[:100] if result.country else None,\n",
    "                                    \"session_status\": \"inactive\",\n",
    "                                    \"name\": result.name[:255] if result.name else None,\n",
    "                                    \"vision\": result.vision,\n",
    "                                    \"website\": result.website if validate_url(result.website) else None,\n",
    "                                    \"logo\": result.logo,\n",
    "                                    \"linkedin\": result.linkedin if validate_url(result.linkedin) else None,\n",
    "                                    \"facebook\": result.facebook if validate_url(result.facebook) else None,\n",
    "                                    \"instagram\": result.instagram if validate_url(result.instagram) else None,\n",
    "                                    \"telephones\": [x[:30] for x in result.telephones] if result.telephones else [],\n",
    "                                    \"mobiles\": [x[:30] for x in result.mobiles] if result.mobiles else [],\n",
    "                                    \"emails\": result.emails,\n",
    "                                    \"office_locations\": result.office_locations,\n",
    "                                    \"key_individuals\": result.key_individuals,\n",
    "                                    \"representatives\": result.representatives\n",
    "                                }\n",
    "                                saved_profile = await create_service_provider_profile(data)\n",
    "                                print(f\"Profile created: {saved_profile.name}\")\n",
    "\n",
    "                            service_data_json = {\n",
    "                                \"profile\": saved_profile.id,\n",
    "                                \"service_title\": result.service_title[:255] if result.service_title else None,\n",
    "                                \"service_description\": result.service_description,\n",
    "                                \"service_tags\": result.service_tags,\n",
    "                                \"rating_score\": result.rating_score,\n",
    "                                \"rating_description\": result.rating_description,\n",
    "                                \"pricing\": result.pricing\n",
    "                            }\n",
    "                            # Direct async call (works in Jupyter/IPython):\n",
    "                            saved_service = await create_service(service_data_json)\n",
    "                            print(f\"Service created: {saved_service.service_title}\")\n",
    "                            scrape_data = {\n",
    "                                \"base_url\": relevant_link.link,\n",
    "                                \"provider\": saved_profile.id,\n",
    "                                \"service\": saved_service.id,\n",
    "                                \"cleaned_html\": clean_html_sum\n",
    "                            }\n",
    "                            saved_scrape = await create_scrape(scrape_data)\n",
    "                            print(f\"Scrape created: {saved_scrape.base_url}\")\n",
    "        except Exception as e:\n",
    "            # raise ValueError(e)\n",
    "            error_message = f\"Error processing {relevant_link.link}: {e}\"\n",
    "            print(error_message)\n",
    "            with open(os.environ[\"LOG_FILE_PATH\"], \"a\") as log_file:\n",
    "                log_file.write(error_message + \"\\n\")\n",
    "                # traceback.print_exc(file=log_file)\n",
    "\n",
    "import argparse\n",
    "import asyncio\n",
    "import pandas as pd\n",
    "\n",
    "async def main(env_path: str = \"../envs/1.env\") -> None:\n",
    "    print(load_dotenv(env_path))\n",
    "    print(f\"Loaded envs from {env_path}\")\n",
    "\n",
    "    with open(os.environ[\"LOG_FILE_PATH\"], \"w\") as log_file:\n",
    "        log_file.write(\"\")\n",
    "\n",
    "    missed_df = pd.DataFrame()\n",
    "    \n",
    "    # Create or overwrite the missed entries file with an empty CSV\n",
    "    missed_df_path = os.environ[\"MISSED_ENTRIES_PATH\"]\n",
    "    missed_df.to_csv(missed_df_path, index=False)\n",
    "    \n",
    "    df = pd.read_csv(os.environ[\"EMAIL_LIST_PATH\"])\n",
    "    df = df[['ORGANIZATION','INDUSTRY', 'WEBSITE', 'COUNTRY', 'CITY', 'FIRSTNAME', 'LASTNAME', 'EMAIL', 'LINKEDIN', 'DESIGNATION']]\n",
    "    df['ORGANIZATION_COPY'] = df['ORGANIZATION']\n",
    "    df = df.set_index('ORGANIZATION_COPY')\n",
    "    df = df.dropna(axis=1, how='all')\n",
    "    grouped = (\n",
    "        df.groupby(df.index)\n",
    "        .agg(lambda x: x.dropna().iloc[0] if x.notna().any() else None)\n",
    "    )\n",
    "    i = 1\n",
    "    successful_entries = 0\n",
    "    for organization, group in grouped.iterrows():\n",
    "        if organization in [\"ATN MAC\", \"ATH Consultants\", \"ATC Emirates (Ashraf AbdelGhany Tax Consultants)\", \"\tARA Associates Accountants & Consultants\", \"AMA Accounting\", \"\tAKA Management Consultancy\", \"A & M Alansari Auditing\"]:\n",
    "            continue\n",
    "        log_message = f\"Processing Entry {i}/{len(grouped)} Organization: {organization}\"\n",
    "        print(log_message)\n",
    "        with open(os.environ[\"LOG_FILE_PATH\"], \"a\") as log_file:\n",
    "            log_file.write(log_message + \"\\n\")\n",
    "        row_dict = group.to_dict()\n",
    "        prompt = load_prompt(\"generate_a_search_term\")\n",
    "        prompt_template = ChatPromptTemplate.from_messages([\n",
    "            (\"system\", prompt),\n",
    "            (\"human\", f\"Generate only one suitable google search term to fetch the official website of the company/service provider/orginization: {row_dict['ORGANIZATION']}\")\n",
    "        ])\n",
    "\n",
    "        result = call_llm(prompt_template = prompt_template, input_dict = {\"row_dict\": row_dict}, structured_output = SearchTermOutput, temperature=0, prompt_name=\"generate_a_search_term\")\n",
    "\n",
    "        try:\n",
    "            print(f\"Processing search term: {result.search_term}\")\n",
    "            links = search_serper(result.search_term)\n",
    "            # print(f\"######### Found {len(links)} links ###########\")\n",
    "            # print(links)\n",
    "            \n",
    "            # Log search results\n",
    "            _write_log(\"search_results.txt\", json.dumps(links, ensure_ascii=False, indent=2))\n",
    "            \n",
    "            most_relevant_result = check_search_relevance(result.search_term, links).most_relevant_result\n",
    "            if most_relevant_result:\n",
    "                print(most_relevant_result)\n",
    "                await process_relevant_links(most_relevant_result, row_dict)\n",
    "                successful_entries += 1\n",
    "                log_message = f\"Successful processed entries {successful_entries}/{len(grouped)} Organization: {organization}\"\n",
    "                print(log_message)\n",
    "                with open(os.environ[\"LOG_FILE_PATH\"], \"a\") as log_file:\n",
    "                    log_file.write(log_message + \"\\n\")\n",
    "            else:\n",
    "                missed_df = pd.concat([missed_df, group.to_frame().T], ignore_index=True)\n",
    "                missed_df_path = os.environ[\"MISSED_ENTRIES_PATH\"]\n",
    "                missed_df.to_csv(missed_df_path, index=False)\n",
    "                log_message = f\"No relevant link found for search term: {result.search_term}\"\n",
    "                print(log_message)\n",
    "                with open(os.environ[\"LOG_FILE_PATH\"], \"a\") as log_file:\n",
    "                    log_file.write(log_message + \"\\n\")\n",
    "        except Exception as e:\n",
    "            missed_df = pd.concat([missed_df, group.to_frame().T], ignore_index=True)\n",
    "            missed_df_path = os.environ[\"MISSED_ENTRIES_PATH\"]\n",
    "            missed_df.to_csv(missed_df_path, index=False)\n",
    "            error_message = f\"Error processing Entry {i}/{len(grouped)} Organization: {organization}: {e}\"\n",
    "            print(error_message)\n",
    "            with open(os.environ[\"LOG_FILE_PATH\"], \"a\") as log_file:\n",
    "                log_file.write(error_message + \"\\n\")\n",
    "        i += 1"
   ]
  },
  {
   "cell_type": "code",
   "execution_count": 2,
   "id": "484ce905",
   "metadata": {},
   "outputs": [
    {
     "name": "stdout",
     "output_type": "stream",
     "text": [
      "True\n",
      "Loaded envs from ../envs/1.env\n",
      "Processing Entry 1/632 Organization: A & A Financial Solutions\n"
     ]
    },
    {
     "name": "stderr",
     "output_type": "stream",
     "text": [
      "/tmp/ipykernel_64118/638342718.py:246: PydanticDeprecatedSince20: The `dict` method is deprecated; use `model_dump` instead. Deprecated in Pydantic V2.0 to be removed in V3.0. See Pydantic V2 Migration Guide at https://errors.pydantic.dev/2.11/migration/\n",
      "  response_content = json.dumps(result.dict() if hasattr(result, 'dict') else result.__dict__, ensure_ascii=False, indent=2)\n"
     ]
    },
    {
     "name": "stdout",
     "output_type": "stream",
     "text": [
      "Processing search term: A & A Financial Solutions Dubai\n"
     ]
    },
    {
     "name": "stderr",
     "output_type": "stream",
     "text": [
      "/tmp/ipykernel_64118/638342718.py:246: PydanticDeprecatedSince20: The `dict` method is deprecated; use `model_dump` instead. Deprecated in Pydantic V2.0 to be removed in V3.0. See Pydantic V2 Migration Guide at https://errors.pydantic.dev/2.11/migration/\n",
      "  response_content = json.dumps(result.dict() if hasattr(result, 'dict') else result.__dict__, ensure_ascii=False, indent=2)\n"
     ]
    },
    {
     "name": "stdout",
     "output_type": "stream",
     "text": [
      "explanation=\"The most relevant search result appears to be the first result, 'AA Financials: Reliable Financial Solutions in Dubai'. This link directly points to the official website of the company 'AA Financials' which provides financial solutions in Dubai, matching the search term. The title and snippet indicate this is the official company website, not a search facilitator or other service.\" link='https://aafinancials.ae/'\n",
      "Processing https://aafinancials.ae/\n",
      "----------BASE PAGE----------\n",
      "https://aafinancials.ae/\n",
      "clean_text: 979 tokens\n",
      "clean_html: 168597 tokens\n"
     ]
    },
    {
     "name": "stderr",
     "output_type": "stream",
     "text": [
      "/tmp/ipykernel_64118/638342718.py:246: PydanticDeprecatedSince20: The `dict` method is deprecated; use `model_dump` instead. Deprecated in Pydantic V2.0 to be removed in V3.0. See Pydantic V2 Migration Guide at https://errors.pydantic.dev/2.11/migration/\n",
      "  response_content = json.dumps(result.dict() if hasattr(result, 'dict') else result.__dict__, ensure_ascii=False, indent=2)\n"
     ]
    },
    {
     "name": "stdout",
     "output_type": "stream",
     "text": [
      "Slice LLM took 10.98s. Produced 6 slices.\n"
     ]
    },
    {
     "name": "stderr",
     "output_type": "stream",
     "text": [
      "/tmp/ipykernel_64118/638342718.py:246: PydanticDeprecatedSince20: The `dict` method is deprecated; use `model_dump` instead. Deprecated in Pydantic V2.0 to be removed in V3.0. See Pydantic V2 Migration Guide at https://errors.pydantic.dev/2.11/migration/\n",
      "  response_content = json.dumps(result.dict() if hasattr(result, 'dict') else result.__dict__, ensure_ascii=False, indent=2)\n"
     ]
    },
    {
     "name": "stdout",
     "output_type": "stream",
     "text": [
      "Slice LLM took 10.46s. Produced 2 slices.\n"
     ]
    },
    {
     "name": "stderr",
     "output_type": "stream",
     "text": [
      "/tmp/ipykernel_64118/638342718.py:246: PydanticDeprecatedSince20: The `dict` method is deprecated; use `model_dump` instead. Deprecated in Pydantic V2.0 to be removed in V3.0. See Pydantic V2 Migration Guide at https://errors.pydantic.dev/2.11/migration/\n",
      "  response_content = json.dumps(result.dict() if hasattr(result, 'dict') else result.__dict__, ensure_ascii=False, indent=2)\n"
     ]
    },
    {
     "name": "stdout",
     "output_type": "stream",
     "text": [
      "Slice LLM took 3.16s. Produced 6 slices.\n"
     ]
    },
    {
     "name": "stderr",
     "output_type": "stream",
     "text": [
      "/tmp/ipykernel_64118/638342718.py:246: PydanticDeprecatedSince20: The `dict` method is deprecated; use `model_dump` instead. Deprecated in Pydantic V2.0 to be removed in V3.0. See Pydantic V2 Migration Guide at https://errors.pydantic.dev/2.11/migration/\n",
      "  response_content = json.dumps(result.dict() if hasattr(result, 'dict') else result.__dict__, ensure_ascii=False, indent=2)\n"
     ]
    },
    {
     "name": "stdout",
     "output_type": "stream",
     "text": [
      "Slice LLM took 18.39s. Produced 6 slices.\n"
     ]
    },
    {
     "name": "stderr",
     "output_type": "stream",
     "text": [
      "/tmp/ipykernel_64118/638342718.py:246: PydanticDeprecatedSince20: The `dict` method is deprecated; use `model_dump` instead. Deprecated in Pydantic V2.0 to be removed in V3.0. See Pydantic V2 Migration Guide at https://errors.pydantic.dev/2.11/migration/\n",
      "  response_content = json.dumps(result.dict() if hasattr(result, 'dict') else result.__dict__, ensure_ascii=False, indent=2)\n"
     ]
    },
    {
     "name": "stdout",
     "output_type": "stream",
     "text": [
      "Slice LLM took 4.24s. Produced 6 slices.\n"
     ]
    },
    {
     "name": "stderr",
     "output_type": "stream",
     "text": [
      "/tmp/ipykernel_64118/638342718.py:246: PydanticDeprecatedSince20: The `dict` method is deprecated; use `model_dump` instead. Deprecated in Pydantic V2.0 to be removed in V3.0. See Pydantic V2 Migration Guide at https://errors.pydantic.dev/2.11/migration/\n",
      "  response_content = json.dumps(result.dict() if hasattr(result, 'dict') else result.__dict__, ensure_ascii=False, indent=2)\n"
     ]
    },
    {
     "name": "stdout",
     "output_type": "stream",
     "text": [
      "Slice LLM took 8.24s. Produced 6 slices.\n"
     ]
    },
    {
     "name": "stderr",
     "output_type": "stream",
     "text": [
      "/tmp/ipykernel_64118/638342718.py:246: PydanticDeprecatedSince20: The `dict` method is deprecated; use `model_dump` instead. Deprecated in Pydantic V2.0 to be removed in V3.0. See Pydantic V2 Migration Guide at https://errors.pydantic.dev/2.11/migration/\n",
      "  response_content = json.dumps(result.dict() if hasattr(result, 'dict') else result.__dict__, ensure_ascii=False, indent=2)\n"
     ]
    },
    {
     "name": "stdout",
     "output_type": "stream",
     "text": [
      "Slice LLM took 4.23s. Produced 6 slices.\n"
     ]
    },
    {
     "name": "stderr",
     "output_type": "stream",
     "text": [
      "/tmp/ipykernel_64118/638342718.py:246: PydanticDeprecatedSince20: The `dict` method is deprecated; use `model_dump` instead. Deprecated in Pydantic V2.0 to be removed in V3.0. See Pydantic V2 Migration Guide at https://errors.pydantic.dev/2.11/migration/\n",
      "  response_content = json.dumps(result.dict() if hasattr(result, 'dict') else result.__dict__, ensure_ascii=False, indent=2)\n"
     ]
    },
    {
     "name": "stdout",
     "output_type": "stream",
     "text": [
      "Slice LLM took 2.85s. Produced 6 slices.\n"
     ]
    },
    {
     "name": "stderr",
     "output_type": "stream",
     "text": [
      "/tmp/ipykernel_64118/638342718.py:246: PydanticDeprecatedSince20: The `dict` method is deprecated; use `model_dump` instead. Deprecated in Pydantic V2.0 to be removed in V3.0. See Pydantic V2 Migration Guide at https://errors.pydantic.dev/2.11/migration/\n",
      "  response_content = json.dumps(result.dict() if hasattr(result, 'dict') else result.__dict__, ensure_ascii=False, indent=2)\n"
     ]
    },
    {
     "name": "stdout",
     "output_type": "stream",
     "text": [
      "Slice LLM took 8.98s. Produced 6 slices.\n",
      "sliced_html: 200881 tokens\n",
      "----------NAV LINKS----------\n",
      "[('Who We Are', 'https://aafinancials.ae/about-us/', 'about'), ('Our Services', 'https://aafinancials.ae/our-services/', 'services'), ('Corporate Tax Services', 'https://aafinancials.ae/corporate-tax-consultant-dubai/', 'services'), ('Audit Services', 'https://aafinancials.ae/audit-services-dubai/', 'services'), ('Contact', 'https://aafinancials.ae/contact/', 'contact'), ('Services', 'https://www.linkedin.com/company/aa-financial-solutions', 'services'), ('Our Services', 'https://aafinancials.ae/our-service/', 'services'), ('Team Member', 'https://aafinancials.ae/team-details/', 'team')]\n"
     ]
    },
    {
     "name": "stderr",
     "output_type": "stream",
     "text": [
      "/tmp/ipykernel_64118/638342718.py:246: PydanticDeprecatedSince20: The `dict` method is deprecated; use `model_dump` instead. Deprecated in Pydantic V2.0 to be removed in V3.0. See Pydantic V2 Migration Guide at https://errors.pydantic.dev/2.11/migration/\n",
      "  response_content = json.dumps(result.dict() if hasattr(result, 'dict') else result.__dict__, ensure_ascii=False, indent=2)\n"
     ]
    },
    {
     "name": "stdout",
     "output_type": "stream",
     "text": [
      "6\n",
      "['https://aafinancials.ae/about-us/', 'https://aafinancials.ae/contact/', 'https://aafinancials.ae/our-services/', 'https://aafinancials.ae/corporate-tax-consultant-dubai/', 'https://aafinancials.ae/audit-services-dubai/', 'https://aafinancials.ae/team-details/']\n",
      "\n",
      "\n"
     ]
    },
    {
     "name": "stderr",
     "output_type": "stream",
     "text": [
      "/tmp/ipykernel_64118/638342718.py:246: PydanticDeprecatedSince20: The `dict` method is deprecated; use `model_dump` instead. Deprecated in Pydantic V2.0 to be removed in V3.0. See Pydantic V2 Migration Guide at https://errors.pydantic.dev/2.11/migration/\n",
      "  response_content = json.dumps(result.dict() if hasattr(result, 'dict') else result.__dict__, ensure_ascii=False, indent=2)\n"
     ]
    },
    {
     "name": "stdout",
     "output_type": "stream",
     "text": [
      "Logo saved to ../growbal_django/media/logos/Color_0.png\n",
      "Error getting profile from website: ServiceProviderProfile matching query does not exist.\n",
      "creating user with name and email\n",
      "created user with email and name\n",
      "Error profile does not exist!\n",
      "Profile created: AA Financials\n",
      "Service created: Financial and Audit Services in Dubai\n",
      "Scrape created: https://aafinancials.ae/\n",
      "Successful processed entries 1/632 Organization: A & A Financial Solutions\n",
      "Processing Entry 2/632 Organization: A G L FINANCIAL CONSULTANCIES EST.\n"
     ]
    },
    {
     "name": "stderr",
     "output_type": "stream",
     "text": [
      "/tmp/ipykernel_64118/638342718.py:246: PydanticDeprecatedSince20: The `dict` method is deprecated; use `model_dump` instead. Deprecated in Pydantic V2.0 to be removed in V3.0. See Pydantic V2 Migration Guide at https://errors.pydantic.dev/2.11/migration/\n",
      "  response_content = json.dumps(result.dict() if hasattr(result, 'dict') else result.__dict__, ensure_ascii=False, indent=2)\n"
     ]
    },
    {
     "name": "stdout",
     "output_type": "stream",
     "text": [
      "Processing search term: AGL Financial Consultancies Dubai\n"
     ]
    },
    {
     "name": "stderr",
     "output_type": "stream",
     "text": [
      "/tmp/ipykernel_64118/638342718.py:246: PydanticDeprecatedSince20: The `dict` method is deprecated; use `model_dump` instead. Deprecated in Pydantic V2.0 to be removed in V3.0. See Pydantic V2 Migration Guide at https://errors.pydantic.dev/2.11/migration/\n",
      "  response_content = json.dumps(result.dict() if hasattr(result, 'dict') else result.__dict__, ensure_ascii=False, indent=2)\n"
     ]
    },
    {
     "name": "stdout",
     "output_type": "stream",
     "text": [
      "explanation='The most relevant search result appears to be the first result, which is the official website of AGL Financial Consultancies at https://www.aglaccounts.ae/. The title and snippet indicate that this is the official website of the tax consultancy firm AGL Financial Consultancies located in Dubai.' link='https://www.aglaccounts.ae/'\n",
      "Processing https://www.aglaccounts.ae/\n",
      "----------BASE PAGE----------\n",
      "https://www.aglaccounts.ae/\n",
      "clean_text: 895 tokens\n",
      "clean_html: 33218 tokens\n"
     ]
    },
    {
     "name": "stderr",
     "output_type": "stream",
     "text": [
      "/tmp/ipykernel_64118/638342718.py:246: PydanticDeprecatedSince20: The `dict` method is deprecated; use `model_dump` instead. Deprecated in Pydantic V2.0 to be removed in V3.0. See Pydantic V2 Migration Guide at https://errors.pydantic.dev/2.11/migration/\n",
      "  response_content = json.dumps(result.dict() if hasattr(result, 'dict') else result.__dict__, ensure_ascii=False, indent=2)\n"
     ]
    },
    {
     "name": "stdout",
     "output_type": "stream",
     "text": [
      "Slice LLM took 3.49s. Produced 6 slices.\n"
     ]
    },
    {
     "name": "stderr",
     "output_type": "stream",
     "text": [
      "/tmp/ipykernel_64118/638342718.py:246: PydanticDeprecatedSince20: The `dict` method is deprecated; use `model_dump` instead. Deprecated in Pydantic V2.0 to be removed in V3.0. See Pydantic V2 Migration Guide at https://errors.pydantic.dev/2.11/migration/\n",
      "  response_content = json.dumps(result.dict() if hasattr(result, 'dict') else result.__dict__, ensure_ascii=False, indent=2)\n"
     ]
    },
    {
     "name": "stdout",
     "output_type": "stream",
     "text": [
      "Slice LLM took 28.28s. Produced 3 slices.\n"
     ]
    },
    {
     "name": "stderr",
     "output_type": "stream",
     "text": [
      "/tmp/ipykernel_64118/638342718.py:246: PydanticDeprecatedSince20: The `dict` method is deprecated; use `model_dump` instead. Deprecated in Pydantic V2.0 to be removed in V3.0. See Pydantic V2 Migration Guide at https://errors.pydantic.dev/2.11/migration/\n",
      "  response_content = json.dumps(result.dict() if hasattr(result, 'dict') else result.__dict__, ensure_ascii=False, indent=2)\n"
     ]
    },
    {
     "name": "stdout",
     "output_type": "stream",
     "text": [
      "Slice LLM took 18.50s. Produced 6 slices.\n",
      "sliced_html: 9162 tokens\n",
      "----------NAV LINKS----------\n",
      "[('services', 'https://www.aglaccounts.ae/services/', 'services'), ('About', 'https://www.aglaccounts.ae/about/', 'about'), ('VAT & Tax Services in UAE', 'https://www.aglaccounts.ae/vat-tax-services-in-uae/', 'services'), ('Accounting Services in UAE', 'https://www.aglaccounts.ae/accounting-services-in-uae/', 'services'), ('Contact', 'https://www.aglaccounts.ae/contact/', 'contact')]\n"
     ]
    },
    {
     "name": "stderr",
     "output_type": "stream",
     "text": [
      "/tmp/ipykernel_64118/638342718.py:246: PydanticDeprecatedSince20: The `dict` method is deprecated; use `model_dump` instead. Deprecated in Pydantic V2.0 to be removed in V3.0. See Pydantic V2 Migration Guide at https://errors.pydantic.dev/2.11/migration/\n",
      "  response_content = json.dumps(result.dict() if hasattr(result, 'dict') else result.__dict__, ensure_ascii=False, indent=2)\n"
     ]
    },
    {
     "name": "stdout",
     "output_type": "stream",
     "text": [
      "5\n",
      "['https://www.aglaccounts.ae/about/', 'https://www.aglaccounts.ae/contact/', 'https://www.aglaccounts.ae/services/', 'https://www.aglaccounts.ae/vat-tax-services-in-uae/', 'https://www.aglaccounts.ae/accounting-services-in-uae/']\n",
      "\n",
      "\n",
      "clean_text: 797 tokens\n",
      "clean_html: 32231 tokens\n",
      "count_tokens(clean_html) 0 before approval: 32231\n"
     ]
    },
    {
     "name": "stderr",
     "output_type": "stream",
     "text": [
      "/tmp/ipykernel_64118/638342718.py:246: PydanticDeprecatedSince20: The `dict` method is deprecated; use `model_dump` instead. Deprecated in Pydantic V2.0 to be removed in V3.0. See Pydantic V2 Migration Guide at https://errors.pydantic.dev/2.11/migration/\n",
      "  response_content = json.dumps(result.dict() if hasattr(result, 'dict') else result.__dict__, ensure_ascii=False, indent=2)\n"
     ]
    },
    {
     "name": "stdout",
     "output_type": "stream",
     "text": [
      "Slice LLM took 2.87s. Produced 6 slices.\n"
     ]
    },
    {
     "name": "stderr",
     "output_type": "stream",
     "text": [
      "/tmp/ipykernel_64118/638342718.py:246: PydanticDeprecatedSince20: The `dict` method is deprecated; use `model_dump` instead. Deprecated in Pydantic V2.0 to be removed in V3.0. See Pydantic V2 Migration Guide at https://errors.pydantic.dev/2.11/migration/\n",
      "  response_content = json.dumps(result.dict() if hasattr(result, 'dict') else result.__dict__, ensure_ascii=False, indent=2)\n"
     ]
    },
    {
     "name": "stdout",
     "output_type": "stream",
     "text": [
      "Slice LLM took 8.17s. Produced 6 slices.\n"
     ]
    },
    {
     "name": "stderr",
     "output_type": "stream",
     "text": [
      "/tmp/ipykernel_64118/638342718.py:246: PydanticDeprecatedSince20: The `dict` method is deprecated; use `model_dump` instead. Deprecated in Pydantic V2.0 to be removed in V3.0. See Pydantic V2 Migration Guide at https://errors.pydantic.dev/2.11/migration/\n",
      "  response_content = json.dumps(result.dict() if hasattr(result, 'dict') else result.__dict__, ensure_ascii=False, indent=2)\n"
     ]
    },
    {
     "name": "stdout",
     "output_type": "stream",
     "text": [
      "Slice LLM took 3.58s. Produced 6 slices.\n",
      "sliced_html: 10271 tokens\n",
      "clean_text: 317 tokens\n",
      "clean_html: 14556 tokens\n",
      "count_tokens(clean_html) 1 before approval: 14556\n"
     ]
    },
    {
     "name": "stderr",
     "output_type": "stream",
     "text": [
      "/tmp/ipykernel_64118/638342718.py:246: PydanticDeprecatedSince20: The `dict` method is deprecated; use `model_dump` instead. Deprecated in Pydantic V2.0 to be removed in V3.0. See Pydantic V2 Migration Guide at https://errors.pydantic.dev/2.11/migration/\n",
      "  response_content = json.dumps(result.dict() if hasattr(result, 'dict') else result.__dict__, ensure_ascii=False, indent=2)\n"
     ]
    },
    {
     "name": "stdout",
     "output_type": "stream",
     "text": [
      "Slice LLM took 19.26s. Produced 6 slices.\n"
     ]
    },
    {
     "name": "stderr",
     "output_type": "stream",
     "text": [
      "/tmp/ipykernel_64118/638342718.py:246: PydanticDeprecatedSince20: The `dict` method is deprecated; use `model_dump` instead. Deprecated in Pydantic V2.0 to be removed in V3.0. See Pydantic V2 Migration Guide at https://errors.pydantic.dev/2.11/migration/\n",
      "  response_content = json.dumps(result.dict() if hasattr(result, 'dict') else result.__dict__, ensure_ascii=False, indent=2)\n"
     ]
    },
    {
     "name": "stdout",
     "output_type": "stream",
     "text": [
      "Slice LLM took 1.78s. Produced 6 slices.\n",
      "sliced_html: 11435 tokens\n"
     ]
    },
    {
     "name": "stderr",
     "output_type": "stream",
     "text": [
      "/tmp/ipykernel_64118/638342718.py:246: PydanticDeprecatedSince20: The `dict` method is deprecated; use `model_dump` instead. Deprecated in Pydantic V2.0 to be removed in V3.0. See Pydantic V2 Migration Guide at https://errors.pydantic.dev/2.11/migration/\n",
      "  response_content = json.dumps(result.dict() if hasattr(result, 'dict') else result.__dict__, ensure_ascii=False, indent=2)\n"
     ]
    },
    {
     "name": "stdout",
     "output_type": "stream",
     "text": [
      "Logo saved to ../growbal_django/media/logos/Untitled-design-30_0.png\n",
      "Error getting profile from website: ServiceProviderProfile matching query does not exist.\n",
      "creating user with name and email\n",
      "created user with email and name\n",
      "Error profile does not exist!\n",
      "Profile created: AGL Financial Consultancies\n",
      "Service created: Tax and Accounting Services in UAE\n",
      "Scrape created: https://www.aglaccounts.ae/\n",
      "Successful processed entries 2/632 Organization: A G L FINANCIAL CONSULTANCIES EST.\n",
      "Processing Entry 3/632 Organization: A K A Management Consultancy L.L.C\n"
     ]
    },
    {
     "name": "stderr",
     "output_type": "stream",
     "text": [
      "/tmp/ipykernel_64118/638342718.py:246: PydanticDeprecatedSince20: The `dict` method is deprecated; use `model_dump` instead. Deprecated in Pydantic V2.0 to be removed in V3.0. See Pydantic V2 Migration Guide at https://errors.pydantic.dev/2.11/migration/\n",
      "  response_content = json.dumps(result.dict() if hasattr(result, 'dict') else result.__dict__, ensure_ascii=False, indent=2)\n"
     ]
    },
    {
     "name": "stdout",
     "output_type": "stream",
     "text": [
      "Processing search term: AKA Management Consultancy Dubai\n"
     ]
    },
    {
     "name": "stderr",
     "output_type": "stream",
     "text": [
      "/tmp/ipykernel_64118/638342718.py:246: PydanticDeprecatedSince20: The `dict` method is deprecated; use `model_dump` instead. Deprecated in Pydantic V2.0 to be removed in V3.0. See Pydantic V2 Migration Guide at https://errors.pydantic.dev/2.11/migration/\n",
      "  response_content = json.dumps(result.dict() if hasattr(result, 'dict') else result.__dict__, ensure_ascii=False, indent=2)\n"
     ]
    },
    {
     "name": "stdout",
     "output_type": "stream",
     "text": [
      "explanation=\"The first search result, 'AKA: Business Consultants in Dubai | VAT Experts in Dubai', appears to be the official website of AKA Management Consultancy in Dubai. The title and snippet indicate that this is the company's website, which provides consulting services related to the search term.\" link='https://aka.ae/'\n",
      "Successful processed entries 3/632 Organization: A K A Management Consultancy L.L.C\n",
      "Processing Entry 4/632 Organization: A L I F ACCOUNTING AND TAX CONSULTANTS L.L.C\n"
     ]
    },
    {
     "name": "stderr",
     "output_type": "stream",
     "text": [
      "/tmp/ipykernel_64118/638342718.py:246: PydanticDeprecatedSince20: The `dict` method is deprecated; use `model_dump` instead. Deprecated in Pydantic V2.0 to be removed in V3.0. See Pydantic V2 Migration Guide at https://errors.pydantic.dev/2.11/migration/\n",
      "  response_content = json.dumps(result.dict() if hasattr(result, 'dict') else result.__dict__, ensure_ascii=False, indent=2)\n"
     ]
    },
    {
     "name": "stdout",
     "output_type": "stream",
     "text": [
      "Processing search term: ALIF Accounting Tax Consultants Dubai\n"
     ]
    },
    {
     "name": "stderr",
     "output_type": "stream",
     "text": [
      "/tmp/ipykernel_64118/638342718.py:246: PydanticDeprecatedSince20: The `dict` method is deprecated; use `model_dump` instead. Deprecated in Pydantic V2.0 to be removed in V3.0. See Pydantic V2 Migration Guide at https://errors.pydantic.dev/2.11/migration/\n",
      "  response_content = json.dumps(result.dict() if hasattr(result, 'dict') else result.__dict__, ensure_ascii=False, indent=2)\n"
     ]
    },
    {
     "name": "stdout",
     "output_type": "stream",
     "text": [
      "explanation=\"The first search result, 'ALIF Accounting & Tax Consultants', appears to be the official website of the accounting and tax consulting firm based in Dubai. The title and snippet indicate that this is the company's own website, not a search facilitator or other service. This result is the most relevant to the given search term.\" link='https://alifconsulting.ae/'\n",
      "Processing https://alifconsulting.ae/\n",
      "----------BASE PAGE----------\n",
      "https://alifconsulting.ae/\n",
      "clean_text: 2418 tokens\n",
      "clean_html: 98170 tokens\n"
     ]
    },
    {
     "name": "stderr",
     "output_type": "stream",
     "text": [
      "/tmp/ipykernel_64118/638342718.py:246: PydanticDeprecatedSince20: The `dict` method is deprecated; use `model_dump` instead. Deprecated in Pydantic V2.0 to be removed in V3.0. See Pydantic V2 Migration Guide at https://errors.pydantic.dev/2.11/migration/\n",
      "  response_content = json.dumps(result.dict() if hasattr(result, 'dict') else result.__dict__, ensure_ascii=False, indent=2)\n"
     ]
    },
    {
     "name": "stdout",
     "output_type": "stream",
     "text": [
      "Slice LLM took 6.79s. Produced 4 slices.\n"
     ]
    },
    {
     "name": "stderr",
     "output_type": "stream",
     "text": [
      "/tmp/ipykernel_64118/638342718.py:246: PydanticDeprecatedSince20: The `dict` method is deprecated; use `model_dump` instead. Deprecated in Pydantic V2.0 to be removed in V3.0. See Pydantic V2 Migration Guide at https://errors.pydantic.dev/2.11/migration/\n",
      "  response_content = json.dumps(result.dict() if hasattr(result, 'dict') else result.__dict__, ensure_ascii=False, indent=2)\n"
     ]
    },
    {
     "name": "stdout",
     "output_type": "stream",
     "text": [
      "Slice LLM took 18.31s. Produced 5 slices.\n"
     ]
    },
    {
     "name": "stderr",
     "output_type": "stream",
     "text": [
      "/tmp/ipykernel_64118/638342718.py:246: PydanticDeprecatedSince20: The `dict` method is deprecated; use `model_dump` instead. Deprecated in Pydantic V2.0 to be removed in V3.0. See Pydantic V2 Migration Guide at https://errors.pydantic.dev/2.11/migration/\n",
      "  response_content = json.dumps(result.dict() if hasattr(result, 'dict') else result.__dict__, ensure_ascii=False, indent=2)\n"
     ]
    },
    {
     "name": "stdout",
     "output_type": "stream",
     "text": [
      "Slice LLM took 2.89s. Produced 6 slices.\n"
     ]
    },
    {
     "name": "stderr",
     "output_type": "stream",
     "text": [
      "/tmp/ipykernel_64118/638342718.py:246: PydanticDeprecatedSince20: The `dict` method is deprecated; use `model_dump` instead. Deprecated in Pydantic V2.0 to be removed in V3.0. See Pydantic V2 Migration Guide at https://errors.pydantic.dev/2.11/migration/\n",
      "  response_content = json.dumps(result.dict() if hasattr(result, 'dict') else result.__dict__, ensure_ascii=False, indent=2)\n"
     ]
    },
    {
     "name": "stdout",
     "output_type": "stream",
     "text": [
      "Slice LLM took 10.93s. Produced 6 slices.\n"
     ]
    },
    {
     "name": "stderr",
     "output_type": "stream",
     "text": [
      "/tmp/ipykernel_64118/638342718.py:246: PydanticDeprecatedSince20: The `dict` method is deprecated; use `model_dump` instead. Deprecated in Pydantic V2.0 to be removed in V3.0. See Pydantic V2 Migration Guide at https://errors.pydantic.dev/2.11/migration/\n",
      "  response_content = json.dumps(result.dict() if hasattr(result, 'dict') else result.__dict__, ensure_ascii=False, indent=2)\n"
     ]
    },
    {
     "name": "stdout",
     "output_type": "stream",
     "text": [
      "Slice LLM took 3.35s. Produced 6 slices.\n"
     ]
    },
    {
     "name": "stderr",
     "output_type": "stream",
     "text": [
      "/tmp/ipykernel_64118/638342718.py:246: PydanticDeprecatedSince20: The `dict` method is deprecated; use `model_dump` instead. Deprecated in Pydantic V2.0 to be removed in V3.0. See Pydantic V2 Migration Guide at https://errors.pydantic.dev/2.11/migration/\n",
      "  response_content = json.dumps(result.dict() if hasattr(result, 'dict') else result.__dict__, ensure_ascii=False, indent=2)\n"
     ]
    },
    {
     "name": "stdout",
     "output_type": "stream",
     "text": [
      "Slice LLM took 7.08s. Produced 4 slices.\n"
     ]
    },
    {
     "name": "stderr",
     "output_type": "stream",
     "text": [
      "/tmp/ipykernel_64118/638342718.py:246: PydanticDeprecatedSince20: The `dict` method is deprecated; use `model_dump` instead. Deprecated in Pydantic V2.0 to be removed in V3.0. See Pydantic V2 Migration Guide at https://errors.pydantic.dev/2.11/migration/\n",
      "  response_content = json.dumps(result.dict() if hasattr(result, 'dict') else result.__dict__, ensure_ascii=False, indent=2)\n"
     ]
    },
    {
     "name": "stdout",
     "output_type": "stream",
     "text": [
      "Slice LLM took 41.86s. Produced 6 slices.\n",
      "sliced_html: 51088 tokens\n",
      "----------NAV LINKS----------\n",
      "[('Services', 'https://www.cookieyes.com/product/cookie-consent', 'services'), ('Our Services', 'https://alifconsulting.ae/service/', 'services'), ('Economic Substance Regulation (ESR) Consulting Services', 'https://alifconsulting.ae/tax-consultancy-planning/economic-substance-regulation-consulting-services/', 'services'), ('Financial Advisory Services', 'https://alifconsulting.ae/business-advisory/financial-advisory-services/', 'services'), ('Banking Services', 'https://alifconsulting.ae/business-advisory/banking-services/', 'services'), ('AML Compliance Services', 'https://alifconsulting.ae/business-advisory/aml-compliance-services/', 'services'), ('About Us', 'https://alifconsulting.ae/about-us/', 'about'), ('Contact', 'https://alifconsulting.ae/contact/', 'contact'), ('Career', 'https://alifconsulting.ae/career/', 'careers'), ('View All Services', 'https://alifconsulting.ae/services/', 'services')]\n"
     ]
    },
    {
     "name": "stderr",
     "output_type": "stream",
     "text": [
      "/tmp/ipykernel_64118/638342718.py:246: PydanticDeprecatedSince20: The `dict` method is deprecated; use `model_dump` instead. Deprecated in Pydantic V2.0 to be removed in V3.0. See Pydantic V2 Migration Guide at https://errors.pydantic.dev/2.11/migration/\n",
      "  response_content = json.dumps(result.dict() if hasattr(result, 'dict') else result.__dict__, ensure_ascii=False, indent=2)\n"
     ]
    },
    {
     "name": "stdout",
     "output_type": "stream",
     "text": [
      "4\n",
      "['https://alifconsulting.ae/about-us/', 'https://alifconsulting.ae/contact/', 'https://alifconsulting.ae/service/', 'https://alifconsulting.ae/services/']\n",
      "\n",
      "\n"
     ]
    },
    {
     "name": "stderr",
     "output_type": "stream",
     "text": [
      "/tmp/ipykernel_64118/638342718.py:246: PydanticDeprecatedSince20: The `dict` method is deprecated; use `model_dump` instead. Deprecated in Pydantic V2.0 to be removed in V3.0. See Pydantic V2 Migration Guide at https://errors.pydantic.dev/2.11/migration/\n",
      "  response_content = json.dumps(result.dict() if hasattr(result, 'dict') else result.__dict__, ensure_ascii=False, indent=2)\n"
     ]
    },
    {
     "name": "stdout",
     "output_type": "stream",
     "text": [
      "Logo saved to ../growbal_django/media/logos/Alif-logo-original-colour-1_0.png\n",
      "Error getting profile from website: ServiceProviderProfile matching query does not exist.\n",
      "creating user with name and email\n",
      "created user with email and name\n",
      "Error profile does not exist!\n",
      "Profile created: ALIF Accounting & Tax Consultants\n",
      "Service created: Accounting, Tax and Business Advisory Services\n",
      "Scrape created: https://alifconsulting.ae/\n",
      "Successful processed entries 4/632 Organization: A L I F ACCOUNTING AND TAX CONSULTANTS L.L.C\n",
      "Processing Entry 5/632 Organization: A M A ACCOUNTING & BOOKKEEPING\n"
     ]
    },
    {
     "name": "stderr",
     "output_type": "stream",
     "text": [
      "/tmp/ipykernel_64118/638342718.py:246: PydanticDeprecatedSince20: The `dict` method is deprecated; use `model_dump` instead. Deprecated in Pydantic V2.0 to be removed in V3.0. See Pydantic V2 Migration Guide at https://errors.pydantic.dev/2.11/migration/\n",
      "  response_content = json.dumps(result.dict() if hasattr(result, 'dict') else result.__dict__, ensure_ascii=False, indent=2)\n"
     ]
    },
    {
     "name": "stdout",
     "output_type": "stream",
     "text": [
      "Processing search term: AMA Accounting Bookkeeping Dubai\n"
     ]
    },
    {
     "name": "stderr",
     "output_type": "stream",
     "text": [
      "/tmp/ipykernel_64118/638342718.py:246: PydanticDeprecatedSince20: The `dict` method is deprecated; use `model_dump` instead. Deprecated in Pydantic V2.0 to be removed in V3.0. See Pydantic V2 Migration Guide at https://errors.pydantic.dev/2.11/migration/\n",
      "  response_content = json.dumps(result.dict() if hasattr(result, 'dict') else result.__dict__, ensure_ascii=False, indent=2)\n"
     ]
    },
    {
     "name": "stdout",
     "output_type": "stream",
     "text": [
      "explanation=\"The most relevant search result appears to be the first result, which is the official website of AMA Accounting, a company that provides accounting and bookkeeping services in Dubai. The title, link, and snippet all indicate that this is the company's official website and it is directly relevant to the search term.\" link='https://amaaccounting.ae/'\n",
      "Successful processed entries 5/632 Organization: A M A ACCOUNTING & BOOKKEEPING\n",
      "Processing Entry 6/632 Organization: A M J TAX CONSULTANCY AND BOOKS KEEPING - L.L.C -  ...\n"
     ]
    },
    {
     "name": "stderr",
     "output_type": "stream",
     "text": [
      "/tmp/ipykernel_64118/638342718.py:246: PydanticDeprecatedSince20: The `dict` method is deprecated; use `model_dump` instead. Deprecated in Pydantic V2.0 to be removed in V3.0. See Pydantic V2 Migration Guide at https://errors.pydantic.dev/2.11/migration/\n",
      "  response_content = json.dumps(result.dict() if hasattr(result, 'dict') else result.__dict__, ensure_ascii=False, indent=2)\n"
     ]
    },
    {
     "name": "stdout",
     "output_type": "stream",
     "text": [
      "Processing search term: AMJ Tax Consultancy Bookkeeping LLC Abu Dhabi\n"
     ]
    },
    {
     "name": "stderr",
     "output_type": "stream",
     "text": [
      "/tmp/ipykernel_64118/638342718.py:246: PydanticDeprecatedSince20: The `dict` method is deprecated; use `model_dump` instead. Deprecated in Pydantic V2.0 to be removed in V3.0. See Pydantic V2 Migration Guide at https://errors.pydantic.dev/2.11/migration/\n",
      "  response_content = json.dumps(result.dict() if hasattr(result, 'dict') else result.__dict__, ensure_ascii=False, indent=2)\n"
     ]
    },
    {
     "name": "stdout",
     "output_type": "stream",
     "text": [
      "explanation=\"The most relevant search result appears to be the first result, 'Financial Services Company Dubai & India | Audit Firm - AMJ'. This link directly points to the official website of AMJ Consultancy, which provides tax consultancy and bookkeeping services in Abu Dhabi. The title and snippet indicate that this is the company's official website, not a search facilitator or other service.\" link='https://amjconsultancy.ae/'\n",
      "Processing https://amjconsultancy.ae/\n",
      "----------BASE PAGE----------\n",
      "https://amjconsultancy.ae/\n",
      "clean_text: 5601 tokens\n",
      "clean_html: 90693 tokens\n"
     ]
    },
    {
     "name": "stderr",
     "output_type": "stream",
     "text": [
      "/tmp/ipykernel_64118/638342718.py:246: PydanticDeprecatedSince20: The `dict` method is deprecated; use `model_dump` instead. Deprecated in Pydantic V2.0 to be removed in V3.0. See Pydantic V2 Migration Guide at https://errors.pydantic.dev/2.11/migration/\n",
      "  response_content = json.dumps(result.dict() if hasattr(result, 'dict') else result.__dict__, ensure_ascii=False, indent=2)\n"
     ]
    },
    {
     "name": "stdout",
     "output_type": "stream",
     "text": [
      "Slice LLM took 8.08s. Produced 6 slices.\n"
     ]
    },
    {
     "name": "stderr",
     "output_type": "stream",
     "text": [
      "/tmp/ipykernel_64118/638342718.py:246: PydanticDeprecatedSince20: The `dict` method is deprecated; use `model_dump` instead. Deprecated in Pydantic V2.0 to be removed in V3.0. See Pydantic V2 Migration Guide at https://errors.pydantic.dev/2.11/migration/\n",
      "  response_content = json.dumps(result.dict() if hasattr(result, 'dict') else result.__dict__, ensure_ascii=False, indent=2)\n"
     ]
    },
    {
     "name": "stdout",
     "output_type": "stream",
     "text": [
      "Slice LLM took 34.05s. Produced 6 slices.\n"
     ]
    },
    {
     "name": "stderr",
     "output_type": "stream",
     "text": [
      "/tmp/ipykernel_64118/638342718.py:246: PydanticDeprecatedSince20: The `dict` method is deprecated; use `model_dump` instead. Deprecated in Pydantic V2.0 to be removed in V3.0. See Pydantic V2 Migration Guide at https://errors.pydantic.dev/2.11/migration/\n",
      "  response_content = json.dumps(result.dict() if hasattr(result, 'dict') else result.__dict__, ensure_ascii=False, indent=2)\n"
     ]
    },
    {
     "name": "stdout",
     "output_type": "stream",
     "text": [
      "Slice LLM took 19.51s. Produced 6 slices.\n"
     ]
    },
    {
     "name": "stderr",
     "output_type": "stream",
     "text": [
      "/tmp/ipykernel_64118/638342718.py:246: PydanticDeprecatedSince20: The `dict` method is deprecated; use `model_dump` instead. Deprecated in Pydantic V2.0 to be removed in V3.0. See Pydantic V2 Migration Guide at https://errors.pydantic.dev/2.11/migration/\n",
      "  response_content = json.dumps(result.dict() if hasattr(result, 'dict') else result.__dict__, ensure_ascii=False, indent=2)\n"
     ]
    },
    {
     "name": "stdout",
     "output_type": "stream",
     "text": [
      "Slice LLM took 2.99s. Produced 6 slices.\n"
     ]
    },
    {
     "name": "stderr",
     "output_type": "stream",
     "text": [
      "/tmp/ipykernel_64118/638342718.py:246: PydanticDeprecatedSince20: The `dict` method is deprecated; use `model_dump` instead. Deprecated in Pydantic V2.0 to be removed in V3.0. See Pydantic V2 Migration Guide at https://errors.pydantic.dev/2.11/migration/\n",
      "  response_content = json.dumps(result.dict() if hasattr(result, 'dict') else result.__dict__, ensure_ascii=False, indent=2)\n"
     ]
    },
    {
     "name": "stdout",
     "output_type": "stream",
     "text": [
      "Slice LLM took 2.48s. Produced 6 slices.\n"
     ]
    },
    {
     "name": "stderr",
     "output_type": "stream",
     "text": [
      "/tmp/ipykernel_64118/638342718.py:246: PydanticDeprecatedSince20: The `dict` method is deprecated; use `model_dump` instead. Deprecated in Pydantic V2.0 to be removed in V3.0. See Pydantic V2 Migration Guide at https://errors.pydantic.dev/2.11/migration/\n",
      "  response_content = json.dumps(result.dict() if hasattr(result, 'dict') else result.__dict__, ensure_ascii=False, indent=2)\n"
     ]
    },
    {
     "name": "stdout",
     "output_type": "stream",
     "text": [
      "Slice LLM took 3.69s. Produced 1 slices.\n"
     ]
    },
    {
     "name": "stderr",
     "output_type": "stream",
     "text": [
      "/tmp/ipykernel_64118/638342718.py:246: PydanticDeprecatedSince20: The `dict` method is deprecated; use `model_dump` instead. Deprecated in Pydantic V2.0 to be removed in V3.0. See Pydantic V2 Migration Guide at https://errors.pydantic.dev/2.11/migration/\n",
      "  response_content = json.dumps(result.dict() if hasattr(result, 'dict') else result.__dict__, ensure_ascii=False, indent=2)\n"
     ]
    },
    {
     "name": "stdout",
     "output_type": "stream",
     "text": [
      "Slice LLM took 6.88s. Produced 6 slices.\n",
      "sliced_html: 206468 tokens\n",
      "----------NAV LINKS----------\n",
      "[('About', 'https://amjconsultancy.ae/about/', 'about'), ('Accounting Services', 'https://amjconsultancy.ae/accounting-services/', 'services'), ('Bookkeeping Services', 'https://amjconsultancy.ae/bookkeeping-services/', 'services'), ('Compliance Services', 'https://amjconsultancy.ae/compliance-services/', 'services'), ('Contact Us', 'https://amjconsultancy.ae/contact/', 'contact'), ('Read more', 'https://amjconsultancy.ae/services#accounting', 'services'), ('Read more', 'https://amjconsultancy.ae/services#book', 'services'), ('Read more', 'https://amjconsultancy.ae/services#compliance', 'services'), ('Read more', 'https://amjconsultancy.ae/services#registration', 'services'), ('Services', 'https://www.instagram.com/amjconsultancy.services/%20', 'services'), ('Services', 'https://amjconsultancy.ae/services/', 'services'), ('Accounting', 'https://amjconsultancy.ae/services/#accounting', 'services'), ('Book Keeping', 'https://amjconsultancy.ae/services/#book', 'services'), ('Compliances', 'https://amjconsultancy.ae/services/#compliance', 'services'), ('Registration & Incorporation', 'https://amjconsultancy.ae/services/#registration', 'services')]\n"
     ]
    },
    {
     "name": "stderr",
     "output_type": "stream",
     "text": [
      "/tmp/ipykernel_64118/638342718.py:246: PydanticDeprecatedSince20: The `dict` method is deprecated; use `model_dump` instead. Deprecated in Pydantic V2.0 to be removed in V3.0. See Pydantic V2 Migration Guide at https://errors.pydantic.dev/2.11/migration/\n",
      "  response_content = json.dumps(result.dict() if hasattr(result, 'dict') else result.__dict__, ensure_ascii=False, indent=2)\n"
     ]
    },
    {
     "name": "stdout",
     "output_type": "stream",
     "text": [
      "6\n",
      "['https://amjconsultancy.ae/about/', 'https://amjconsultancy.ae/contact/', 'https://amjconsultancy.ae/services/', 'https://amjconsultancy.ae/accounting-services/', 'https://amjconsultancy.ae/bookkeeping-services/', 'https://amjconsultancy.ae/compliance-services/']\n",
      "\n",
      "\n"
     ]
    },
    {
     "name": "stderr",
     "output_type": "stream",
     "text": [
      "/tmp/ipykernel_64118/638342718.py:246: PydanticDeprecatedSince20: The `dict` method is deprecated; use `model_dump` instead. Deprecated in Pydantic V2.0 to be removed in V3.0. See Pydantic V2 Migration Guide at https://errors.pydantic.dev/2.11/migration/\n",
      "  response_content = json.dumps(result.dict() if hasattr(result, 'dict') else result.__dict__, ensure_ascii=False, indent=2)\n"
     ]
    },
    {
     "name": "stdout",
     "output_type": "stream",
     "text": [
      "Logo saved to ../growbal_django/media/logos/final-logo-1_0.png\n",
      "Error getting profile from website: ServiceProviderProfile matching query does not exist.\n",
      "creating user with name and email\n",
      "created user with email and name\n",
      "Error profile does not exist!\n",
      "Profile created: AMJ Consultancy\n",
      "Service created: Professional Accounting & Financial Services\n",
      "Scrape created: https://amjconsultancy.ae/\n",
      "Successful processed entries 6/632 Organization: A M J TAX CONSULTANCY AND BOOKS KEEPING - L.L.C -  ...\n",
      "Processing Entry 7/632 Organization: A R A Associates Accountants And Consultants\n"
     ]
    },
    {
     "name": "stderr",
     "output_type": "stream",
     "text": [
      "/tmp/ipykernel_64118/638342718.py:246: PydanticDeprecatedSince20: The `dict` method is deprecated; use `model_dump` instead. Deprecated in Pydantic V2.0 to be removed in V3.0. See Pydantic V2 Migration Guide at https://errors.pydantic.dev/2.11/migration/\n",
      "  response_content = json.dumps(result.dict() if hasattr(result, 'dict') else result.__dict__, ensure_ascii=False, indent=2)\n"
     ]
    },
    {
     "name": "stdout",
     "output_type": "stream",
     "text": [
      "Processing search term: ARA Associates Accountants Dubai\n"
     ]
    },
    {
     "name": "stderr",
     "output_type": "stream",
     "text": [
      "/tmp/ipykernel_64118/638342718.py:246: PydanticDeprecatedSince20: The `dict` method is deprecated; use `model_dump` instead. Deprecated in Pydantic V2.0 to be removed in V3.0. See Pydantic V2 Migration Guide at https://errors.pydantic.dev/2.11/migration/\n",
      "  response_content = json.dumps(result.dict() if hasattr(result, 'dict') else result.__dict__, ensure_ascii=False, indent=2)\n"
     ]
    },
    {
     "name": "stdout",
     "output_type": "stream",
     "text": [
      "explanation=\"The second search result, 'ARA Associates Accountants & Consultants | Dubai', appears to be the most relevant. The title and snippet indicate that this is the official website of the ARA Associates accounting firm in Dubai, which directly matches the search term.\" link='https://www.facebook.com/aradubai/'\n",
      "Successful processed entries 7/632 Organization: A R A Associates Accountants And Consultants\n",
      "Processing Entry 8/632 Organization: A T C TAX CONSULTANTS\n"
     ]
    },
    {
     "name": "stderr",
     "output_type": "stream",
     "text": [
      "/tmp/ipykernel_64118/638342718.py:246: PydanticDeprecatedSince20: The `dict` method is deprecated; use `model_dump` instead. Deprecated in Pydantic V2.0 to be removed in V3.0. See Pydantic V2 Migration Guide at https://errors.pydantic.dev/2.11/migration/\n",
      "  response_content = json.dumps(result.dict() if hasattr(result, 'dict') else result.__dict__, ensure_ascii=False, indent=2)\n"
     ]
    },
    {
     "name": "stdout",
     "output_type": "stream",
     "text": [
      "Processing search term: ATC Tax Consultants Dubai\n"
     ]
    },
    {
     "name": "stderr",
     "output_type": "stream",
     "text": [
      "/tmp/ipykernel_64118/638342718.py:246: PydanticDeprecatedSince20: The `dict` method is deprecated; use `model_dump` instead. Deprecated in Pydantic V2.0 to be removed in V3.0. See Pydantic V2 Migration Guide at https://errors.pydantic.dev/2.11/migration/\n",
      "  response_content = json.dumps(result.dict() if hasattr(result, 'dict') else result.__dict__, ensure_ascii=False, indent=2)\n"
     ]
    },
    {
     "name": "stdout",
     "output_type": "stream",
     "text": [
      "explanation=\"The third search result, 'ATC – Advisors Tax Consultancy', appears to be the official website of ATC Tax Consultants in Dubai. The title and snippet indicate that this is the company's website, which provides tax consultancy services in the UAE.\" link='https://atc-uae.com/'\n",
      "Processing https://atc-uae.com/\n",
      "----------BASE PAGE----------\n",
      "https://atc-uae.com/\n",
      "clean_text: 849 tokens\n",
      "clean_html: 36443 tokens\n"
     ]
    },
    {
     "name": "stderr",
     "output_type": "stream",
     "text": [
      "/tmp/ipykernel_64118/638342718.py:246: PydanticDeprecatedSince20: The `dict` method is deprecated; use `model_dump` instead. Deprecated in Pydantic V2.0 to be removed in V3.0. See Pydantic V2 Migration Guide at https://errors.pydantic.dev/2.11/migration/\n",
      "  response_content = json.dumps(result.dict() if hasattr(result, 'dict') else result.__dict__, ensure_ascii=False, indent=2)\n"
     ]
    },
    {
     "name": "stdout",
     "output_type": "stream",
     "text": [
      "Slice LLM took 8.95s. Produced 6 slices.\n"
     ]
    },
    {
     "name": "stderr",
     "output_type": "stream",
     "text": [
      "/tmp/ipykernel_64118/638342718.py:246: PydanticDeprecatedSince20: The `dict` method is deprecated; use `model_dump` instead. Deprecated in Pydantic V2.0 to be removed in V3.0. See Pydantic V2 Migration Guide at https://errors.pydantic.dev/2.11/migration/\n",
      "  response_content = json.dumps(result.dict() if hasattr(result, 'dict') else result.__dict__, ensure_ascii=False, indent=2)\n"
     ]
    },
    {
     "name": "stdout",
     "output_type": "stream",
     "text": [
      "Slice LLM took 3.76s. Produced 6 slices.\n"
     ]
    },
    {
     "name": "stderr",
     "output_type": "stream",
     "text": [
      "/tmp/ipykernel_64118/638342718.py:246: PydanticDeprecatedSince20: The `dict` method is deprecated; use `model_dump` instead. Deprecated in Pydantic V2.0 to be removed in V3.0. See Pydantic V2 Migration Guide at https://errors.pydantic.dev/2.11/migration/\n",
      "  response_content = json.dumps(result.dict() if hasattr(result, 'dict') else result.__dict__, ensure_ascii=False, indent=2)\n"
     ]
    },
    {
     "name": "stdout",
     "output_type": "stream",
     "text": [
      "Slice LLM took 10.59s. Produced 6 slices.\n",
      "sliced_html: 10735 tokens\n",
      "----------NAV LINKS----------\n",
      "[('About', 'https://atc-uae.com/about/', 'about'), ('Services', 'https://atc-uae.com/offer/', 'services'), ('Contact', 'https://atc-uae.com/contact/', 'contact')]\n"
     ]
    },
    {
     "name": "stderr",
     "output_type": "stream",
     "text": [
      "/tmp/ipykernel_64118/638342718.py:246: PydanticDeprecatedSince20: The `dict` method is deprecated; use `model_dump` instead. Deprecated in Pydantic V2.0 to be removed in V3.0. See Pydantic V2 Migration Guide at https://errors.pydantic.dev/2.11/migration/\n",
      "  response_content = json.dumps(result.dict() if hasattr(result, 'dict') else result.__dict__, ensure_ascii=False, indent=2)\n"
     ]
    },
    {
     "name": "stdout",
     "output_type": "stream",
     "text": [
      "3\n",
      "['https://atc-uae.com/about/', 'https://atc-uae.com/contact/', 'https://atc-uae.com/offer/']\n",
      "\n",
      "\n",
      "clean_text: 421 tokens\n",
      "clean_html: 5531 tokens\n",
      "count_tokens(clean_html) 0 before approval: 5531\n"
     ]
    },
    {
     "name": "stderr",
     "output_type": "stream",
     "text": [
      "/tmp/ipykernel_64118/638342718.py:246: PydanticDeprecatedSince20: The `dict` method is deprecated; use `model_dump` instead. Deprecated in Pydantic V2.0 to be removed in V3.0. See Pydantic V2 Migration Guide at https://errors.pydantic.dev/2.11/migration/\n",
      "  response_content = json.dumps(result.dict() if hasattr(result, 'dict') else result.__dict__, ensure_ascii=False, indent=2)\n"
     ]
    },
    {
     "name": "stdout",
     "output_type": "stream",
     "text": [
      "Slice LLM took 2.94s. Produced 6 slices.\n",
      "sliced_html: 1686 tokens\n",
      "clean_text: 303 tokens\n",
      "clean_html: 5737 tokens\n",
      "count_tokens(clean_html) 1 before approval: 5737\n"
     ]
    },
    {
     "name": "stderr",
     "output_type": "stream",
     "text": [
      "/tmp/ipykernel_64118/638342718.py:246: PydanticDeprecatedSince20: The `dict` method is deprecated; use `model_dump` instead. Deprecated in Pydantic V2.0 to be removed in V3.0. See Pydantic V2 Migration Guide at https://errors.pydantic.dev/2.11/migration/\n",
      "  response_content = json.dumps(result.dict() if hasattr(result, 'dict') else result.__dict__, ensure_ascii=False, indent=2)\n"
     ]
    },
    {
     "name": "stdout",
     "output_type": "stream",
     "text": [
      "Slice LLM took 2.75s. Produced 6 slices.\n",
      "sliced_html: 2303 tokens\n",
      "clean_text: 877 tokens\n",
      "clean_html: 7487 tokens\n",
      "count_tokens(clean_html) 2 before approval: 7487\n"
     ]
    },
    {
     "name": "stderr",
     "output_type": "stream",
     "text": [
      "/tmp/ipykernel_64118/638342718.py:246: PydanticDeprecatedSince20: The `dict` method is deprecated; use `model_dump` instead. Deprecated in Pydantic V2.0 to be removed in V3.0. See Pydantic V2 Migration Guide at https://errors.pydantic.dev/2.11/migration/\n",
      "  response_content = json.dumps(result.dict() if hasattr(result, 'dict') else result.__dict__, ensure_ascii=False, indent=2)\n"
     ]
    },
    {
     "name": "stdout",
     "output_type": "stream",
     "text": [
      "Slice LLM took 3.31s. Produced 12 slices.\n",
      "sliced_html: 4640 tokens\n"
     ]
    },
    {
     "name": "stderr",
     "output_type": "stream",
     "text": [
      "/tmp/ipykernel_64118/638342718.py:246: PydanticDeprecatedSince20: The `dict` method is deprecated; use `model_dump` instead. Deprecated in Pydantic V2.0 to be removed in V3.0. See Pydantic V2 Migration Guide at https://errors.pydantic.dev/2.11/migration/\n",
      "  response_content = json.dumps(result.dict() if hasattr(result, 'dict') else result.__dict__, ensure_ascii=False, indent=2)\n"
     ]
    },
    {
     "name": "stdout",
     "output_type": "stream",
     "text": [
      "Logo saved to ../growbal_django/media/logos/ACT-6666_0.png\n",
      "Error getting profile from website: ServiceProviderProfile matching query does not exist.\n",
      "creating user with name and email\n",
      "created user with email and name\n",
      "Error profile does not exist!\n",
      "Profile created: ATC - Advisors Tax Consultancy\n",
      "Service created: Tax and Accounting Consultancy Services\n",
      "Scrape created: https://atc-uae.com/\n",
      "Successful processed entries 8/632 Organization: A T C TAX CONSULTANTS\n",
      "Processing Entry 9/632 Organization: A T H Accounting & Bookkeeping\n"
     ]
    },
    {
     "name": "stderr",
     "output_type": "stream",
     "text": [
      "/tmp/ipykernel_64118/638342718.py:246: PydanticDeprecatedSince20: The `dict` method is deprecated; use `model_dump` instead. Deprecated in Pydantic V2.0 to be removed in V3.0. See Pydantic V2 Migration Guide at https://errors.pydantic.dev/2.11/migration/\n",
      "  response_content = json.dumps(result.dict() if hasattr(result, 'dict') else result.__dict__, ensure_ascii=False, indent=2)\n"
     ]
    },
    {
     "name": "stdout",
     "output_type": "stream",
     "text": [
      "Processing search term: ATH Accounting Bookkeeping Dubai\n"
     ]
    },
    {
     "name": "stderr",
     "output_type": "stream",
     "text": [
      "/tmp/ipykernel_64118/638342718.py:246: PydanticDeprecatedSince20: The `dict` method is deprecated; use `model_dump` instead. Deprecated in Pydantic V2.0 to be removed in V3.0. See Pydantic V2 Migration Guide at https://errors.pydantic.dev/2.11/migration/\n",
      "  response_content = json.dumps(result.dict() if hasattr(result, 'dict') else result.__dict__, ensure_ascii=False, indent=2)\n"
     ]
    },
    {
     "name": "stdout",
     "output_type": "stream",
     "text": [
      "explanation=\"The second search result, 'ATH Consultants | Audit and assurance, ERP, tax services and ...', appears to be the most relevant. The title and snippet indicate that this is the official website of ATH Consultants, an accounting and business services firm based in Dubai. This aligns well with the search term 'ATH Accounting Bookkeeping Dubai'.\" link='https://www.athconsultants.com/'\n",
      "Successful processed entries 9/632 Organization: A T H Accounting & Bookkeeping\n",
      "Processing Entry 10/632 Organization: A T N-MAC ACCOUNTING & BOOK KEEPING\n"
     ]
    },
    {
     "name": "stderr",
     "output_type": "stream",
     "text": [
      "/tmp/ipykernel_64118/638342718.py:246: PydanticDeprecatedSince20: The `dict` method is deprecated; use `model_dump` instead. Deprecated in Pydantic V2.0 to be removed in V3.0. See Pydantic V2 Migration Guide at https://errors.pydantic.dev/2.11/migration/\n",
      "  response_content = json.dumps(result.dict() if hasattr(result, 'dict') else result.__dict__, ensure_ascii=False, indent=2)\n"
     ]
    },
    {
     "name": "stdout",
     "output_type": "stream",
     "text": [
      "Processing search term: ATN-MAC Accounting Bookkeeping Dubai\n"
     ]
    },
    {
     "name": "stderr",
     "output_type": "stream",
     "text": [
      "/tmp/ipykernel_64118/638342718.py:246: PydanticDeprecatedSince20: The `dict` method is deprecated; use `model_dump` instead. Deprecated in Pydantic V2.0 to be removed in V3.0. See Pydantic V2 Migration Guide at https://errors.pydantic.dev/2.11/migration/\n",
      "  response_content = json.dumps(result.dict() if hasattr(result, 'dict') else result.__dict__, ensure_ascii=False, indent=2)\n"
     ]
    },
    {
     "name": "stdout",
     "output_type": "stream",
     "text": [
      "explanation=\"The first search result, 'ATNMAC', appears to be the official website of the ATN-MAC accounting and bookkeeping firm in Dubai. The title, link, and snippet all indicate that this is the company's official website, which is directly relevant to the search term.\" link='https://atn-mac.com/'\n",
      "Successful processed entries 10/632 Organization: A T N-MAC ACCOUNTING & BOOK KEEPING\n",
      "Processing Entry 11/632 Organization: A T T consultancy LLC\n"
     ]
    },
    {
     "name": "stderr",
     "output_type": "stream",
     "text": [
      "/tmp/ipykernel_64118/638342718.py:246: PydanticDeprecatedSince20: The `dict` method is deprecated; use `model_dump` instead. Deprecated in Pydantic V2.0 to be removed in V3.0. See Pydantic V2 Migration Guide at https://errors.pydantic.dev/2.11/migration/\n",
      "  response_content = json.dumps(result.dict() if hasattr(result, 'dict') else result.__dict__, ensure_ascii=False, indent=2)\n"
     ]
    },
    {
     "name": "stdout",
     "output_type": "stream",
     "text": [
      "Processing search term: ATT consultancy LLC Dubai\n"
     ]
    },
    {
     "name": "stderr",
     "output_type": "stream",
     "text": [
      "/tmp/ipykernel_64118/638342718.py:246: PydanticDeprecatedSince20: The `dict` method is deprecated; use `model_dump` instead. Deprecated in Pydantic V2.0 to be removed in V3.0. See Pydantic V2 Migration Guide at https://errors.pydantic.dev/2.11/migration/\n",
      "  response_content = json.dumps(result.dict() if hasattr(result, 'dict') else result.__dict__, ensure_ascii=False, indent=2)\n"
     ]
    },
    {
     "name": "stdout",
     "output_type": "stream",
     "text": [
      "explanation=\"The first search result, 'ATT Consultancy: Home', appears to be the official website of the ATT Consultancy LLC company based in Dubai. The title and snippet indicate that this is the company's main website, which is highly relevant to the search term.\" link='https://attconsultancy.com/'\n",
      "Processing https://attconsultancy.com/\n",
      "----------BASE PAGE----------\n",
      "https://attconsultancy.com/\n",
      "clean_text: 465 tokens\n",
      "clean_html: 22570 tokens\n"
     ]
    },
    {
     "name": "stderr",
     "output_type": "stream",
     "text": [
      "/tmp/ipykernel_64118/638342718.py:246: PydanticDeprecatedSince20: The `dict` method is deprecated; use `model_dump` instead. Deprecated in Pydantic V2.0 to be removed in V3.0. See Pydantic V2 Migration Guide at https://errors.pydantic.dev/2.11/migration/\n",
      "  response_content = json.dumps(result.dict() if hasattr(result, 'dict') else result.__dict__, ensure_ascii=False, indent=2)\n"
     ]
    },
    {
     "name": "stdout",
     "output_type": "stream",
     "text": [
      "Slice LLM took 2.90s. Produced 6 slices.\n"
     ]
    },
    {
     "name": "stderr",
     "output_type": "stream",
     "text": [
      "/tmp/ipykernel_64118/638342718.py:246: PydanticDeprecatedSince20: The `dict` method is deprecated; use `model_dump` instead. Deprecated in Pydantic V2.0 to be removed in V3.0. See Pydantic V2 Migration Guide at https://errors.pydantic.dev/2.11/migration/\n",
      "  response_content = json.dumps(result.dict() if hasattr(result, 'dict') else result.__dict__, ensure_ascii=False, indent=2)\n"
     ]
    },
    {
     "name": "stdout",
     "output_type": "stream",
     "text": [
      "Slice LLM took 3.26s. Produced 6 slices.\n",
      "sliced_html: 5773 tokens\n",
      "----------NAV LINKS----------\n",
      "[('About', 'https://attconsultancy.com/about-us/', 'about'), ('Services', 'https://attconsultancy.com/services/', 'services'), ('Contact', 'https://attconsultancy.com/contact-us/', 'contact'), ('Services', 'https://attconsultancy.com/services/corporate-tax-for-free-zone-companies/', 'services'), ('Services', 'https://attconsultancy.com/services/corporate-tax/', 'services'), ('Services', 'https://attconsultancy.com/services/advisory-services/', 'services'), ('Services', 'https://attconsultancy.com/services/auditing/', 'services'), ('Services', 'https://attconsultancy.com/services/value-added-tax/', 'services')]\n"
     ]
    },
    {
     "name": "stderr",
     "output_type": "stream",
     "text": [
      "/tmp/ipykernel_64118/638342718.py:246: PydanticDeprecatedSince20: The `dict` method is deprecated; use `model_dump` instead. Deprecated in Pydantic V2.0 to be removed in V3.0. See Pydantic V2 Migration Guide at https://errors.pydantic.dev/2.11/migration/\n",
      "  response_content = json.dumps(result.dict() if hasattr(result, 'dict') else result.__dict__, ensure_ascii=False, indent=2)\n"
     ]
    },
    {
     "name": "stdout",
     "output_type": "stream",
     "text": [
      "8\n",
      "['https://attconsultancy.com/about-us/', 'https://attconsultancy.com/contact-us/', 'https://attconsultancy.com/services/', 'https://attconsultancy.com/services/corporate-tax-for-free-zone-companies/', 'https://attconsultancy.com/services/corporate-tax/', 'https://attconsultancy.com/services/advisory-services/', 'https://attconsultancy.com/services/auditing/', 'https://attconsultancy.com/services/value-added-tax/']\n",
      "\n",
      "\n",
      "clean_text: 440 tokens\n",
      "clean_html: 11301 tokens\n",
      "count_tokens(clean_html) 0 before approval: 11301\n"
     ]
    },
    {
     "name": "stderr",
     "output_type": "stream",
     "text": [
      "/tmp/ipykernel_64118/638342718.py:246: PydanticDeprecatedSince20: The `dict` method is deprecated; use `model_dump` instead. Deprecated in Pydantic V2.0 to be removed in V3.0. See Pydantic V2 Migration Guide at https://errors.pydantic.dev/2.11/migration/\n",
      "  response_content = json.dumps(result.dict() if hasattr(result, 'dict') else result.__dict__, ensure_ascii=False, indent=2)\n"
     ]
    },
    {
     "name": "stdout",
     "output_type": "stream",
     "text": [
      "Slice LLM took 2.88s. Produced 6 slices.\n",
      "sliced_html: 957 tokens\n",
      "clean_text: 214 tokens\n",
      "clean_html: 12134 tokens\n",
      "count_tokens(clean_html) 1 before approval: 12134\n"
     ]
    },
    {
     "name": "stderr",
     "output_type": "stream",
     "text": [
      "/tmp/ipykernel_64118/638342718.py:246: PydanticDeprecatedSince20: The `dict` method is deprecated; use `model_dump` instead. Deprecated in Pydantic V2.0 to be removed in V3.0. See Pydantic V2 Migration Guide at https://errors.pydantic.dev/2.11/migration/\n",
      "  response_content = json.dumps(result.dict() if hasattr(result, 'dict') else result.__dict__, ensure_ascii=False, indent=2)\n"
     ]
    },
    {
     "name": "stdout",
     "output_type": "stream",
     "text": [
      "Slice LLM took 3.03s. Produced 6 slices.\n",
      "sliced_html: 2948 tokens\n",
      "clean_text: 253 tokens\n",
      "clean_html: 11921 tokens\n",
      "count_tokens(clean_html) 2 before approval: 11921\n"
     ]
    },
    {
     "name": "stderr",
     "output_type": "stream",
     "text": [
      "/tmp/ipykernel_64118/638342718.py:246: PydanticDeprecatedSince20: The `dict` method is deprecated; use `model_dump` instead. Deprecated in Pydantic V2.0 to be removed in V3.0. See Pydantic V2 Migration Guide at https://errors.pydantic.dev/2.11/migration/\n",
      "  response_content = json.dumps(result.dict() if hasattr(result, 'dict') else result.__dict__, ensure_ascii=False, indent=2)\n"
     ]
    },
    {
     "name": "stdout",
     "output_type": "stream",
     "text": [
      "Slice LLM took 2.75s. Produced 6 slices.\n",
      "sliced_html: 2041 tokens\n",
      "clean_text: 264 tokens\n",
      "clean_html: 10488 tokens\n",
      "count_tokens(clean_html) 3 before approval: 10488\n"
     ]
    },
    {
     "name": "stderr",
     "output_type": "stream",
     "text": [
      "/tmp/ipykernel_64118/638342718.py:246: PydanticDeprecatedSince20: The `dict` method is deprecated; use `model_dump` instead. Deprecated in Pydantic V2.0 to be removed in V3.0. See Pydantic V2 Migration Guide at https://errors.pydantic.dev/2.11/migration/\n",
      "  response_content = json.dumps(result.dict() if hasattr(result, 'dict') else result.__dict__, ensure_ascii=False, indent=2)\n"
     ]
    },
    {
     "name": "stdout",
     "output_type": "stream",
     "text": [
      "Slice LLM took 2.82s. Produced 7 slices.\n",
      "sliced_html: 3506 tokens\n",
      "clean_text: 208 tokens\n",
      "clean_html: 10374 tokens\n",
      "count_tokens(clean_html) 4 before approval: 10374\n"
     ]
    },
    {
     "name": "stderr",
     "output_type": "stream",
     "text": [
      "/tmp/ipykernel_64118/638342718.py:246: PydanticDeprecatedSince20: The `dict` method is deprecated; use `model_dump` instead. Deprecated in Pydantic V2.0 to be removed in V3.0. See Pydantic V2 Migration Guide at https://errors.pydantic.dev/2.11/migration/\n",
      "  response_content = json.dumps(result.dict() if hasattr(result, 'dict') else result.__dict__, ensure_ascii=False, indent=2)\n"
     ]
    },
    {
     "name": "stdout",
     "output_type": "stream",
     "text": [
      "Slice LLM took 3.00s. Produced 6 slices.\n",
      "sliced_html: 2512 tokens\n",
      "clean_text: 176 tokens\n",
      "clean_html: 10339 tokens\n",
      "count_tokens(clean_html) 5 before approval: 10339\n"
     ]
    },
    {
     "name": "stderr",
     "output_type": "stream",
     "text": [
      "/tmp/ipykernel_64118/638342718.py:246: PydanticDeprecatedSince20: The `dict` method is deprecated; use `model_dump` instead. Deprecated in Pydantic V2.0 to be removed in V3.0. See Pydantic V2 Migration Guide at https://errors.pydantic.dev/2.11/migration/\n",
      "  response_content = json.dumps(result.dict() if hasattr(result, 'dict') else result.__dict__, ensure_ascii=False, indent=2)\n"
     ]
    },
    {
     "name": "stdout",
     "output_type": "stream",
     "text": [
      "Slice LLM took 2.74s. Produced 6 slices.\n",
      "sliced_html: 1345 tokens\n",
      "clean_text: 173 tokens\n",
      "clean_html: 10338 tokens\n",
      "count_tokens(clean_html) 6 before approval: 10338\n"
     ]
    },
    {
     "name": "stderr",
     "output_type": "stream",
     "text": [
      "/tmp/ipykernel_64118/638342718.py:246: PydanticDeprecatedSince20: The `dict` method is deprecated; use `model_dump` instead. Deprecated in Pydantic V2.0 to be removed in V3.0. See Pydantic V2 Migration Guide at https://errors.pydantic.dev/2.11/migration/\n",
      "  response_content = json.dumps(result.dict() if hasattr(result, 'dict') else result.__dict__, ensure_ascii=False, indent=2)\n"
     ]
    },
    {
     "name": "stdout",
     "output_type": "stream",
     "text": [
      "Slice LLM took 3.49s. Produced 8 slices.\n",
      "sliced_html: 3279 tokens\n",
      "clean_text: 233 tokens\n",
      "clean_html: 10406 tokens\n",
      "count_tokens(clean_html) 7 before approval: 10406\n"
     ]
    },
    {
     "name": "stderr",
     "output_type": "stream",
     "text": [
      "/tmp/ipykernel_64118/638342718.py:246: PydanticDeprecatedSince20: The `dict` method is deprecated; use `model_dump` instead. Deprecated in Pydantic V2.0 to be removed in V3.0. See Pydantic V2 Migration Guide at https://errors.pydantic.dev/2.11/migration/\n",
      "  response_content = json.dumps(result.dict() if hasattr(result, 'dict') else result.__dict__, ensure_ascii=False, indent=2)\n"
     ]
    },
    {
     "name": "stdout",
     "output_type": "stream",
     "text": [
      "Slice LLM took 3.37s. Produced 5 slices.\n",
      "sliced_html: 2390 tokens\n"
     ]
    },
    {
     "name": "stderr",
     "output_type": "stream",
     "text": [
      "/tmp/ipykernel_64118/638342718.py:246: PydanticDeprecatedSince20: The `dict` method is deprecated; use `model_dump` instead. Deprecated in Pydantic V2.0 to be removed in V3.0. See Pydantic V2 Migration Guide at https://errors.pydantic.dev/2.11/migration/\n",
      "  response_content = json.dumps(result.dict() if hasattr(result, 'dict') else result.__dict__, ensure_ascii=False, indent=2)\n"
     ]
    },
    {
     "name": "stdout",
     "output_type": "stream",
     "text": [
      "Logo saved to ../growbal_django/media/logos/background-removed_0.png\n",
      "Error getting profile from website: ServiceProviderProfile matching query does not exist.\n",
      "creating user with name and email\n",
      "created user with email and name\n",
      "Error profile does not exist!\n",
      "Profile created: Association of Taxation Technicians Consultancy\n",
      "Service created: Tax Consultancy and Compliance Services\n",
      "Scrape created: https://attconsultancy.com/\n",
      "Successful processed entries 11/632 Organization: A T T consultancy LLC\n",
      "Processing Entry 12/632 Organization: A T W A ACCOUNTING AND TAXATION L.L.C\n"
     ]
    },
    {
     "name": "stderr",
     "output_type": "stream",
     "text": [
      "/tmp/ipykernel_64118/638342718.py:246: PydanticDeprecatedSince20: The `dict` method is deprecated; use `model_dump` instead. Deprecated in Pydantic V2.0 to be removed in V3.0. See Pydantic V2 Migration Guide at https://errors.pydantic.dev/2.11/migration/\n",
      "  response_content = json.dumps(result.dict() if hasattr(result, 'dict') else result.__dict__, ensure_ascii=False, indent=2)\n"
     ]
    },
    {
     "name": "stdout",
     "output_type": "stream",
     "text": [
      "Processing search term: ATWA Accounting and Taxation LLC Dubai\n"
     ]
    },
    {
     "name": "stderr",
     "output_type": "stream",
     "text": [
      "/tmp/ipykernel_64118/638342718.py:246: PydanticDeprecatedSince20: The `dict` method is deprecated; use `model_dump` instead. Deprecated in Pydantic V2.0 to be removed in V3.0. See Pydantic V2 Migration Guide at https://errors.pydantic.dev/2.11/migration/\n",
      "  response_content = json.dumps(result.dict() if hasattr(result, 'dict') else result.__dict__, ensure_ascii=False, indent=2)\n"
     ]
    },
    {
     "name": "stdout",
     "output_type": "stream",
     "text": [
      "explanation=\"The second search result, 'About us' on the website atwa.ae, appears to be the most relevant. The title and link indicate that this is the official website of ATWA Accounting and Taxation LLC in Dubai, which directly matches the search term.\" link='https://atwa.ae/about-us/'\n",
      "Processing https://atwa.ae/about-us/\n",
      "----------BASE PAGE----------\n",
      "https://atwa.ae/about-us/\n",
      "Error processing base page: Error code: 400 - {'type': 'error', 'error': {'type': 'invalid_request_error', 'message': 'messages.0: all messages must have non-empty content except for the optional final assistant message'}, 'request_id': 'req_011CTHdujVJZsTDceoMG84CG'}\n",
      "Successful processed entries 12/632 Organization: A T W A ACCOUNTING AND TAXATION L.L.C\n",
      "Processing Entry 13/632 Organization: A&S TAX CONSULTANT (FZE)\n"
     ]
    },
    {
     "name": "stderr",
     "output_type": "stream",
     "text": [
      "/tmp/ipykernel_64118/638342718.py:246: PydanticDeprecatedSince20: The `dict` method is deprecated; use `model_dump` instead. Deprecated in Pydantic V2.0 to be removed in V3.0. See Pydantic V2 Migration Guide at https://errors.pydantic.dev/2.11/migration/\n",
      "  response_content = json.dumps(result.dict() if hasattr(result, 'dict') else result.__dict__, ensure_ascii=False, indent=2)\n"
     ]
    },
    {
     "name": "stdout",
     "output_type": "stream",
     "text": [
      "Processing search term: A&S Tax Consultant FZE Sharjah\n"
     ]
    },
    {
     "name": "stderr",
     "output_type": "stream",
     "text": [
      "/tmp/ipykernel_64118/638342718.py:246: PydanticDeprecatedSince20: The `dict` method is deprecated; use `model_dump` instead. Deprecated in Pydantic V2.0 to be removed in V3.0. See Pydantic V2 Migration Guide at https://errors.pydantic.dev/2.11/migration/\n",
      "  response_content = json.dumps(result.dict() if hasattr(result, 'dict') else result.__dict__, ensure_ascii=False, indent=2)\n"
     ]
    },
    {
     "name": "stdout",
     "output_type": "stream",
     "text": [
      "explanation=\"The first search result appears to be the most relevant, as it directly mentions 'A&S TAX CONSULTANT (FZE)' which seems to be the company name and location specified in the search term. The title and snippet indicate this is likely the official website or listing for this tax consultant firm in Sharjah.\" link='https://naqood.ae/accountants/sharjah'\n",
      "Processing https://naqood.ae/accountants/sharjah\n",
      "----------BASE PAGE----------\n",
      "https://naqood.ae/accountants/sharjah\n",
      "clean_text: 1542 tokens\n",
      "clean_html: 34362 tokens\n"
     ]
    },
    {
     "name": "stderr",
     "output_type": "stream",
     "text": [
      "/tmp/ipykernel_64118/638342718.py:246: PydanticDeprecatedSince20: The `dict` method is deprecated; use `model_dump` instead. Deprecated in Pydantic V2.0 to be removed in V3.0. See Pydantic V2 Migration Guide at https://errors.pydantic.dev/2.11/migration/\n",
      "  response_content = json.dumps(result.dict() if hasattr(result, 'dict') else result.__dict__, ensure_ascii=False, indent=2)\n"
     ]
    },
    {
     "name": "stdout",
     "output_type": "stream",
     "text": [
      "Slice LLM took 2.95s. Produced 6 slices.\n"
     ]
    },
    {
     "name": "stderr",
     "output_type": "stream",
     "text": [
      "/tmp/ipykernel_64118/638342718.py:246: PydanticDeprecatedSince20: The `dict` method is deprecated; use `model_dump` instead. Deprecated in Pydantic V2.0 to be removed in V3.0. See Pydantic V2 Migration Guide at https://errors.pydantic.dev/2.11/migration/\n",
      "  response_content = json.dumps(result.dict() if hasattr(result, 'dict') else result.__dict__, ensure_ascii=False, indent=2)\n"
     ]
    },
    {
     "name": "stdout",
     "output_type": "stream",
     "text": [
      "Slice LLM took 10.63s. Produced 6 slices.\n"
     ]
    },
    {
     "name": "stderr",
     "output_type": "stream",
     "text": [
      "/tmp/ipykernel_64118/638342718.py:246: PydanticDeprecatedSince20: The `dict` method is deprecated; use `model_dump` instead. Deprecated in Pydantic V2.0 to be removed in V3.0. See Pydantic V2 Migration Guide at https://errors.pydantic.dev/2.11/migration/\n",
      "  response_content = json.dumps(result.dict() if hasattr(result, 'dict') else result.__dict__, ensure_ascii=False, indent=2)\n"
     ]
    },
    {
     "name": "stdout",
     "output_type": "stream",
     "text": [
      "Slice LLM took 1.92s. Produced 4 slices.\n",
      "sliced_html: 62470 tokens\n",
      "----------NAV LINKS----------\n",
      "[('Product', '../Product-overview', 'services'), ('AB CAPITAL SERVICES  FZESharjahabcapital.aeinfo@abcapital.ae971523655193', './ab-capital-services-fze', 'services'), ('AL RIYADAH TAX & MANAGEMENT CONSULTANCYSharjahalriyadahae.comWaszoubiWalzoubi@alriyadahae.comWaszoubi@gmail.com', './al-riyadah-tax-management-consultancy', 'team'), ('Almulla For Accounting & Tax ServicesSharjahFTATAXAGENT@GMAIL.COM', './almulla-for-accounting-tax-services', 'services'), ('Our Story', '../about', 'about'), ('Terms of Service', '../Terms-of-Service', 'services')]\n"
     ]
    },
    {
     "name": "stderr",
     "output_type": "stream",
     "text": [
      "/tmp/ipykernel_64118/638342718.py:246: PydanticDeprecatedSince20: The `dict` method is deprecated; use `model_dump` instead. Deprecated in Pydantic V2.0 to be removed in V3.0. See Pydantic V2 Migration Guide at https://errors.pydantic.dev/2.11/migration/\n",
      "  response_content = json.dumps(result.dict() if hasattr(result, 'dict') else result.__dict__, ensure_ascii=False, indent=2)\n"
     ]
    },
    {
     "name": "stdout",
     "output_type": "stream",
     "text": [
      "1\n",
      "['https://naqood.ae/about']\n",
      "\n",
      "\n"
     ]
    },
    {
     "name": "stderr",
     "output_type": "stream",
     "text": [
      "/tmp/ipykernel_64118/638342718.py:246: PydanticDeprecatedSince20: The `dict` method is deprecated; use `model_dump` instead. Deprecated in Pydantic V2.0 to be removed in V3.0. See Pydantic V2 Migration Guide at https://errors.pydantic.dev/2.11/migration/\n",
      "  response_content = json.dumps(result.dict() if hasattr(result, 'dict') else result.__dict__, ensure_ascii=False, indent=2)\n"
     ]
    },
    {
     "name": "stdout",
     "output_type": "stream",
     "text": [
      "Failed to download logo: 404 Client Error: Not Found for url: https://naqood.ae/logo.svg\n",
      "creating user with name and email\n",
      "created user with email and name\n",
      "Error profile does not exist!\n",
      "Profile created: A&S TAX CONSULTANT (FZE)\n",
      "Service created: Accounting and Tax Consultancy Services\n",
      "Scrape created: https://naqood.ae/accountants/sharjah\n",
      "Successful processed entries 13/632 Organization: A&S TAX CONSULTANT (FZE)\n",
      "Processing Entry 14/632 Organization: AB CAPITAL SERVICES  FZE\n"
     ]
    },
    {
     "name": "stderr",
     "output_type": "stream",
     "text": [
      "/tmp/ipykernel_64118/638342718.py:246: PydanticDeprecatedSince20: The `dict` method is deprecated; use `model_dump` instead. Deprecated in Pydantic V2.0 to be removed in V3.0. See Pydantic V2 Migration Guide at https://errors.pydantic.dev/2.11/migration/\n",
      "  response_content = json.dumps(result.dict() if hasattr(result, 'dict') else result.__dict__, ensure_ascii=False, indent=2)\n"
     ]
    },
    {
     "name": "stdout",
     "output_type": "stream",
     "text": [
      "Processing search term: AB Capital Services FZE Sharjah\n"
     ]
    },
    {
     "name": "stderr",
     "output_type": "stream",
     "text": [
      "/tmp/ipykernel_64118/638342718.py:246: PydanticDeprecatedSince20: The `dict` method is deprecated; use `model_dump` instead. Deprecated in Pydantic V2.0 to be removed in V3.0. See Pydantic V2 Migration Guide at https://errors.pydantic.dev/2.11/migration/\n",
      "  response_content = json.dumps(result.dict() if hasattr(result, 'dict') else result.__dict__, ensure_ascii=False, indent=2)\n"
     ]
    },
    {
     "name": "stdout",
     "output_type": "stream",
     "text": [
      "explanation=\"The most relevant search result appears to be the first result, which is the official website of AB Capital Services FZE located in Sharjah. The title and snippet indicate that this is the company's official website, offering business setup and other services in Dubai and the UAE.\" link='https://abcapital.ae/'\n",
      "Processing https://abcapital.ae/\n",
      "----------BASE PAGE----------\n",
      "https://abcapital.ae/\n",
      "clean_text: 3894 tokens\n",
      "clean_html: 93673 tokens\n"
     ]
    },
    {
     "name": "stderr",
     "output_type": "stream",
     "text": [
      "/tmp/ipykernel_64118/638342718.py:246: PydanticDeprecatedSince20: The `dict` method is deprecated; use `model_dump` instead. Deprecated in Pydantic V2.0 to be removed in V3.0. See Pydantic V2 Migration Guide at https://errors.pydantic.dev/2.11/migration/\n",
      "  response_content = json.dumps(result.dict() if hasattr(result, 'dict') else result.__dict__, ensure_ascii=False, indent=2)\n"
     ]
    },
    {
     "name": "stdout",
     "output_type": "stream",
     "text": [
      "Slice LLM took 6.98s. Produced 6 slices.\n"
     ]
    },
    {
     "name": "stderr",
     "output_type": "stream",
     "text": [
      "/tmp/ipykernel_64118/638342718.py:246: PydanticDeprecatedSince20: The `dict` method is deprecated; use `model_dump` instead. Deprecated in Pydantic V2.0 to be removed in V3.0. See Pydantic V2 Migration Guide at https://errors.pydantic.dev/2.11/migration/\n",
      "  response_content = json.dumps(result.dict() if hasattr(result, 'dict') else result.__dict__, ensure_ascii=False, indent=2)\n"
     ]
    },
    {
     "name": "stdout",
     "output_type": "stream",
     "text": [
      "Slice LLM took 3.52s. Produced 6 slices.\n"
     ]
    },
    {
     "name": "stderr",
     "output_type": "stream",
     "text": [
      "/tmp/ipykernel_64118/638342718.py:246: PydanticDeprecatedSince20: The `dict` method is deprecated; use `model_dump` instead. Deprecated in Pydantic V2.0 to be removed in V3.0. See Pydantic V2 Migration Guide at https://errors.pydantic.dev/2.11/migration/\n",
      "  response_content = json.dumps(result.dict() if hasattr(result, 'dict') else result.__dict__, ensure_ascii=False, indent=2)\n"
     ]
    },
    {
     "name": "stdout",
     "output_type": "stream",
     "text": [
      "Slice LLM took 18.66s. Produced 6 slices.\n"
     ]
    },
    {
     "name": "stderr",
     "output_type": "stream",
     "text": [
      "/tmp/ipykernel_64118/638342718.py:246: PydanticDeprecatedSince20: The `dict` method is deprecated; use `model_dump` instead. Deprecated in Pydantic V2.0 to be removed in V3.0. See Pydantic V2 Migration Guide at https://errors.pydantic.dev/2.11/migration/\n",
      "  response_content = json.dumps(result.dict() if hasattr(result, 'dict') else result.__dict__, ensure_ascii=False, indent=2)\n"
     ]
    },
    {
     "name": "stdout",
     "output_type": "stream",
     "text": [
      "Slice LLM took 3.98s. Produced 6 slices.\n"
     ]
    },
    {
     "name": "stderr",
     "output_type": "stream",
     "text": [
      "/tmp/ipykernel_64118/638342718.py:246: PydanticDeprecatedSince20: The `dict` method is deprecated; use `model_dump` instead. Deprecated in Pydantic V2.0 to be removed in V3.0. See Pydantic V2 Migration Guide at https://errors.pydantic.dev/2.11/migration/\n",
      "  response_content = json.dumps(result.dict() if hasattr(result, 'dict') else result.__dict__, ensure_ascii=False, indent=2)\n"
     ]
    },
    {
     "name": "stdout",
     "output_type": "stream",
     "text": [
      "Slice LLM took 2.74s. Produced 6 slices.\n"
     ]
    },
    {
     "name": "stderr",
     "output_type": "stream",
     "text": [
      "/tmp/ipykernel_64118/638342718.py:246: PydanticDeprecatedSince20: The `dict` method is deprecated; use `model_dump` instead. Deprecated in Pydantic V2.0 to be removed in V3.0. See Pydantic V2 Migration Guide at https://errors.pydantic.dev/2.11/migration/\n",
      "  response_content = json.dumps(result.dict() if hasattr(result, 'dict') else result.__dict__, ensure_ascii=False, indent=2)\n"
     ]
    },
    {
     "name": "stdout",
     "output_type": "stream",
     "text": [
      "Slice LLM took 4.83s. Produced 6 slices.\n"
     ]
    },
    {
     "name": "stderr",
     "output_type": "stream",
     "text": [
      "/tmp/ipykernel_64118/638342718.py:246: PydanticDeprecatedSince20: The `dict` method is deprecated; use `model_dump` instead. Deprecated in Pydantic V2.0 to be removed in V3.0. See Pydantic V2 Migration Guide at https://errors.pydantic.dev/2.11/migration/\n",
      "  response_content = json.dumps(result.dict() if hasattr(result, 'dict') else result.__dict__, ensure_ascii=False, indent=2)\n"
     ]
    },
    {
     "name": "stdout",
     "output_type": "stream",
     "text": [
      "Slice LLM took 2.31s. Produced 6 slices.\n",
      "sliced_html: 107573 tokens\n",
      "----------NAV LINKS----------\n",
      "[('Low Cost Business Setup in Dubai, UAE by AB Capital Services', 'https://abcapital.ae', 'services'), ('Business Banking Solutions', 'https://abcapital.ae/business-banking-solutions/', 'services'), ('About us', 'https://abcapital.ae/about-us/', 'about'), ('Services', 'https://clutch.co/profile/ab-capital-services-fze', 'services'), ('Contact', 'https://abcapital.ae/contact/', 'contact')]\n"
     ]
    },
    {
     "name": "stderr",
     "output_type": "stream",
     "text": [
      "/tmp/ipykernel_64118/638342718.py:246: PydanticDeprecatedSince20: The `dict` method is deprecated; use `model_dump` instead. Deprecated in Pydantic V2.0 to be removed in V3.0. See Pydantic V2 Migration Guide at https://errors.pydantic.dev/2.11/migration/\n",
      "  response_content = json.dumps(result.dict() if hasattr(result, 'dict') else result.__dict__, ensure_ascii=False, indent=2)\n"
     ]
    },
    {
     "name": "stdout",
     "output_type": "stream",
     "text": [
      "4\n",
      "['https://abcapital.ae/about-us/', 'https://abcapital.ae/contact/', 'https://abcapital.ae/business-banking-solutions/', 'https://clutch.co/profile/ab-capital-services-fze']\n",
      "\n",
      "\n"
     ]
    },
    {
     "name": "stderr",
     "output_type": "stream",
     "text": [
      "/tmp/ipykernel_64118/638342718.py:246: PydanticDeprecatedSince20: The `dict` method is deprecated; use `model_dump` instead. Deprecated in Pydantic V2.0 to be removed in V3.0. See Pydantic V2 Migration Guide at https://errors.pydantic.dev/2.11/migration/\n",
      "  response_content = json.dumps(result.dict() if hasattr(result, 'dict') else result.__dict__, ensure_ascii=False, indent=2)\n"
     ]
    },
    {
     "name": "stdout",
     "output_type": "stream",
     "text": [
      "Logo saved to ../growbal_django/media/logos/abcap-logo-e1703014705681_0.png\n",
      "Error getting profile from website: ServiceProviderProfile matching query does not exist.\n",
      "creating user with name and email\n",
      "created user with email and name\n",
      "Error profile does not exist!\n",
      "Profile created: AB Capital Services FZE\n",
      "Service created: Business Setup and Corporate Services in Dubai\n",
      "Scrape created: https://abcapital.ae/\n",
      "Successful processed entries 14/632 Organization: AB CAPITAL SERVICES  FZE\n",
      "Processing Entry 15/632 Organization: AB Tax and Accounting LLC\n"
     ]
    },
    {
     "name": "stderr",
     "output_type": "stream",
     "text": [
      "/tmp/ipykernel_64118/638342718.py:246: PydanticDeprecatedSince20: The `dict` method is deprecated; use `model_dump` instead. Deprecated in Pydantic V2.0 to be removed in V3.0. See Pydantic V2 Migration Guide at https://errors.pydantic.dev/2.11/migration/\n",
      "  response_content = json.dumps(result.dict() if hasattr(result, 'dict') else result.__dict__, ensure_ascii=False, indent=2)\n"
     ]
    },
    {
     "name": "stdout",
     "output_type": "stream",
     "text": [
      "Processing search term: AB Tax and Accounting LLC Sharjah\n"
     ]
    },
    {
     "name": "stderr",
     "output_type": "stream",
     "text": [
      "/tmp/ipykernel_64118/638342718.py:246: PydanticDeprecatedSince20: The `dict` method is deprecated; use `model_dump` instead. Deprecated in Pydantic V2.0 to be removed in V3.0. See Pydantic V2 Migration Guide at https://errors.pydantic.dev/2.11/migration/\n",
      "  response_content = json.dumps(result.dict() if hasattr(result, 'dict') else result.__dict__, ensure_ascii=False, indent=2)\n"
     ]
    },
    {
     "name": "stdout",
     "output_type": "stream",
     "text": [
      "explanation=\"The second search result, 'About - Adil Badshah Tax and Accounting (ABTA)', appears to be the most relevant. The title and snippet indicate that this is the official website of the company 'AB Tax & Accounting LLC' located in Sharjah, UAE, which matches the search term.\" link='https://abta.ae/about/'\n",
      "Processing https://abta.ae/about/\n",
      "----------BASE PAGE----------\n",
      "https://abta.ae/about/\n",
      "clean_text: 1323 tokens\n",
      "clean_html: 33191 tokens\n"
     ]
    },
    {
     "name": "stderr",
     "output_type": "stream",
     "text": [
      "/tmp/ipykernel_64118/638342718.py:246: PydanticDeprecatedSince20: The `dict` method is deprecated; use `model_dump` instead. Deprecated in Pydantic V2.0 to be removed in V3.0. See Pydantic V2 Migration Guide at https://errors.pydantic.dev/2.11/migration/\n",
      "  response_content = json.dumps(result.dict() if hasattr(result, 'dict') else result.__dict__, ensure_ascii=False, indent=2)\n"
     ]
    },
    {
     "name": "stdout",
     "output_type": "stream",
     "text": [
      "Slice LLM took 3.60s. Produced 6 slices.\n"
     ]
    },
    {
     "name": "stderr",
     "output_type": "stream",
     "text": [
      "/tmp/ipykernel_64118/638342718.py:246: PydanticDeprecatedSince20: The `dict` method is deprecated; use `model_dump` instead. Deprecated in Pydantic V2.0 to be removed in V3.0. See Pydantic V2 Migration Guide at https://errors.pydantic.dev/2.11/migration/\n",
      "  response_content = json.dumps(result.dict() if hasattr(result, 'dict') else result.__dict__, ensure_ascii=False, indent=2)\n"
     ]
    },
    {
     "name": "stdout",
     "output_type": "stream",
     "text": [
      "Slice LLM took 11.14s. Produced 6 slices.\n"
     ]
    },
    {
     "name": "stderr",
     "output_type": "stream",
     "text": [
      "/tmp/ipykernel_64118/638342718.py:246: PydanticDeprecatedSince20: The `dict` method is deprecated; use `model_dump` instead. Deprecated in Pydantic V2.0 to be removed in V3.0. See Pydantic V2 Migration Guide at https://errors.pydantic.dev/2.11/migration/\n",
      "  response_content = json.dumps(result.dict() if hasattr(result, 'dict') else result.__dict__, ensure_ascii=False, indent=2)\n"
     ]
    },
    {
     "name": "stdout",
     "output_type": "stream",
     "text": [
      "Slice LLM took 2.30s. Produced 5 slices.\n",
      "sliced_html: 11182 tokens\n",
      "----------NAV LINKS----------\n",
      "[('Book Schedule Now', 'https://abta.ae/contact/', 'contact'), ('Services', 'https://abta.ae/services/', 'services'), ('Bookkeeping', 'https://abta.ae/bookkeeping-services-uae/', 'services'), ('Audit & Assurance', 'https://abta.ae/audit-services-in-dubai/', 'services'), ('About', 'https://abta.ae/about/', 'about')]\n"
     ]
    },
    {
     "name": "stderr",
     "output_type": "stream",
     "text": [
      "/tmp/ipykernel_64118/638342718.py:246: PydanticDeprecatedSince20: The `dict` method is deprecated; use `model_dump` instead. Deprecated in Pydantic V2.0 to be removed in V3.0. See Pydantic V2 Migration Guide at https://errors.pydantic.dev/2.11/migration/\n",
      "  response_content = json.dumps(result.dict() if hasattr(result, 'dict') else result.__dict__, ensure_ascii=False, indent=2)\n"
     ]
    },
    {
     "name": "stdout",
     "output_type": "stream",
     "text": [
      "3\n",
      "['https://abta.ae/about/', 'https://abta.ae/contact/', 'https://abta.ae/services/']\n",
      "\n",
      "\n",
      "clean_text: 322 tokens\n",
      "clean_html: 25159 tokens\n",
      "count_tokens(clean_html) 1 before approval: 25159\n"
     ]
    },
    {
     "name": "stderr",
     "output_type": "stream",
     "text": [
      "/tmp/ipykernel_64118/638342718.py:246: PydanticDeprecatedSince20: The `dict` method is deprecated; use `model_dump` instead. Deprecated in Pydantic V2.0 to be removed in V3.0. See Pydantic V2 Migration Guide at https://errors.pydantic.dev/2.11/migration/\n",
      "  response_content = json.dumps(result.dict() if hasattr(result, 'dict') else result.__dict__, ensure_ascii=False, indent=2)\n"
     ]
    },
    {
     "name": "stdout",
     "output_type": "stream",
     "text": [
      "Slice LLM took 7.12s. Produced 6 slices.\n"
     ]
    },
    {
     "name": "stderr",
     "output_type": "stream",
     "text": [
      "/tmp/ipykernel_64118/638342718.py:246: PydanticDeprecatedSince20: The `dict` method is deprecated; use `model_dump` instead. Deprecated in Pydantic V2.0 to be removed in V3.0. See Pydantic V2 Migration Guide at https://errors.pydantic.dev/2.11/migration/\n",
      "  response_content = json.dumps(result.dict() if hasattr(result, 'dict') else result.__dict__, ensure_ascii=False, indent=2)\n"
     ]
    },
    {
     "name": "stdout",
     "output_type": "stream",
     "text": [
      "Slice LLM took 2.51s. Produced 4 slices.\n",
      "sliced_html: 3774 tokens\n",
      "clean_text: 1065 tokens\n",
      "clean_html: 32485 tokens\n",
      "count_tokens(clean_html) 2 before approval: 32485\n"
     ]
    },
    {
     "name": "stderr",
     "output_type": "stream",
     "text": [
      "/tmp/ipykernel_64118/638342718.py:246: PydanticDeprecatedSince20: The `dict` method is deprecated; use `model_dump` instead. Deprecated in Pydantic V2.0 to be removed in V3.0. See Pydantic V2 Migration Guide at https://errors.pydantic.dev/2.11/migration/\n",
      "  response_content = json.dumps(result.dict() if hasattr(result, 'dict') else result.__dict__, ensure_ascii=False, indent=2)\n"
     ]
    },
    {
     "name": "stdout",
     "output_type": "stream",
     "text": [
      "Slice LLM took 3.23s. Produced 6 slices.\n"
     ]
    },
    {
     "name": "stderr",
     "output_type": "stream",
     "text": [
      "/tmp/ipykernel_64118/638342718.py:246: PydanticDeprecatedSince20: The `dict` method is deprecated; use `model_dump` instead. Deprecated in Pydantic V2.0 to be removed in V3.0. See Pydantic V2 Migration Guide at https://errors.pydantic.dev/2.11/migration/\n",
      "  response_content = json.dumps(result.dict() if hasattr(result, 'dict') else result.__dict__, ensure_ascii=False, indent=2)\n"
     ]
    },
    {
     "name": "stdout",
     "output_type": "stream",
     "text": [
      "Slice LLM took 3.64s. Produced 6 slices.\n"
     ]
    },
    {
     "name": "stderr",
     "output_type": "stream",
     "text": [
      "/tmp/ipykernel_64118/638342718.py:246: PydanticDeprecatedSince20: The `dict` method is deprecated; use `model_dump` instead. Deprecated in Pydantic V2.0 to be removed in V3.0. See Pydantic V2 Migration Guide at https://errors.pydantic.dev/2.11/migration/\n",
      "  response_content = json.dumps(result.dict() if hasattr(result, 'dict') else result.__dict__, ensure_ascii=False, indent=2)\n"
     ]
    },
    {
     "name": "stdout",
     "output_type": "stream",
     "text": [
      "Slice LLM took 9.06s. Produced 2 slices.\n",
      "sliced_html: 9568 tokens\n"
     ]
    },
    {
     "name": "stderr",
     "output_type": "stream",
     "text": [
      "/tmp/ipykernel_64118/638342718.py:246: PydanticDeprecatedSince20: The `dict` method is deprecated; use `model_dump` instead. Deprecated in Pydantic V2.0 to be removed in V3.0. See Pydantic V2 Migration Guide at https://errors.pydantic.dev/2.11/migration/\n",
      "  response_content = json.dumps(result.dict() if hasattr(result, 'dict') else result.__dict__, ensure_ascii=False, indent=2)\n"
     ]
    },
    {
     "name": "stdout",
     "output_type": "stream",
     "text": [
      "Logo saved to ../growbal_django/media/logos/34wrsd43_0.png\n",
      "Error getting profile from website: ServiceProviderProfile matching query does not exist.\n",
      "creating user with name and email\n",
      "created user with email and name\n",
      "Error profile does not exist!\n",
      "Profile created: AB Tax & Accounting LLC\n",
      "Service created: UAE Tax & Accounting Solutions\n",
      "Scrape created: https://abta.ae/about/\n",
      "Successful processed entries 15/632 Organization: AB Tax and Accounting LLC\n",
      "Processing Entry 16/632 Organization: ABACUS ACCOUNTING LLC\n"
     ]
    },
    {
     "name": "stderr",
     "output_type": "stream",
     "text": [
      "/tmp/ipykernel_64118/638342718.py:246: PydanticDeprecatedSince20: The `dict` method is deprecated; use `model_dump` instead. Deprecated in Pydantic V2.0 to be removed in V3.0. See Pydantic V2 Migration Guide at https://errors.pydantic.dev/2.11/migration/\n",
      "  response_content = json.dumps(result.dict() if hasattr(result, 'dict') else result.__dict__, ensure_ascii=False, indent=2)\n"
     ]
    },
    {
     "name": "stdout",
     "output_type": "stream",
     "text": [
      "Processing search term: abacus accounting llc alain uae\n"
     ]
    },
    {
     "name": "stderr",
     "output_type": "stream",
     "text": [
      "/tmp/ipykernel_64118/638342718.py:246: PydanticDeprecatedSince20: The `dict` method is deprecated; use `model_dump` instead. Deprecated in Pydantic V2.0 to be removed in V3.0. See Pydantic V2 Migration Guide at https://errors.pydantic.dev/2.11/migration/\n",
      "  response_content = json.dumps(result.dict() if hasattr(result, 'dict') else result.__dict__, ensure_ascii=False, indent=2)\n"
     ]
    },
    {
     "name": "stdout",
     "output_type": "stream",
     "text": [
      "explanation=\"The first search result at http://www.abacusvat.com/ appears to be the official website of Abacus Accounting LLC, a company that provides accounting, bookkeeping, and tax services in the UAE. The title and snippet indicate that this is the company's official website, and it is directly relevant to the search term.\" link='http://www.abacusvat.com/'\n",
      "Processing http://www.abacusvat.com/\n",
      "----------BASE PAGE----------\n",
      "http://www.abacusvat.com/\n",
      "Error processing base page: 500 Server Error: Internal Server Error for url: https://scraping.narf.ai/api/v1/?api_key=AlVaU0Htv6s2osyMMZrZCBkG8X62ewQcYDyPA9B76ZXyBgFw1kXmgUx8JwLJMWpIQ1KGmWnOr1UQY3DK8s&url=http%3A%2F%2Fwww.abacusvat.com%2F&js_scenario=%7B%22steps%22%3A+%5B%7B%22wait%22%3A+1500%7D%2C+%7B%22scroll%22%3A+2500%7D%2C+%7B%22wait%22%3A+1200%7D%2C+%7B%22scroll%22%3A+2500%7D%2C+%7B%22wait%22%3A+1200%7D%2C+%7B%22scroll%22%3A+2500%7D%2C+%7B%22wait%22%3A+1200%7D%2C+%7B%22scroll%22%3A+2500%7D%2C+%7B%22wait%22%3A+1200%7D%2C+%7B%22scroll%22%3A+2500%7D%2C+%7B%22wait%22%3A+1200%7D%2C+%7B%22scroll%22%3A+2500%7D%2C+%7B%22wait%22%3A+1200%7D%2C+%7B%22scroll%22%3A+2500%7D%2C+%7B%22wait%22%3A+1200%7D%2C+%7B%22scroll%22%3A+2500%7D%2C+%7B%22wait%22%3A+1200%7D%2C+%7B%22scroll%22%3A+2500%7D%2C+%7B%22wait%22%3A+1200%7D%2C+%7B%22scroll%22%3A+2500%7D%2C+%7B%22wait%22%3A+1200%7D%2C+%7B%22scroll%22%3A+2500%7D%2C+%7B%22wait%22%3A+1200%7D%2C+%7B%22scroll%22%3A+2500%7D%2C+%7B%22wait%22%3A+1200%7D%2C+%7B%22wait%22%3A+800%7D%5D%7D&trial_timeout_ms=45000&total_timeout_ms=60000&render_js=true\n",
      "Successful processed entries 16/632 Organization: ABACUS ACCOUNTING LLC\n",
      "Processing Entry 17/632 Organization: ABDUL MAJEED AL MARZOOQY AUDITING OFFICE - SOLE PR ...\n"
     ]
    },
    {
     "name": "stderr",
     "output_type": "stream",
     "text": [
      "/tmp/ipykernel_64118/638342718.py:246: PydanticDeprecatedSince20: The `dict` method is deprecated; use `model_dump` instead. Deprecated in Pydantic V2.0 to be removed in V3.0. See Pydantic V2 Migration Guide at https://errors.pydantic.dev/2.11/migration/\n",
      "  response_content = json.dumps(result.dict() if hasattr(result, 'dict') else result.__dict__, ensure_ascii=False, indent=2)\n"
     ]
    },
    {
     "name": "stdout",
     "output_type": "stream",
     "text": [
      "Processing search term: Abdul Majeed Al Marzooqy Auditing Office Abu Dhabi\n"
     ]
    },
    {
     "name": "stderr",
     "output_type": "stream",
     "text": [
      "/tmp/ipykernel_64118/638342718.py:246: PydanticDeprecatedSince20: The `dict` method is deprecated; use `model_dump` instead. Deprecated in Pydantic V2.0 to be removed in V3.0. See Pydantic V2 Migration Guide at https://errors.pydantic.dev/2.11/migration/\n",
      "  response_content = json.dumps(result.dict() if hasattr(result, 'dict') else result.__dict__, ensure_ascii=False, indent=2)\n"
     ]
    },
    {
     "name": "stdout",
     "output_type": "stream",
     "text": [
      "explanation='The most relevant search result appears to be the first result, which links to the official website of Abdul Majeed Al Marzooqi Auditing at https://www.amauae.com/. The title and snippet indicate that this is the official website of the auditing firm, which is directly relevant to the search query.' link='https://www.amauae.com/'\n",
      "Processing https://www.amauae.com/\n",
      "----------BASE PAGE----------\n",
      "https://www.amauae.com/\n",
      "clean_text: 1674 tokens\n",
      "clean_html: 20169 tokens\n"
     ]
    },
    {
     "name": "stderr",
     "output_type": "stream",
     "text": [
      "/tmp/ipykernel_64118/638342718.py:246: PydanticDeprecatedSince20: The `dict` method is deprecated; use `model_dump` instead. Deprecated in Pydantic V2.0 to be removed in V3.0. See Pydantic V2 Migration Guide at https://errors.pydantic.dev/2.11/migration/\n",
      "  response_content = json.dumps(result.dict() if hasattr(result, 'dict') else result.__dict__, ensure_ascii=False, indent=2)\n"
     ]
    },
    {
     "name": "stdout",
     "output_type": "stream",
     "text": [
      "Slice LLM took 3.66s. Produced 6 slices.\n"
     ]
    },
    {
     "name": "stderr",
     "output_type": "stream",
     "text": [
      "/tmp/ipykernel_64118/638342718.py:246: PydanticDeprecatedSince20: The `dict` method is deprecated; use `model_dump` instead. Deprecated in Pydantic V2.0 to be removed in V3.0. See Pydantic V2 Migration Guide at https://errors.pydantic.dev/2.11/migration/\n",
      "  response_content = json.dumps(result.dict() if hasattr(result, 'dict') else result.__dict__, ensure_ascii=False, indent=2)\n"
     ]
    },
    {
     "name": "stdout",
     "output_type": "stream",
     "text": [
      "Slice LLM took 3.65s. Produced 6 slices.\n",
      "sliced_html: 9348 tokens\n",
      "----------NAV LINKS----------\n",
      "[('Company', 'about.html', 'about'), ('Financial Services', 'financial-services.html', 'services'), ('Accounting Services', 'accounting-services.html', 'services'), ('Human Resource Services', 'hr-services.html', 'services'), ('Contact', 'contact.html', 'contact'), ('Internal/External Auditing', 'service-detail-page.html', 'services'), ('VIew All Services', 'services.html', 'services'), ('Audit Service', 'audit-assuarance.html', 'services')]\n"
     ]
    },
    {
     "name": "stderr",
     "output_type": "stream",
     "text": [
      "/tmp/ipykernel_64118/638342718.py:246: PydanticDeprecatedSince20: The `dict` method is deprecated; use `model_dump` instead. Deprecated in Pydantic V2.0 to be removed in V3.0. See Pydantic V2 Migration Guide at https://errors.pydantic.dev/2.11/migration/\n",
      "  response_content = json.dumps(result.dict() if hasattr(result, 'dict') else result.__dict__, ensure_ascii=False, indent=2)\n"
     ]
    },
    {
     "name": "stdout",
     "output_type": "stream",
     "text": [
      "7\n",
      "['https://www.amauae.com/about.html', 'https://www.amauae.com/contact.html', 'https://www.amauae.com/services.html', 'https://www.amauae.com/financial-services.html', 'https://www.amauae.com/accounting-services.html', 'https://www.amauae.com/hr-services.html', 'https://www.amauae.com/audit-assuarance.html']\n",
      "\n",
      "\n",
      "clean_text: 647 tokens\n",
      "clean_html: 6384 tokens\n",
      "count_tokens(clean_html) 0 before approval: 6384\n"
     ]
    },
    {
     "name": "stderr",
     "output_type": "stream",
     "text": [
      "/tmp/ipykernel_64118/638342718.py:246: PydanticDeprecatedSince20: The `dict` method is deprecated; use `model_dump` instead. Deprecated in Pydantic V2.0 to be removed in V3.0. See Pydantic V2 Migration Guide at https://errors.pydantic.dev/2.11/migration/\n",
      "  response_content = json.dumps(result.dict() if hasattr(result, 'dict') else result.__dict__, ensure_ascii=False, indent=2)\n"
     ]
    },
    {
     "name": "stdout",
     "output_type": "stream",
     "text": [
      "Slice LLM took 3.16s. Produced 6 slices.\n",
      "sliced_html: 723 tokens\n",
      "clean_text: 499 tokens\n",
      "clean_html: 6611 tokens\n",
      "count_tokens(clean_html) 1 before approval: 6611\n"
     ]
    },
    {
     "name": "stderr",
     "output_type": "stream",
     "text": [
      "/tmp/ipykernel_64118/638342718.py:246: PydanticDeprecatedSince20: The `dict` method is deprecated; use `model_dump` instead. Deprecated in Pydantic V2.0 to be removed in V3.0. See Pydantic V2 Migration Guide at https://errors.pydantic.dev/2.11/migration/\n",
      "  response_content = json.dumps(result.dict() if hasattr(result, 'dict') else result.__dict__, ensure_ascii=False, indent=2)\n"
     ]
    },
    {
     "name": "stdout",
     "output_type": "stream",
     "text": [
      "Slice LLM took 8.65s. Produced 6 slices.\n",
      "sliced_html: 590 tokens\n",
      "clean_text: 652 tokens\n",
      "clean_html: 6933 tokens\n",
      "count_tokens(clean_html) 2 before approval: 6933\n"
     ]
    },
    {
     "name": "stderr",
     "output_type": "stream",
     "text": [
      "/tmp/ipykernel_64118/638342718.py:246: PydanticDeprecatedSince20: The `dict` method is deprecated; use `model_dump` instead. Deprecated in Pydantic V2.0 to be removed in V3.0. See Pydantic V2 Migration Guide at https://errors.pydantic.dev/2.11/migration/\n",
      "  response_content = json.dumps(result.dict() if hasattr(result, 'dict') else result.__dict__, ensure_ascii=False, indent=2)\n"
     ]
    },
    {
     "name": "stdout",
     "output_type": "stream",
     "text": [
      "Slice LLM took 10.50s. Produced 6 slices.\n",
      "sliced_html: 5502 tokens\n",
      "clean_text: 887 tokens\n",
      "clean_html: 6994 tokens\n",
      "count_tokens(clean_html) 3 before approval: 6994\n"
     ]
    },
    {
     "name": "stderr",
     "output_type": "stream",
     "text": [
      "/tmp/ipykernel_64118/638342718.py:246: PydanticDeprecatedSince20: The `dict` method is deprecated; use `model_dump` instead. Deprecated in Pydantic V2.0 to be removed in V3.0. See Pydantic V2 Migration Guide at https://errors.pydantic.dev/2.11/migration/\n",
      "  response_content = json.dumps(result.dict() if hasattr(result, 'dict') else result.__dict__, ensure_ascii=False, indent=2)\n"
     ]
    },
    {
     "name": "stdout",
     "output_type": "stream",
     "text": [
      "Slice LLM took 3.25s. Produced 6 slices.\n",
      "sliced_html: 964 tokens\n",
      "clean_text: 876 tokens\n",
      "clean_html: 6923 tokens\n",
      "count_tokens(clean_html) 4 before approval: 6923\n"
     ]
    },
    {
     "name": "stderr",
     "output_type": "stream",
     "text": [
      "/tmp/ipykernel_64118/638342718.py:246: PydanticDeprecatedSince20: The `dict` method is deprecated; use `model_dump` instead. Deprecated in Pydantic V2.0 to be removed in V3.0. See Pydantic V2 Migration Guide at https://errors.pydantic.dev/2.11/migration/\n",
      "  response_content = json.dumps(result.dict() if hasattr(result, 'dict') else result.__dict__, ensure_ascii=False, indent=2)\n"
     ]
    },
    {
     "name": "stdout",
     "output_type": "stream",
     "text": [
      "Slice LLM took 2.68s. Produced 6 slices.\n",
      "sliced_html: 2814 tokens\n",
      "clean_text: 987 tokens\n",
      "clean_html: 7120 tokens\n",
      "count_tokens(clean_html) 5 before approval: 7120\n"
     ]
    },
    {
     "name": "stderr",
     "output_type": "stream",
     "text": [
      "/tmp/ipykernel_64118/638342718.py:246: PydanticDeprecatedSince20: The `dict` method is deprecated; use `model_dump` instead. Deprecated in Pydantic V2.0 to be removed in V3.0. See Pydantic V2 Migration Guide at https://errors.pydantic.dev/2.11/migration/\n",
      "  response_content = json.dumps(result.dict() if hasattr(result, 'dict') else result.__dict__, ensure_ascii=False, indent=2)\n"
     ]
    },
    {
     "name": "stdout",
     "output_type": "stream",
     "text": [
      "Slice LLM took 2.50s. Produced 6 slices.\n",
      "sliced_html: 1556 tokens\n",
      "clean_text: 869 tokens\n",
      "clean_html: 6918 tokens\n",
      "count_tokens(clean_html) 6 before approval: 6918\n"
     ]
    },
    {
     "name": "stderr",
     "output_type": "stream",
     "text": [
      "/tmp/ipykernel_64118/638342718.py:246: PydanticDeprecatedSince20: The `dict` method is deprecated; use `model_dump` instead. Deprecated in Pydantic V2.0 to be removed in V3.0. See Pydantic V2 Migration Guide at https://errors.pydantic.dev/2.11/migration/\n",
      "  response_content = json.dumps(result.dict() if hasattr(result, 'dict') else result.__dict__, ensure_ascii=False, indent=2)\n"
     ]
    },
    {
     "name": "stdout",
     "output_type": "stream",
     "text": [
      "Slice LLM took 2.65s. Produced 6 slices.\n",
      "sliced_html: 6040 tokens\n"
     ]
    },
    {
     "name": "stderr",
     "output_type": "stream",
     "text": [
      "/tmp/ipykernel_64118/638342718.py:246: PydanticDeprecatedSince20: The `dict` method is deprecated; use `model_dump` instead. Deprecated in Pydantic V2.0 to be removed in V3.0. See Pydantic V2 Migration Guide at https://errors.pydantic.dev/2.11/migration/\n",
      "  response_content = json.dumps(result.dict() if hasattr(result, 'dict') else result.__dict__, ensure_ascii=False, indent=2)\n"
     ]
    },
    {
     "name": "stdout",
     "output_type": "stream",
     "text": [
      "Logo saved to ../growbal_django/media/logos/logo-dark_1.png\n",
      "Error getting profile from website: ServiceProviderProfile matching query does not exist.\n",
      "created user with name only\n",
      "Error profile does not exist!\n",
      "Profile created: Abdul Majeed Al Marzooqi\n",
      "Service created: Comprehensive Audit & Business Services\n",
      "Scrape created: https://www.amauae.com/\n",
      "Successful processed entries 17/632 Organization: ABDUL MAJEED AL MARZOOQY AUDITING OFFICE - SOLE PR ...\n",
      "Processing Entry 18/632 Organization: ABDULAZIZ PANIS AND SHAH ASSOCIATES CHARTERED ACCO ...\n"
     ]
    },
    {
     "name": "stderr",
     "output_type": "stream",
     "text": [
      "/tmp/ipykernel_64118/638342718.py:246: PydanticDeprecatedSince20: The `dict` method is deprecated; use `model_dump` instead. Deprecated in Pydantic V2.0 to be removed in V3.0. See Pydantic V2 Migration Guide at https://errors.pydantic.dev/2.11/migration/\n",
      "  response_content = json.dumps(result.dict() if hasattr(result, 'dict') else result.__dict__, ensure_ascii=False, indent=2)\n"
     ]
    },
    {
     "name": "stdout",
     "output_type": "stream",
     "text": [
      "Processing search term: APNS Dubai chartered accountants\n"
     ]
    },
    {
     "name": "stderr",
     "output_type": "stream",
     "text": [
      "/tmp/ipykernel_64118/638342718.py:246: PydanticDeprecatedSince20: The `dict` method is deprecated; use `model_dump` instead. Deprecated in Pydantic V2.0 to be removed in V3.0. See Pydantic V2 Migration Guide at https://errors.pydantic.dev/2.11/migration/\n",
      "  response_content = json.dumps(result.dict() if hasattr(result, 'dict') else result.__dict__, ensure_ascii=False, indent=2)\n"
     ]
    },
    {
     "name": "stdout",
     "output_type": "stream",
     "text": [
      "explanation=\"The most relevant search result appears to be the link 'https://apnsdubai.com/'. This website seems to be the official website of the APNS Dubai chartered accountants firm, as the title and snippet indicate that it is a firm of experienced professionals providing accounting and advisory services. The other search results do not appear to be the official website, but rather other service providers or listings related to chartered accountants in Dubai.\" link='https://apnsdubai.com/'\n",
      "Processing https://apnsdubai.com/\n",
      "----------BASE PAGE----------\n",
      "https://apnsdubai.com/\n",
      "clean_text: 148 tokens\n",
      "clean_html: 21219 tokens\n"
     ]
    },
    {
     "name": "stderr",
     "output_type": "stream",
     "text": [
      "/tmp/ipykernel_64118/638342718.py:246: PydanticDeprecatedSince20: The `dict` method is deprecated; use `model_dump` instead. Deprecated in Pydantic V2.0 to be removed in V3.0. See Pydantic V2 Migration Guide at https://errors.pydantic.dev/2.11/migration/\n",
      "  response_content = json.dumps(result.dict() if hasattr(result, 'dict') else result.__dict__, ensure_ascii=False, indent=2)\n"
     ]
    },
    {
     "name": "stdout",
     "output_type": "stream",
     "text": [
      "Slice LLM took 4.61s. Produced 6 slices.\n"
     ]
    },
    {
     "name": "stderr",
     "output_type": "stream",
     "text": [
      "/tmp/ipykernel_64118/638342718.py:246: PydanticDeprecatedSince20: The `dict` method is deprecated; use `model_dump` instead. Deprecated in Pydantic V2.0 to be removed in V3.0. See Pydantic V2 Migration Guide at https://errors.pydantic.dev/2.11/migration/\n",
      "  response_content = json.dumps(result.dict() if hasattr(result, 'dict') else result.__dict__, ensure_ascii=False, indent=2)\n"
     ]
    },
    {
     "name": "stdout",
     "output_type": "stream",
     "text": [
      "Slice LLM took 1.23s. Produced 2 slices.\n",
      "sliced_html: 21219 tokens\n",
      "----------NAV LINKS----------\n",
      "[('Who We Are', '/who-we-are', 'about'), ('Services', '/services', 'services'), ('Contact Us', '/contact-us', 'contact')]\n"
     ]
    },
    {
     "name": "stderr",
     "output_type": "stream",
     "text": [
      "/tmp/ipykernel_64118/638342718.py:246: PydanticDeprecatedSince20: The `dict` method is deprecated; use `model_dump` instead. Deprecated in Pydantic V2.0 to be removed in V3.0. See Pydantic V2 Migration Guide at https://errors.pydantic.dev/2.11/migration/\n",
      "  response_content = json.dumps(result.dict() if hasattr(result, 'dict') else result.__dict__, ensure_ascii=False, indent=2)\n"
     ]
    },
    {
     "name": "stdout",
     "output_type": "stream",
     "text": [
      "3\n",
      "['https://apnsdubai.com/who-we-are', 'https://apnsdubai.com/services', 'https://apnsdubai.com/contact-us']\n",
      "\n",
      "\n",
      "clean_text: 694 tokens\n",
      "clean_html: 27494 tokens\n",
      "count_tokens(clean_html) 0 before approval: 27494\n"
     ]
    },
    {
     "name": "stderr",
     "output_type": "stream",
     "text": [
      "/tmp/ipykernel_64118/638342718.py:246: PydanticDeprecatedSince20: The `dict` method is deprecated; use `model_dump` instead. Deprecated in Pydantic V2.0 to be removed in V3.0. See Pydantic V2 Migration Guide at https://errors.pydantic.dev/2.11/migration/\n",
      "  response_content = json.dumps(result.dict() if hasattr(result, 'dict') else result.__dict__, ensure_ascii=False, indent=2)\n"
     ]
    },
    {
     "name": "stdout",
     "output_type": "stream",
     "text": [
      "Slice LLM took 4.01s. Produced 2 slices.\n"
     ]
    },
    {
     "name": "stderr",
     "output_type": "stream",
     "text": [
      "/tmp/ipykernel_64118/638342718.py:246: PydanticDeprecatedSince20: The `dict` method is deprecated; use `model_dump` instead. Deprecated in Pydantic V2.0 to be removed in V3.0. See Pydantic V2 Migration Guide at https://errors.pydantic.dev/2.11/migration/\n",
      "  response_content = json.dumps(result.dict() if hasattr(result, 'dict') else result.__dict__, ensure_ascii=False, indent=2)\n"
     ]
    },
    {
     "name": "stdout",
     "output_type": "stream",
     "text": [
      "Slice LLM took 2.59s. Produced 6 slices.\n",
      "sliced_html: 22248 tokens\n"
     ]
    },
    {
     "name": "stderr",
     "output_type": "stream",
     "text": [
      "/tmp/ipykernel_64118/638342718.py:246: PydanticDeprecatedSince20: The `dict` method is deprecated; use `model_dump` instead. Deprecated in Pydantic V2.0 to be removed in V3.0. See Pydantic V2 Migration Guide at https://errors.pydantic.dev/2.11/migration/\n",
      "  response_content = json.dumps(result.dict() if hasattr(result, 'dict') else result.__dict__, ensure_ascii=False, indent=2)\n"
     ]
    },
    {
     "name": "stdout",
     "output_type": "stream",
     "text": [
      "Logo saved to ../growbal_django/media/logos/e0dc013e-f767-4eed-b48d-ca04424826da_0.jpg\n",
      "Error getting profile from website: ServiceProviderProfile matching query does not exist.\n",
      "creating user with name and email\n",
      "created user with email and name\n",
      "Error profile does not exist!\n",
      "Profile created: APNS Dubai\n",
      "Service created: Audit, Tax & Advisory Services\n",
      "Scrape created: https://apnsdubai.com/\n",
      "Successful processed entries 18/632 Organization: ABDULAZIZ PANIS AND SHAH ASSOCIATES CHARTERED ACCO ...\n",
      "Processing Entry 19/632 Organization: ABDULRAHMAN KARMUSTAJI CHARTERED ACCOUNTANTS\n"
     ]
    },
    {
     "name": "stderr",
     "output_type": "stream",
     "text": [
      "/tmp/ipykernel_64118/638342718.py:246: PydanticDeprecatedSince20: The `dict` method is deprecated; use `model_dump` instead. Deprecated in Pydantic V2.0 to be removed in V3.0. See Pydantic V2 Migration Guide at https://errors.pydantic.dev/2.11/migration/\n",
      "  response_content = json.dumps(result.dict() if hasattr(result, 'dict') else result.__dict__, ensure_ascii=False, indent=2)\n"
     ]
    },
    {
     "name": "stdout",
     "output_type": "stream",
     "text": [
      "Processing search term: ABDULRAHMAN KARMUSTAJI CHARTERED ACCOUNTANTS Dubai\n"
     ]
    },
    {
     "name": "stderr",
     "output_type": "stream",
     "text": [
      "/tmp/ipykernel_64118/638342718.py:246: PydanticDeprecatedSince20: The `dict` method is deprecated; use `model_dump` instead. Deprecated in Pydantic V2.0 to be removed in V3.0. See Pydantic V2 Migration Guide at https://errors.pydantic.dev/2.11/migration/\n",
      "  response_content = json.dumps(result.dict() if hasattr(result, 'dict') else result.__dict__, ensure_ascii=False, indent=2)\n"
     ]
    },
    {
     "name": "stdout",
     "output_type": "stream",
     "text": [
      "explanation=\"The second search result, 'Abdul Rahman Karmustaji Auditing - Accounting Services', appears to be the most relevant as it directly mentions 'Abdul Rahman Karmustaji Auditing' which seems to be the official website of the chartered accountants firm based in Dubai.\" link='https://www.hidubai.com/businesses/abdul-rahman-karmustaji-auditing-finance-legal-accounting-services-al-ras-dubai-4'\n",
      "Processing https://www.hidubai.com/businesses/abdul-rahman-karmustaji-auditing-finance-legal-accounting-services-al-ras-dubai-4\n",
      "----------BASE PAGE----------\n",
      "https://www.hidubai.com/businesses/abdul-rahman-karmustaji-auditing-finance-legal-accounting-services-al-ras-dubai-4\n",
      "clean_text: 1042 tokens\n",
      "clean_html: 39630 tokens\n"
     ]
    },
    {
     "name": "stderr",
     "output_type": "stream",
     "text": [
      "/tmp/ipykernel_64118/638342718.py:246: PydanticDeprecatedSince20: The `dict` method is deprecated; use `model_dump` instead. Deprecated in Pydantic V2.0 to be removed in V3.0. See Pydantic V2 Migration Guide at https://errors.pydantic.dev/2.11/migration/\n",
      "  response_content = json.dumps(result.dict() if hasattr(result, 'dict') else result.__dict__, ensure_ascii=False, indent=2)\n"
     ]
    },
    {
     "name": "stdout",
     "output_type": "stream",
     "text": [
      "Slice LLM took 4.02s. Produced 4 slices.\n"
     ]
    },
    {
     "name": "stderr",
     "output_type": "stream",
     "text": [
      "/tmp/ipykernel_64118/638342718.py:246: PydanticDeprecatedSince20: The `dict` method is deprecated; use `model_dump` instead. Deprecated in Pydantic V2.0 to be removed in V3.0. See Pydantic V2 Migration Guide at https://errors.pydantic.dev/2.11/migration/\n",
      "  response_content = json.dumps(result.dict() if hasattr(result, 'dict') else result.__dict__, ensure_ascii=False, indent=2)\n"
     ]
    },
    {
     "name": "stdout",
     "output_type": "stream",
     "text": [
      "Slice LLM took 3.59s. Produced 5 slices.\n"
     ]
    },
    {
     "name": "stderr",
     "output_type": "stream",
     "text": [
      "/tmp/ipykernel_64118/638342718.py:246: PydanticDeprecatedSince20: The `dict` method is deprecated; use `model_dump` instead. Deprecated in Pydantic V2.0 to be removed in V3.0. See Pydantic V2 Migration Guide at https://errors.pydantic.dev/2.11/migration/\n",
      "  response_content = json.dumps(result.dict() if hasattr(result, 'dict') else result.__dict__, ensure_ascii=False, indent=2)\n"
     ]
    },
    {
     "name": "stdout",
     "output_type": "stream",
     "text": [
      "Slice LLM took 3.43s. Produced 3 slices.\n",
      "sliced_html: 10586 tokens\n",
      "----------NAV LINKS----------\n",
      "[('Auto', 'https://www.hidubai.com/categories/auto-transport-vehicle-services-dubai', 'services'), ('Manufacturing', 'https://www.hidubai.com/categories/manufacturing-b2b-services-dubai', 'services'), ('Beauty & Spa', 'https://deals.hidubai.com/search-page/offer_cat/buy-beauty-spa-salon-services-online-dubai/', 'services'), ('Write a review', '/businesses/abdul-rahman-karmustaji-auditing-finance-legal-accounting-services-al-ras-dubai-4/add-review', 'services'), ('Accounting Services', '/categories/accounting-services-finance-legal-dubai', 'services'), ('Payroll Services', '/search?q=Payroll Services&resource=localBusiness', 'services'), ('Audit & Management Assurance', '/search?q=Audit & Management Assurance&resource=localBusiness', 'team'), ('0Reviews', '/businesses/abdul-rahman-karmustaji-auditing-finance-legal-accounting-services-al-ras-dubai-4/reviews', 'services'), ('Overview', '/businesses/abdul-rahman-karmustaji-auditing-finance-legal-accounting-services-al-ras-dubai-4#overview', 'services'), ('Reviews', '/businesses/abdul-rahman-karmustaji-auditing-finance-legal-accounting-services-al-ras-dubai-4#reviews', 'services'), ('Deals', '/businesses/abdul-rahman-karmustaji-auditing-finance-legal-accounting-services-al-ras-dubai-4#deals', 'services'), ('Services', '/businesses/acl-tax-consultants-finance-legal-accounting-services-al-garhoud-dubai', 'services'), ('Services', '/businesses/al-zawia-accounting-bookkeeping-finance-legal-accounting-services-al-wasl-dubai', 'services'), ('About HiDubai', '/about-hidubai', 'about'), ('Content Policy', '/about-site#/content-policy', 'about'), ('Terms of Service', '/about-site#/terms-service', 'services'), ('Help and support', '/support-centre-dubai#/user', 'contact')]\n"
     ]
    },
    {
     "name": "stderr",
     "output_type": "stream",
     "text": [
      "/tmp/ipykernel_64118/638342718.py:246: PydanticDeprecatedSince20: The `dict` method is deprecated; use `model_dump` instead. Deprecated in Pydantic V2.0 to be removed in V3.0. See Pydantic V2 Migration Guide at https://errors.pydantic.dev/2.11/migration/\n",
      "  response_content = json.dumps(result.dict() if hasattr(result, 'dict') else result.__dict__, ensure_ascii=False, indent=2)\n"
     ]
    },
    {
     "name": "stdout",
     "output_type": "stream",
     "text": [
      "5\n",
      "['https://www.hidubai.com/about-hidubai', 'https://www.hidubai.com/businesses/abdul-rahman-karmustaji-auditing-finance-legal-accounting-services-al-ras-dubai-4#overview', 'https://www.hidubai.com/businesses/abdul-rahman-karmustaji-auditing-finance-legal-accounting-services-al-ras-dubai-4#reviews', 'https://www.hidubai.com/businesses/abdul-rahman-karmustaji-auditing-finance-legal-accounting-services-al-ras-dubai-4/reviews', 'https://www.hidubai.com/support-centre-dubai#/user']\n",
      "\n",
      "\n",
      "clean_text: 629 tokens\n",
      "clean_html: 12301 tokens\n",
      "count_tokens(clean_html) 0 before approval: 12301\n"
     ]
    },
    {
     "name": "stderr",
     "output_type": "stream",
     "text": [
      "/tmp/ipykernel_64118/638342718.py:246: PydanticDeprecatedSince20: The `dict` method is deprecated; use `model_dump` instead. Deprecated in Pydantic V2.0 to be removed in V3.0. See Pydantic V2 Migration Guide at https://errors.pydantic.dev/2.11/migration/\n",
      "  response_content = json.dumps(result.dict() if hasattr(result, 'dict') else result.__dict__, ensure_ascii=False, indent=2)\n"
     ]
    },
    {
     "name": "stdout",
     "output_type": "stream",
     "text": [
      "Slice LLM took 3.17s. Produced 6 slices.\n",
      "sliced_html: 24523 tokens\n"
     ]
    },
    {
     "name": "stderr",
     "output_type": "stream",
     "text": [
      "/tmp/ipykernel_64118/638342718.py:246: PydanticDeprecatedSince20: The `dict` method is deprecated; use `model_dump` instead. Deprecated in Pydantic V2.0 to be removed in V3.0. See Pydantic V2 Migration Guide at https://errors.pydantic.dev/2.11/migration/\n",
      "  response_content = json.dumps(result.dict() if hasattr(result, 'dict') else result.__dict__, ensure_ascii=False, indent=2)\n"
     ]
    },
    {
     "name": "stdout",
     "output_type": "stream",
     "text": [
      "Logo saved to ../growbal_django/media/logos/93b52066-70e5-4bd9-bd9d-fc32575ca3c9-t_0.png\n",
      "Error getting profile from website: ServiceProviderProfile matching query does not exist.\n",
      "creating user with name and email\n",
      "created user with email and name\n",
      "Error profile does not exist!\n",
      "Profile created: Abdul Rahman Karmustaji Auditing\n",
      "Service created: Auditing, Finance, Legal & Accounting Services\n",
      "Scrape created: https://www.hidubai.com/businesses/abdul-rahman-karmustaji-auditing-finance-legal-accounting-services-al-ras-dubai-4\n",
      "Successful processed entries 19/632 Organization: ABDULRAHMAN KARMUSTAJI CHARTERED ACCOUNTANTS\n",
      "Processing Entry 20/632 Organization: ABSTRACT ACCOUNTING & AUDITING\n"
     ]
    },
    {
     "name": "stderr",
     "output_type": "stream",
     "text": [
      "/tmp/ipykernel_64118/638342718.py:246: PydanticDeprecatedSince20: The `dict` method is deprecated; use `model_dump` instead. Deprecated in Pydantic V2.0 to be removed in V3.0. See Pydantic V2 Migration Guide at https://errors.pydantic.dev/2.11/migration/\n",
      "  response_content = json.dumps(result.dict() if hasattr(result, 'dict') else result.__dict__, ensure_ascii=False, indent=2)\n"
     ]
    },
    {
     "name": "stdout",
     "output_type": "stream",
     "text": [
      "Processing search term: abstract accounting auditing dubai\n"
     ]
    },
    {
     "name": "stderr",
     "output_type": "stream",
     "text": [
      "/tmp/ipykernel_64118/638342718.py:246: PydanticDeprecatedSince20: The `dict` method is deprecated; use `model_dump` instead. Deprecated in Pydantic V2.0 to be removed in V3.0. See Pydantic V2 Migration Guide at https://errors.pydantic.dev/2.11/migration/\n",
      "  response_content = json.dumps(result.dict() if hasattr(result, 'dict') else result.__dict__, ensure_ascii=False, indent=2)\n"
     ]
    },
    {
     "name": "stdout",
     "output_type": "stream",
     "text": [
      "explanation=\"The search results indicate that the most relevant result is the website for 'Abstract Accounting & Auditing', which appears to be the official website of an accounting and auditing firm based in Dubai, UAE. The title, snippet, and links all consistently point to this being the company's official website, which is highly relevant to the search term.\" link='https://abstractauditing.com/'\n",
      "Processing https://abstractauditing.com/\n",
      "----------BASE PAGE----------\n",
      "https://abstractauditing.com/\n",
      "clean_text: 2857 tokens\n",
      "clean_html: 54930 tokens\n"
     ]
    },
    {
     "name": "stderr",
     "output_type": "stream",
     "text": [
      "/tmp/ipykernel_64118/638342718.py:246: PydanticDeprecatedSince20: The `dict` method is deprecated; use `model_dump` instead. Deprecated in Pydantic V2.0 to be removed in V3.0. See Pydantic V2 Migration Guide at https://errors.pydantic.dev/2.11/migration/\n",
      "  response_content = json.dumps(result.dict() if hasattr(result, 'dict') else result.__dict__, ensure_ascii=False, indent=2)\n"
     ]
    },
    {
     "name": "stdout",
     "output_type": "stream",
     "text": [
      "Slice LLM took 2.98s. Produced 4 slices.\n"
     ]
    },
    {
     "name": "stderr",
     "output_type": "stream",
     "text": [
      "/tmp/ipykernel_64118/638342718.py:246: PydanticDeprecatedSince20: The `dict` method is deprecated; use `model_dump` instead. Deprecated in Pydantic V2.0 to be removed in V3.0. See Pydantic V2 Migration Guide at https://errors.pydantic.dev/2.11/migration/\n",
      "  response_content = json.dumps(result.dict() if hasattr(result, 'dict') else result.__dict__, ensure_ascii=False, indent=2)\n"
     ]
    },
    {
     "name": "stdout",
     "output_type": "stream",
     "text": [
      "Slice LLM took 4.18s. Produced 6 slices.\n"
     ]
    },
    {
     "name": "stderr",
     "output_type": "stream",
     "text": [
      "/tmp/ipykernel_64118/638342718.py:246: PydanticDeprecatedSince20: The `dict` method is deprecated; use `model_dump` instead. Deprecated in Pydantic V2.0 to be removed in V3.0. See Pydantic V2 Migration Guide at https://errors.pydantic.dev/2.11/migration/\n",
      "  response_content = json.dumps(result.dict() if hasattr(result, 'dict') else result.__dict__, ensure_ascii=False, indent=2)\n"
     ]
    },
    {
     "name": "stdout",
     "output_type": "stream",
     "text": [
      "Slice LLM took 10.66s. Produced 6 slices.\n"
     ]
    },
    {
     "name": "stderr",
     "output_type": "stream",
     "text": [
      "/tmp/ipykernel_64118/638342718.py:246: PydanticDeprecatedSince20: The `dict` method is deprecated; use `model_dump` instead. Deprecated in Pydantic V2.0 to be removed in V3.0. See Pydantic V2 Migration Guide at https://errors.pydantic.dev/2.11/migration/\n",
      "  response_content = json.dumps(result.dict() if hasattr(result, 'dict') else result.__dict__, ensure_ascii=False, indent=2)\n"
     ]
    },
    {
     "name": "stdout",
     "output_type": "stream",
     "text": [
      "Slice LLM took 18.44s. Produced 4 slices.\n"
     ]
    },
    {
     "name": "stderr",
     "output_type": "stream",
     "text": [
      "/tmp/ipykernel_64118/638342718.py:246: PydanticDeprecatedSince20: The `dict` method is deprecated; use `model_dump` instead. Deprecated in Pydantic V2.0 to be removed in V3.0. See Pydantic V2 Migration Guide at https://errors.pydantic.dev/2.11/migration/\n",
      "  response_content = json.dumps(result.dict() if hasattr(result, 'dict') else result.__dict__, ensure_ascii=False, indent=2)\n"
     ]
    },
    {
     "name": "stdout",
     "output_type": "stream",
     "text": [
      "Slice LLM took 2.06s. Produced 6 slices.\n",
      "sliced_html: 29661 tokens\n",
      "----------NAV LINKS----------\n",
      "[('About Us', 'https://abstractauditing.com/about-us/', 'about'), ('VAT Services', 'https://abstractauditing.com/vat-services/', 'services'), ('Tax Services', 'https://abstractauditing.com/tax-services/', 'services'), ('Corporate Finance Services', 'https://abstractauditing.com/corporate-finance-services/', 'services'), ('goAML compliance services', 'https://abstractauditing.com/goaml-compliance-services/', 'services'), ('Cash Flow & Forecasting Services', 'https://abstractauditing.com/cash-flow-forecasting-services/', 'services'), ('Audit & Assurance', 'https://abstractauditing.com/audit-assurance-services/', 'services'), ('Business Valuation Services', 'https://abstractauditing.com/business-valuation-services/', 'services'), ('Company Formation Services', 'https://abstractauditing.com/company-formation-services/', 'services'), ('Contact Us', 'https://abstractauditing.com/contact-us/', 'contact')]\n"
     ]
    },
    {
     "name": "stderr",
     "output_type": "stream",
     "text": [
      "/tmp/ipykernel_64118/638342718.py:246: PydanticDeprecatedSince20: The `dict` method is deprecated; use `model_dump` instead. Deprecated in Pydantic V2.0 to be removed in V3.0. See Pydantic V2 Migration Guide at https://errors.pydantic.dev/2.11/migration/\n",
      "  response_content = json.dumps(result.dict() if hasattr(result, 'dict') else result.__dict__, ensure_ascii=False, indent=2)\n"
     ]
    },
    {
     "name": "stdout",
     "output_type": "stream",
     "text": [
      "10\n",
      "['https://abstractauditing.com/about-us/', 'https://abstractauditing.com/contact-us/', 'https://abstractauditing.com/vat-services/', 'https://abstractauditing.com/tax-services/', 'https://abstractauditing.com/corporate-finance-services/', 'https://abstractauditing.com/goaml-compliance-services/', 'https://abstractauditing.com/cash-flow-forecasting-services/', 'https://abstractauditing.com/audit-assurance-services/', 'https://abstractauditing.com/business-valuation-services/', 'https://abstractauditing.com/company-formation-services/']\n",
      "\n",
      "\n",
      "clean_text: 1760 tokens\n",
      "clean_html: 45211 tokens\n",
      "Error processing https://abstractauditing.com/about-us/: Error code: 400 - {'type': 'error', 'error': {'type': 'invalid_request_error', 'message': 'Your credit balance is too low to access the Anthropic API. Please go to Plans & Billing to upgrade or purchase credits.'}, 'request_id': 'req_011CTHfR5voBGhKS4XmSYdzZ'}\n",
      "Error processing https://abstractauditing.com/: Error code: 400 - {'type': 'error', 'error': {'type': 'invalid_request_error', 'message': 'Your credit balance is too low to access the Anthropic API. Please go to Plans & Billing to upgrade or purchase credits.'}, 'request_id': 'req_011CTHfR7nv6qmwRu4QcXrAe'}\n",
      "Successful processed entries 20/632 Organization: ABSTRACT ACCOUNTING & AUDITING\n",
      "Processing Entry 21/632 Organization: ACCESS TAXACCOUNTING TAX CONSULTANT\n"
     ]
    },
    {
     "ename": "BadRequestError",
     "evalue": "Error code: 400 - {'type': 'error', 'error': {'type': 'invalid_request_error', 'message': 'Your credit balance is too low to access the Anthropic API. Please go to Plans & Billing to upgrade or purchase credits.'}, 'request_id': 'req_011CTHfR9EyukuWsBStwovRe'}",
     "output_type": "error",
     "traceback": [
      "\u001b[31m---------------------------------------------------------------------------\u001b[39m",
      "\u001b[31mBadRequestError\u001b[39m                           Traceback (most recent call last)",
      "\u001b[36mCell\u001b[39m\u001b[36m \u001b[39m\u001b[32mIn[2]\u001b[39m\u001b[32m, line 1\u001b[39m\n\u001b[32m----> \u001b[39m\u001b[32m1\u001b[39m \u001b[38;5;28;01mawait\u001b[39;00m main()\n",
      "\u001b[36mCell\u001b[39m\u001b[36m \u001b[39m\u001b[32mIn[1]\u001b[39m\u001b[32m, line 816\u001b[39m, in \u001b[36mmain\u001b[39m\u001b[34m(env_path)\u001b[39m\n\u001b[32m    810\u001b[39m prompt = load_prompt(\u001b[33m\"\u001b[39m\u001b[33mgenerate_a_search_term\u001b[39m\u001b[33m\"\u001b[39m)\n\u001b[32m    811\u001b[39m prompt_template = ChatPromptTemplate.from_messages([\n\u001b[32m    812\u001b[39m     (\u001b[33m\"\u001b[39m\u001b[33msystem\u001b[39m\u001b[33m\"\u001b[39m, prompt),\n\u001b[32m    813\u001b[39m     (\u001b[33m\"\u001b[39m\u001b[33mhuman\u001b[39m\u001b[33m\"\u001b[39m, \u001b[33mf\u001b[39m\u001b[33m\"\u001b[39m\u001b[33mGenerate only one suitable google search term to fetch the official website of the company/service provider/orginization: \u001b[39m\u001b[38;5;132;01m{\u001b[39;00mrow_dict[\u001b[33m'\u001b[39m\u001b[33mORGANIZATION\u001b[39m\u001b[33m'\u001b[39m]\u001b[38;5;132;01m}\u001b[39;00m\u001b[33m\"\u001b[39m)\n\u001b[32m    814\u001b[39m ])\n\u001b[32m--> \u001b[39m\u001b[32m816\u001b[39m result = \u001b[43mcall_llm\u001b[49m\u001b[43m(\u001b[49m\u001b[43mprompt_template\u001b[49m\u001b[43m \u001b[49m\u001b[43m=\u001b[49m\u001b[43m \u001b[49m\u001b[43mprompt_template\u001b[49m\u001b[43m,\u001b[49m\u001b[43m \u001b[49m\u001b[43minput_dict\u001b[49m\u001b[43m \u001b[49m\u001b[43m=\u001b[49m\u001b[43m \u001b[49m\u001b[43m{\u001b[49m\u001b[33;43m\"\u001b[39;49m\u001b[33;43mrow_dict\u001b[39;49m\u001b[33;43m\"\u001b[39;49m\u001b[43m:\u001b[49m\u001b[43m \u001b[49m\u001b[43mrow_dict\u001b[49m\u001b[43m}\u001b[49m\u001b[43m,\u001b[49m\u001b[43m \u001b[49m\u001b[43mstructured_output\u001b[49m\u001b[43m \u001b[49m\u001b[43m=\u001b[49m\u001b[43m \u001b[49m\u001b[43mSearchTermOutput\u001b[49m\u001b[43m,\u001b[49m\u001b[43m \u001b[49m\u001b[43mtemperature\u001b[49m\u001b[43m=\u001b[49m\u001b[32;43m0\u001b[39;49m\u001b[43m,\u001b[49m\u001b[43m \u001b[49m\u001b[43mprompt_name\u001b[49m\u001b[43m=\u001b[49m\u001b[33;43m\"\u001b[39;49m\u001b[33;43mgenerate_a_search_term\u001b[39;49m\u001b[33;43m\"\u001b[39;49m\u001b[43m)\u001b[49m\n\u001b[32m    818\u001b[39m \u001b[38;5;28;01mtry\u001b[39;00m:\n\u001b[32m    819\u001b[39m     \u001b[38;5;28mprint\u001b[39m(\u001b[33mf\u001b[39m\u001b[33m\"\u001b[39m\u001b[33mProcessing search term: \u001b[39m\u001b[38;5;132;01m{\u001b[39;00mresult.search_term\u001b[38;5;132;01m}\u001b[39;00m\u001b[33m\"\u001b[39m)\n",
      "\u001b[36mCell\u001b[39m\u001b[36m \u001b[39m\u001b[32mIn[1]\u001b[39m\u001b[32m, line 240\u001b[39m, in \u001b[36mcall_llm\u001b[39m\u001b[34m(model, API_key, prompt_template, input_dict, structured_output, temperature, prompt_name)\u001b[39m\n\u001b[32m    233\u001b[39m llm_chain = llm_chain.with_retry(\n\u001b[32m    234\u001b[39m     retry_if_exception_type=(OverloadedError,),\n\u001b[32m    235\u001b[39m     wait_exponential_jitter=\u001b[38;5;28;01mTrue\u001b[39;00m,    \n\u001b[32m    236\u001b[39m     stop_after_attempt=\u001b[32m6\u001b[39m\n\u001b[32m    237\u001b[39m )\n\u001b[32m    239\u001b[39m t0 = time.time()\n\u001b[32m--> \u001b[39m\u001b[32m240\u001b[39m result = \u001b[43mllm_chain\u001b[49m\u001b[43m.\u001b[49m\u001b[43minvoke\u001b[49m\u001b[43m(\u001b[49m\u001b[43minput_dict\u001b[49m\u001b[43m)\u001b[49m\n\u001b[32m    241\u001b[39m dt = time.time() - t0\n\u001b[32m    243\u001b[39m \u001b[38;5;66;03m# Log Anthropic response\u001b[39;00m\n",
      "\u001b[36mFile \u001b[39m\u001b[32m~/anaconda3/envs/growbal/lib/python3.11/site-packages/langchain_core/runnables/retry.py:202\u001b[39m, in \u001b[36mRunnableRetry.invoke\u001b[39m\u001b[34m(self, input, config, **kwargs)\u001b[39m\n\u001b[32m    198\u001b[39m \u001b[38;5;129m@override\u001b[39m\n\u001b[32m    199\u001b[39m \u001b[38;5;28;01mdef\u001b[39;00m\u001b[38;5;250m \u001b[39m\u001b[34minvoke\u001b[39m(\n\u001b[32m    200\u001b[39m     \u001b[38;5;28mself\u001b[39m, \u001b[38;5;28minput\u001b[39m: Input, config: Optional[RunnableConfig] = \u001b[38;5;28;01mNone\u001b[39;00m, **kwargs: Any\n\u001b[32m    201\u001b[39m ) -> Output:\n\u001b[32m--> \u001b[39m\u001b[32m202\u001b[39m     \u001b[38;5;28;01mreturn\u001b[39;00m \u001b[38;5;28;43mself\u001b[39;49m\u001b[43m.\u001b[49m\u001b[43m_call_with_config\u001b[49m\u001b[43m(\u001b[49m\u001b[38;5;28;43mself\u001b[39;49m\u001b[43m.\u001b[49m\u001b[43m_invoke\u001b[49m\u001b[43m,\u001b[49m\u001b[43m \u001b[49m\u001b[38;5;28;43minput\u001b[39;49m\u001b[43m,\u001b[49m\u001b[43m \u001b[49m\u001b[43mconfig\u001b[49m\u001b[43m,\u001b[49m\u001b[43m \u001b[49m\u001b[43m*\u001b[49m\u001b[43m*\u001b[49m\u001b[43mkwargs\u001b[49m\u001b[43m)\u001b[49m\n",
      "\u001b[36mFile \u001b[39m\u001b[32m~/anaconda3/envs/growbal/lib/python3.11/site-packages/langchain_core/runnables/base.py:1953\u001b[39m, in \u001b[36mRunnable._call_with_config\u001b[39m\u001b[34m(self, func, input_, config, run_type, serialized, **kwargs)\u001b[39m\n\u001b[32m   1949\u001b[39m     child_config = patch_config(config, callbacks=run_manager.get_child())\n\u001b[32m   1950\u001b[39m     \u001b[38;5;28;01mwith\u001b[39;00m set_config_context(child_config) \u001b[38;5;28;01mas\u001b[39;00m context:\n\u001b[32m   1951\u001b[39m         output = cast(\n\u001b[32m   1952\u001b[39m             \u001b[33m\"\u001b[39m\u001b[33mOutput\u001b[39m\u001b[33m\"\u001b[39m,\n\u001b[32m-> \u001b[39m\u001b[32m1953\u001b[39m             \u001b[43mcontext\u001b[49m\u001b[43m.\u001b[49m\u001b[43mrun\u001b[49m\u001b[43m(\u001b[49m\n\u001b[32m   1954\u001b[39m \u001b[43m                \u001b[49m\u001b[43mcall_func_with_variable_args\u001b[49m\u001b[43m,\u001b[49m\u001b[43m  \u001b[49m\u001b[38;5;66;43;03m# type: ignore[arg-type]\u001b[39;49;00m\n\u001b[32m   1955\u001b[39m \u001b[43m                \u001b[49m\u001b[43mfunc\u001b[49m\u001b[43m,\u001b[49m\n\u001b[32m   1956\u001b[39m \u001b[43m                \u001b[49m\u001b[43minput_\u001b[49m\u001b[43m,\u001b[49m\n\u001b[32m   1957\u001b[39m \u001b[43m                \u001b[49m\u001b[43mconfig\u001b[49m\u001b[43m,\u001b[49m\n\u001b[32m   1958\u001b[39m \u001b[43m                \u001b[49m\u001b[43mrun_manager\u001b[49m\u001b[43m,\u001b[49m\n\u001b[32m   1959\u001b[39m \u001b[43m                \u001b[49m\u001b[43m*\u001b[49m\u001b[43m*\u001b[49m\u001b[43mkwargs\u001b[49m\u001b[43m,\u001b[49m\n\u001b[32m   1960\u001b[39m \u001b[43m            \u001b[49m\u001b[43m)\u001b[49m,\n\u001b[32m   1961\u001b[39m         )\n\u001b[32m   1962\u001b[39m \u001b[38;5;28;01mexcept\u001b[39;00m \u001b[38;5;167;01mBaseException\u001b[39;00m \u001b[38;5;28;01mas\u001b[39;00m e:\n\u001b[32m   1963\u001b[39m     run_manager.on_chain_error(e)\n",
      "\u001b[36mFile \u001b[39m\u001b[32m~/anaconda3/envs/growbal/lib/python3.11/site-packages/langchain_core/runnables/config.py:429\u001b[39m, in \u001b[36mcall_func_with_variable_args\u001b[39m\u001b[34m(func, input, config, run_manager, **kwargs)\u001b[39m\n\u001b[32m    427\u001b[39m \u001b[38;5;28;01mif\u001b[39;00m run_manager \u001b[38;5;129;01mis\u001b[39;00m \u001b[38;5;129;01mnot\u001b[39;00m \u001b[38;5;28;01mNone\u001b[39;00m \u001b[38;5;129;01mand\u001b[39;00m accepts_run_manager(func):\n\u001b[32m    428\u001b[39m     kwargs[\u001b[33m\"\u001b[39m\u001b[33mrun_manager\u001b[39m\u001b[33m\"\u001b[39m] = run_manager\n\u001b[32m--> \u001b[39m\u001b[32m429\u001b[39m \u001b[38;5;28;01mreturn\u001b[39;00m \u001b[43mfunc\u001b[49m\u001b[43m(\u001b[49m\u001b[38;5;28;43minput\u001b[39;49m\u001b[43m,\u001b[49m\u001b[43m \u001b[49m\u001b[43m*\u001b[49m\u001b[43m*\u001b[49m\u001b[43mkwargs\u001b[49m\u001b[43m)\u001b[49m\n",
      "\u001b[36mFile \u001b[39m\u001b[32m~/anaconda3/envs/growbal/lib/python3.11/site-packages/langchain_core/runnables/retry.py:187\u001b[39m, in \u001b[36mRunnableRetry._invoke\u001b[39m\u001b[34m(self, input_, run_manager, config, **kwargs)\u001b[39m\n\u001b[32m    180\u001b[39m \u001b[38;5;28;01mdef\u001b[39;00m\u001b[38;5;250m \u001b[39m\u001b[34m_invoke\u001b[39m(\n\u001b[32m    181\u001b[39m     \u001b[38;5;28mself\u001b[39m,\n\u001b[32m    182\u001b[39m     input_: Input,\n\u001b[32m   (...)\u001b[39m\u001b[32m    185\u001b[39m     **kwargs: Any,\n\u001b[32m    186\u001b[39m ) -> Output:\n\u001b[32m--> \u001b[39m\u001b[32m187\u001b[39m \u001b[43m    \u001b[49m\u001b[38;5;28;43;01mfor\u001b[39;49;00m\u001b[43m \u001b[49m\u001b[43mattempt\u001b[49m\u001b[43m \u001b[49m\u001b[38;5;129;43;01min\u001b[39;49;00m\u001b[43m \u001b[49m\u001b[38;5;28;43mself\u001b[39;49m\u001b[43m.\u001b[49m\u001b[43m_sync_retrying\u001b[49m\u001b[43m(\u001b[49m\u001b[43mreraise\u001b[49m\u001b[43m=\u001b[49m\u001b[38;5;28;43;01mTrue\u001b[39;49;00m\u001b[43m)\u001b[49m\u001b[43m:\u001b[49m\n\u001b[32m    188\u001b[39m \u001b[43m        \u001b[49m\u001b[38;5;28;43;01mwith\u001b[39;49;00m\u001b[43m \u001b[49m\u001b[43mattempt\u001b[49m\u001b[43m:\u001b[49m\n\u001b[32m    189\u001b[39m \u001b[43m            \u001b[49m\u001b[43mresult\u001b[49m\u001b[43m \u001b[49m\u001b[43m=\u001b[49m\u001b[43m \u001b[49m\u001b[38;5;28;43msuper\u001b[39;49m\u001b[43m(\u001b[49m\u001b[43m)\u001b[49m\u001b[43m.\u001b[49m\u001b[43minvoke\u001b[49m\u001b[43m(\u001b[49m\n\u001b[32m    190\u001b[39m \u001b[43m                \u001b[49m\u001b[43minput_\u001b[49m\u001b[43m,\u001b[49m\n\u001b[32m    191\u001b[39m \u001b[43m                \u001b[49m\u001b[38;5;28;43mself\u001b[39;49m\u001b[43m.\u001b[49m\u001b[43m_patch_config\u001b[49m\u001b[43m(\u001b[49m\u001b[43mconfig\u001b[49m\u001b[43m,\u001b[49m\u001b[43m \u001b[49m\u001b[43mrun_manager\u001b[49m\u001b[43m,\u001b[49m\u001b[43m \u001b[49m\u001b[43mattempt\u001b[49m\u001b[43m.\u001b[49m\u001b[43mretry_state\u001b[49m\u001b[43m)\u001b[49m\u001b[43m,\u001b[49m\n\u001b[32m    192\u001b[39m \u001b[43m                \u001b[49m\u001b[43m*\u001b[49m\u001b[43m*\u001b[49m\u001b[43mkwargs\u001b[49m\u001b[43m,\u001b[49m\n\u001b[32m    193\u001b[39m \u001b[43m            \u001b[49m\u001b[43m)\u001b[49m\n",
      "\u001b[36mFile \u001b[39m\u001b[32m~/anaconda3/envs/growbal/lib/python3.11/site-packages/tenacity/__init__.py:445\u001b[39m, in \u001b[36mBaseRetrying.__iter__\u001b[39m\u001b[34m(self)\u001b[39m\n\u001b[32m    443\u001b[39m retry_state = RetryCallState(\u001b[38;5;28mself\u001b[39m, fn=\u001b[38;5;28;01mNone\u001b[39;00m, args=(), kwargs={})\n\u001b[32m    444\u001b[39m \u001b[38;5;28;01mwhile\u001b[39;00m \u001b[38;5;28;01mTrue\u001b[39;00m:\n\u001b[32m--> \u001b[39m\u001b[32m445\u001b[39m     do = \u001b[38;5;28;43mself\u001b[39;49m\u001b[43m.\u001b[49m\u001b[43miter\u001b[49m\u001b[43m(\u001b[49m\u001b[43mretry_state\u001b[49m\u001b[43m=\u001b[49m\u001b[43mretry_state\u001b[49m\u001b[43m)\u001b[49m\n\u001b[32m    446\u001b[39m     \u001b[38;5;28;01mif\u001b[39;00m \u001b[38;5;28misinstance\u001b[39m(do, DoAttempt):\n\u001b[32m    447\u001b[39m         \u001b[38;5;28;01myield\u001b[39;00m AttemptManager(retry_state=retry_state)\n",
      "\u001b[36mFile \u001b[39m\u001b[32m~/anaconda3/envs/growbal/lib/python3.11/site-packages/tenacity/__init__.py:378\u001b[39m, in \u001b[36mBaseRetrying.iter\u001b[39m\u001b[34m(self, retry_state)\u001b[39m\n\u001b[32m    376\u001b[39m result = \u001b[38;5;28;01mNone\u001b[39;00m\n\u001b[32m    377\u001b[39m \u001b[38;5;28;01mfor\u001b[39;00m action \u001b[38;5;129;01min\u001b[39;00m \u001b[38;5;28mself\u001b[39m.iter_state.actions:\n\u001b[32m--> \u001b[39m\u001b[32m378\u001b[39m     result = \u001b[43maction\u001b[49m\u001b[43m(\u001b[49m\u001b[43mretry_state\u001b[49m\u001b[43m)\u001b[49m\n\u001b[32m    379\u001b[39m \u001b[38;5;28;01mreturn\u001b[39;00m result\n",
      "\u001b[36mFile \u001b[39m\u001b[32m~/anaconda3/envs/growbal/lib/python3.11/site-packages/tenacity/__init__.py:400\u001b[39m, in \u001b[36mBaseRetrying._post_retry_check_actions.<locals>.<lambda>\u001b[39m\u001b[34m(rs)\u001b[39m\n\u001b[32m    398\u001b[39m \u001b[38;5;28;01mdef\u001b[39;00m\u001b[38;5;250m \u001b[39m\u001b[34m_post_retry_check_actions\u001b[39m(\u001b[38;5;28mself\u001b[39m, retry_state: \u001b[33m\"\u001b[39m\u001b[33mRetryCallState\u001b[39m\u001b[33m\"\u001b[39m) -> \u001b[38;5;28;01mNone\u001b[39;00m:\n\u001b[32m    399\u001b[39m     \u001b[38;5;28;01mif\u001b[39;00m \u001b[38;5;129;01mnot\u001b[39;00m (\u001b[38;5;28mself\u001b[39m.iter_state.is_explicit_retry \u001b[38;5;129;01mor\u001b[39;00m \u001b[38;5;28mself\u001b[39m.iter_state.retry_run_result):\n\u001b[32m--> \u001b[39m\u001b[32m400\u001b[39m         \u001b[38;5;28mself\u001b[39m._add_action_func(\u001b[38;5;28;01mlambda\u001b[39;00m rs: \u001b[43mrs\u001b[49m\u001b[43m.\u001b[49m\u001b[43moutcome\u001b[49m\u001b[43m.\u001b[49m\u001b[43mresult\u001b[49m\u001b[43m(\u001b[49m\u001b[43m)\u001b[49m)\n\u001b[32m    401\u001b[39m         \u001b[38;5;28;01mreturn\u001b[39;00m\n\u001b[32m    403\u001b[39m     \u001b[38;5;28;01mif\u001b[39;00m \u001b[38;5;28mself\u001b[39m.after \u001b[38;5;129;01mis\u001b[39;00m \u001b[38;5;129;01mnot\u001b[39;00m \u001b[38;5;28;01mNone\u001b[39;00m:\n",
      "\u001b[36mFile \u001b[39m\u001b[32m~/anaconda3/envs/growbal/lib/python3.11/concurrent/futures/_base.py:449\u001b[39m, in \u001b[36mFuture.result\u001b[39m\u001b[34m(self, timeout)\u001b[39m\n\u001b[32m    447\u001b[39m     \u001b[38;5;28;01mraise\u001b[39;00m CancelledError()\n\u001b[32m    448\u001b[39m \u001b[38;5;28;01melif\u001b[39;00m \u001b[38;5;28mself\u001b[39m._state == FINISHED:\n\u001b[32m--> \u001b[39m\u001b[32m449\u001b[39m     \u001b[38;5;28;01mreturn\u001b[39;00m \u001b[38;5;28;43mself\u001b[39;49m\u001b[43m.\u001b[49m\u001b[43m__get_result\u001b[49m\u001b[43m(\u001b[49m\u001b[43m)\u001b[49m\n\u001b[32m    451\u001b[39m \u001b[38;5;28mself\u001b[39m._condition.wait(timeout)\n\u001b[32m    453\u001b[39m \u001b[38;5;28;01mif\u001b[39;00m \u001b[38;5;28mself\u001b[39m._state \u001b[38;5;129;01min\u001b[39;00m [CANCELLED, CANCELLED_AND_NOTIFIED]:\n",
      "\u001b[36mFile \u001b[39m\u001b[32m~/anaconda3/envs/growbal/lib/python3.11/concurrent/futures/_base.py:401\u001b[39m, in \u001b[36mFuture.__get_result\u001b[39m\u001b[34m(self)\u001b[39m\n\u001b[32m    399\u001b[39m \u001b[38;5;28;01mif\u001b[39;00m \u001b[38;5;28mself\u001b[39m._exception:\n\u001b[32m    400\u001b[39m     \u001b[38;5;28;01mtry\u001b[39;00m:\n\u001b[32m--> \u001b[39m\u001b[32m401\u001b[39m         \u001b[38;5;28;01mraise\u001b[39;00m \u001b[38;5;28mself\u001b[39m._exception\n\u001b[32m    402\u001b[39m     \u001b[38;5;28;01mfinally\u001b[39;00m:\n\u001b[32m    403\u001b[39m         \u001b[38;5;66;03m# Break a reference cycle with the exception in self._exception\u001b[39;00m\n\u001b[32m    404\u001b[39m         \u001b[38;5;28mself\u001b[39m = \u001b[38;5;28;01mNone\u001b[39;00m\n",
      "\u001b[36mFile \u001b[39m\u001b[32m~/anaconda3/envs/growbal/lib/python3.11/site-packages/langchain_core/runnables/retry.py:189\u001b[39m, in \u001b[36mRunnableRetry._invoke\u001b[39m\u001b[34m(self, input_, run_manager, config, **kwargs)\u001b[39m\n\u001b[32m    187\u001b[39m \u001b[38;5;28;01mfor\u001b[39;00m attempt \u001b[38;5;129;01min\u001b[39;00m \u001b[38;5;28mself\u001b[39m._sync_retrying(reraise=\u001b[38;5;28;01mTrue\u001b[39;00m):\n\u001b[32m    188\u001b[39m     \u001b[38;5;28;01mwith\u001b[39;00m attempt:\n\u001b[32m--> \u001b[39m\u001b[32m189\u001b[39m         result = \u001b[38;5;28;43msuper\u001b[39;49m\u001b[43m(\u001b[49m\u001b[43m)\u001b[49m\u001b[43m.\u001b[49m\u001b[43minvoke\u001b[49m\u001b[43m(\u001b[49m\n\u001b[32m    190\u001b[39m \u001b[43m            \u001b[49m\u001b[43minput_\u001b[49m\u001b[43m,\u001b[49m\n\u001b[32m    191\u001b[39m \u001b[43m            \u001b[49m\u001b[38;5;28;43mself\u001b[39;49m\u001b[43m.\u001b[49m\u001b[43m_patch_config\u001b[49m\u001b[43m(\u001b[49m\u001b[43mconfig\u001b[49m\u001b[43m,\u001b[49m\u001b[43m \u001b[49m\u001b[43mrun_manager\u001b[49m\u001b[43m,\u001b[49m\u001b[43m \u001b[49m\u001b[43mattempt\u001b[49m\u001b[43m.\u001b[49m\u001b[43mretry_state\u001b[49m\u001b[43m)\u001b[49m\u001b[43m,\u001b[49m\n\u001b[32m    192\u001b[39m \u001b[43m            \u001b[49m\u001b[43m*\u001b[49m\u001b[43m*\u001b[49m\u001b[43mkwargs\u001b[49m\u001b[43m,\u001b[49m\n\u001b[32m    193\u001b[39m \u001b[43m        \u001b[49m\u001b[43m)\u001b[49m\n\u001b[32m    194\u001b[39m     \u001b[38;5;28;01mif\u001b[39;00m attempt.retry_state.outcome \u001b[38;5;129;01mand\u001b[39;00m \u001b[38;5;129;01mnot\u001b[39;00m attempt.retry_state.outcome.failed:\n\u001b[32m    195\u001b[39m         attempt.retry_state.set_result(result)\n",
      "\u001b[36mFile \u001b[39m\u001b[32m~/anaconda3/envs/growbal/lib/python3.11/site-packages/langchain_core/runnables/base.py:5495\u001b[39m, in \u001b[36mRunnableBindingBase.invoke\u001b[39m\u001b[34m(self, input, config, **kwargs)\u001b[39m\n\u001b[32m   5488\u001b[39m \u001b[38;5;129m@override\u001b[39m\n\u001b[32m   5489\u001b[39m \u001b[38;5;28;01mdef\u001b[39;00m\u001b[38;5;250m \u001b[39m\u001b[34minvoke\u001b[39m(\n\u001b[32m   5490\u001b[39m     \u001b[38;5;28mself\u001b[39m,\n\u001b[32m   (...)\u001b[39m\u001b[32m   5493\u001b[39m     **kwargs: Optional[Any],\n\u001b[32m   5494\u001b[39m ) -> Output:\n\u001b[32m-> \u001b[39m\u001b[32m5495\u001b[39m     \u001b[38;5;28;01mreturn\u001b[39;00m \u001b[38;5;28;43mself\u001b[39;49m\u001b[43m.\u001b[49m\u001b[43mbound\u001b[49m\u001b[43m.\u001b[49m\u001b[43minvoke\u001b[49m\u001b[43m(\u001b[49m\n\u001b[32m   5496\u001b[39m \u001b[43m        \u001b[49m\u001b[38;5;28;43minput\u001b[39;49m\u001b[43m,\u001b[49m\n\u001b[32m   5497\u001b[39m \u001b[43m        \u001b[49m\u001b[38;5;28;43mself\u001b[39;49m\u001b[43m.\u001b[49m\u001b[43m_merge_configs\u001b[49m\u001b[43m(\u001b[49m\u001b[43mconfig\u001b[49m\u001b[43m)\u001b[49m\u001b[43m,\u001b[49m\n\u001b[32m   5498\u001b[39m \u001b[43m        \u001b[49m\u001b[43m*\u001b[49m\u001b[43m*\u001b[49m\u001b[43m{\u001b[49m\u001b[43m*\u001b[49m\u001b[43m*\u001b[49m\u001b[38;5;28;43mself\u001b[39;49m\u001b[43m.\u001b[49m\u001b[43mkwargs\u001b[49m\u001b[43m,\u001b[49m\u001b[43m \u001b[49m\u001b[43m*\u001b[49m\u001b[43m*\u001b[49m\u001b[43mkwargs\u001b[49m\u001b[43m}\u001b[49m\u001b[43m,\u001b[49m\n\u001b[32m   5499\u001b[39m \u001b[43m    \u001b[49m\u001b[43m)\u001b[49m\n",
      "\u001b[36mFile \u001b[39m\u001b[32m~/anaconda3/envs/growbal/lib/python3.11/site-packages/langchain_core/runnables/base.py:3082\u001b[39m, in \u001b[36mRunnableSequence.invoke\u001b[39m\u001b[34m(self, input, config, **kwargs)\u001b[39m\n\u001b[32m   3080\u001b[39m                 input_ = context.run(step.invoke, input_, config, **kwargs)\n\u001b[32m   3081\u001b[39m             \u001b[38;5;28;01melse\u001b[39;00m:\n\u001b[32m-> \u001b[39m\u001b[32m3082\u001b[39m                 input_ = context.run(step.invoke, input_, config)\n\u001b[32m   3083\u001b[39m \u001b[38;5;66;03m# finish the root run\u001b[39;00m\n\u001b[32m   3084\u001b[39m \u001b[38;5;28;01mexcept\u001b[39;00m \u001b[38;5;167;01mBaseException\u001b[39;00m \u001b[38;5;28;01mas\u001b[39;00m e:\n",
      "\u001b[36mFile \u001b[39m\u001b[32m~/anaconda3/envs/growbal/lib/python3.11/site-packages/langchain_core/runnables/base.py:5495\u001b[39m, in \u001b[36mRunnableBindingBase.invoke\u001b[39m\u001b[34m(self, input, config, **kwargs)\u001b[39m\n\u001b[32m   5488\u001b[39m \u001b[38;5;129m@override\u001b[39m\n\u001b[32m   5489\u001b[39m \u001b[38;5;28;01mdef\u001b[39;00m\u001b[38;5;250m \u001b[39m\u001b[34minvoke\u001b[39m(\n\u001b[32m   5490\u001b[39m     \u001b[38;5;28mself\u001b[39m,\n\u001b[32m   (...)\u001b[39m\u001b[32m   5493\u001b[39m     **kwargs: Optional[Any],\n\u001b[32m   5494\u001b[39m ) -> Output:\n\u001b[32m-> \u001b[39m\u001b[32m5495\u001b[39m     \u001b[38;5;28;01mreturn\u001b[39;00m \u001b[38;5;28;43mself\u001b[39;49m\u001b[43m.\u001b[49m\u001b[43mbound\u001b[49m\u001b[43m.\u001b[49m\u001b[43minvoke\u001b[49m\u001b[43m(\u001b[49m\n\u001b[32m   5496\u001b[39m \u001b[43m        \u001b[49m\u001b[38;5;28;43minput\u001b[39;49m\u001b[43m,\u001b[49m\n\u001b[32m   5497\u001b[39m \u001b[43m        \u001b[49m\u001b[38;5;28;43mself\u001b[39;49m\u001b[43m.\u001b[49m\u001b[43m_merge_configs\u001b[49m\u001b[43m(\u001b[49m\u001b[43mconfig\u001b[49m\u001b[43m)\u001b[49m\u001b[43m,\u001b[49m\n\u001b[32m   5498\u001b[39m \u001b[43m        \u001b[49m\u001b[43m*\u001b[49m\u001b[43m*\u001b[49m\u001b[43m{\u001b[49m\u001b[43m*\u001b[49m\u001b[43m*\u001b[49m\u001b[38;5;28;43mself\u001b[39;49m\u001b[43m.\u001b[49m\u001b[43mkwargs\u001b[49m\u001b[43m,\u001b[49m\u001b[43m \u001b[49m\u001b[43m*\u001b[49m\u001b[43m*\u001b[49m\u001b[43mkwargs\u001b[49m\u001b[43m}\u001b[49m\u001b[43m,\u001b[49m\n\u001b[32m   5499\u001b[39m \u001b[43m    \u001b[49m\u001b[43m)\u001b[49m\n",
      "\u001b[36mFile \u001b[39m\u001b[32m~/anaconda3/envs/growbal/lib/python3.11/site-packages/langchain_core/language_models/chat_models.py:393\u001b[39m, in \u001b[36mBaseChatModel.invoke\u001b[39m\u001b[34m(self, input, config, stop, **kwargs)\u001b[39m\n\u001b[32m    381\u001b[39m \u001b[38;5;129m@override\u001b[39m\n\u001b[32m    382\u001b[39m \u001b[38;5;28;01mdef\u001b[39;00m\u001b[38;5;250m \u001b[39m\u001b[34minvoke\u001b[39m(\n\u001b[32m    383\u001b[39m     \u001b[38;5;28mself\u001b[39m,\n\u001b[32m   (...)\u001b[39m\u001b[32m    388\u001b[39m     **kwargs: Any,\n\u001b[32m    389\u001b[39m ) -> BaseMessage:\n\u001b[32m    390\u001b[39m     config = ensure_config(config)\n\u001b[32m    391\u001b[39m     \u001b[38;5;28;01mreturn\u001b[39;00m cast(\n\u001b[32m    392\u001b[39m         \u001b[33m\"\u001b[39m\u001b[33mChatGeneration\u001b[39m\u001b[33m\"\u001b[39m,\n\u001b[32m--> \u001b[39m\u001b[32m393\u001b[39m         \u001b[38;5;28;43mself\u001b[39;49m\u001b[43m.\u001b[49m\u001b[43mgenerate_prompt\u001b[49m\u001b[43m(\u001b[49m\n\u001b[32m    394\u001b[39m \u001b[43m            \u001b[49m\u001b[43m[\u001b[49m\u001b[38;5;28;43mself\u001b[39;49m\u001b[43m.\u001b[49m\u001b[43m_convert_input\u001b[49m\u001b[43m(\u001b[49m\u001b[38;5;28;43minput\u001b[39;49m\u001b[43m)\u001b[49m\u001b[43m]\u001b[49m\u001b[43m,\u001b[49m\n\u001b[32m    395\u001b[39m \u001b[43m            \u001b[49m\u001b[43mstop\u001b[49m\u001b[43m=\u001b[49m\u001b[43mstop\u001b[49m\u001b[43m,\u001b[49m\n\u001b[32m    396\u001b[39m \u001b[43m            \u001b[49m\u001b[43mcallbacks\u001b[49m\u001b[43m=\u001b[49m\u001b[43mconfig\u001b[49m\u001b[43m.\u001b[49m\u001b[43mget\u001b[49m\u001b[43m(\u001b[49m\u001b[33;43m\"\u001b[39;49m\u001b[33;43mcallbacks\u001b[39;49m\u001b[33;43m\"\u001b[39;49m\u001b[43m)\u001b[49m\u001b[43m,\u001b[49m\n\u001b[32m    397\u001b[39m \u001b[43m            \u001b[49m\u001b[43mtags\u001b[49m\u001b[43m=\u001b[49m\u001b[43mconfig\u001b[49m\u001b[43m.\u001b[49m\u001b[43mget\u001b[49m\u001b[43m(\u001b[49m\u001b[33;43m\"\u001b[39;49m\u001b[33;43mtags\u001b[39;49m\u001b[33;43m\"\u001b[39;49m\u001b[43m)\u001b[49m\u001b[43m,\u001b[49m\n\u001b[32m    398\u001b[39m \u001b[43m            \u001b[49m\u001b[43mmetadata\u001b[49m\u001b[43m=\u001b[49m\u001b[43mconfig\u001b[49m\u001b[43m.\u001b[49m\u001b[43mget\u001b[49m\u001b[43m(\u001b[49m\u001b[33;43m\"\u001b[39;49m\u001b[33;43mmetadata\u001b[39;49m\u001b[33;43m\"\u001b[39;49m\u001b[43m)\u001b[49m\u001b[43m,\u001b[49m\n\u001b[32m    399\u001b[39m \u001b[43m            \u001b[49m\u001b[43mrun_name\u001b[49m\u001b[43m=\u001b[49m\u001b[43mconfig\u001b[49m\u001b[43m.\u001b[49m\u001b[43mget\u001b[49m\u001b[43m(\u001b[49m\u001b[33;43m\"\u001b[39;49m\u001b[33;43mrun_name\u001b[39;49m\u001b[33;43m\"\u001b[39;49m\u001b[43m)\u001b[49m\u001b[43m,\u001b[49m\n\u001b[32m    400\u001b[39m \u001b[43m            \u001b[49m\u001b[43mrun_id\u001b[49m\u001b[43m=\u001b[49m\u001b[43mconfig\u001b[49m\u001b[43m.\u001b[49m\u001b[43mpop\u001b[49m\u001b[43m(\u001b[49m\u001b[33;43m\"\u001b[39;49m\u001b[33;43mrun_id\u001b[39;49m\u001b[33;43m\"\u001b[39;49m\u001b[43m,\u001b[49m\u001b[43m \u001b[49m\u001b[38;5;28;43;01mNone\u001b[39;49;00m\u001b[43m)\u001b[49m\u001b[43m,\u001b[49m\n\u001b[32m    401\u001b[39m \u001b[43m            \u001b[49m\u001b[43m*\u001b[49m\u001b[43m*\u001b[49m\u001b[43mkwargs\u001b[49m\u001b[43m,\u001b[49m\n\u001b[32m    402\u001b[39m \u001b[43m        \u001b[49m\u001b[43m)\u001b[49m.generations[\u001b[32m0\u001b[39m][\u001b[32m0\u001b[39m],\n\u001b[32m    403\u001b[39m     ).message\n",
      "\u001b[36mFile \u001b[39m\u001b[32m~/anaconda3/envs/growbal/lib/python3.11/site-packages/langchain_core/language_models/chat_models.py:1019\u001b[39m, in \u001b[36mBaseChatModel.generate_prompt\u001b[39m\u001b[34m(self, prompts, stop, callbacks, **kwargs)\u001b[39m\n\u001b[32m   1010\u001b[39m \u001b[38;5;129m@override\u001b[39m\n\u001b[32m   1011\u001b[39m \u001b[38;5;28;01mdef\u001b[39;00m\u001b[38;5;250m \u001b[39m\u001b[34mgenerate_prompt\u001b[39m(\n\u001b[32m   1012\u001b[39m     \u001b[38;5;28mself\u001b[39m,\n\u001b[32m   (...)\u001b[39m\u001b[32m   1016\u001b[39m     **kwargs: Any,\n\u001b[32m   1017\u001b[39m ) -> LLMResult:\n\u001b[32m   1018\u001b[39m     prompt_messages = [p.to_messages() \u001b[38;5;28;01mfor\u001b[39;00m p \u001b[38;5;129;01min\u001b[39;00m prompts]\n\u001b[32m-> \u001b[39m\u001b[32m1019\u001b[39m     \u001b[38;5;28;01mreturn\u001b[39;00m \u001b[38;5;28;43mself\u001b[39;49m\u001b[43m.\u001b[49m\u001b[43mgenerate\u001b[49m\u001b[43m(\u001b[49m\u001b[43mprompt_messages\u001b[49m\u001b[43m,\u001b[49m\u001b[43m \u001b[49m\u001b[43mstop\u001b[49m\u001b[43m=\u001b[49m\u001b[43mstop\u001b[49m\u001b[43m,\u001b[49m\u001b[43m \u001b[49m\u001b[43mcallbacks\u001b[49m\u001b[43m=\u001b[49m\u001b[43mcallbacks\u001b[49m\u001b[43m,\u001b[49m\u001b[43m \u001b[49m\u001b[43m*\u001b[49m\u001b[43m*\u001b[49m\u001b[43mkwargs\u001b[49m\u001b[43m)\u001b[49m\n",
      "\u001b[36mFile \u001b[39m\u001b[32m~/anaconda3/envs/growbal/lib/python3.11/site-packages/langchain_core/language_models/chat_models.py:837\u001b[39m, in \u001b[36mBaseChatModel.generate\u001b[39m\u001b[34m(self, messages, stop, callbacks, tags, metadata, run_name, run_id, **kwargs)\u001b[39m\n\u001b[32m    834\u001b[39m \u001b[38;5;28;01mfor\u001b[39;00m i, m \u001b[38;5;129;01min\u001b[39;00m \u001b[38;5;28menumerate\u001b[39m(input_messages):\n\u001b[32m    835\u001b[39m     \u001b[38;5;28;01mtry\u001b[39;00m:\n\u001b[32m    836\u001b[39m         results.append(\n\u001b[32m--> \u001b[39m\u001b[32m837\u001b[39m             \u001b[38;5;28;43mself\u001b[39;49m\u001b[43m.\u001b[49m\u001b[43m_generate_with_cache\u001b[49m\u001b[43m(\u001b[49m\n\u001b[32m    838\u001b[39m \u001b[43m                \u001b[49m\u001b[43mm\u001b[49m\u001b[43m,\u001b[49m\n\u001b[32m    839\u001b[39m \u001b[43m                \u001b[49m\u001b[43mstop\u001b[49m\u001b[43m=\u001b[49m\u001b[43mstop\u001b[49m\u001b[43m,\u001b[49m\n\u001b[32m    840\u001b[39m \u001b[43m                \u001b[49m\u001b[43mrun_manager\u001b[49m\u001b[43m=\u001b[49m\u001b[43mrun_managers\u001b[49m\u001b[43m[\u001b[49m\u001b[43mi\u001b[49m\u001b[43m]\u001b[49m\u001b[43m \u001b[49m\u001b[38;5;28;43;01mif\u001b[39;49;00m\u001b[43m \u001b[49m\u001b[43mrun_managers\u001b[49m\u001b[43m \u001b[49m\u001b[38;5;28;43;01melse\u001b[39;49;00m\u001b[43m \u001b[49m\u001b[38;5;28;43;01mNone\u001b[39;49;00m\u001b[43m,\u001b[49m\n\u001b[32m    841\u001b[39m \u001b[43m                \u001b[49m\u001b[43m*\u001b[49m\u001b[43m*\u001b[49m\u001b[43mkwargs\u001b[49m\u001b[43m,\u001b[49m\n\u001b[32m    842\u001b[39m \u001b[43m            \u001b[49m\u001b[43m)\u001b[49m\n\u001b[32m    843\u001b[39m         )\n\u001b[32m    844\u001b[39m     \u001b[38;5;28;01mexcept\u001b[39;00m \u001b[38;5;167;01mBaseException\u001b[39;00m \u001b[38;5;28;01mas\u001b[39;00m e:\n\u001b[32m    845\u001b[39m         \u001b[38;5;28;01mif\u001b[39;00m run_managers:\n",
      "\u001b[36mFile \u001b[39m\u001b[32m~/anaconda3/envs/growbal/lib/python3.11/site-packages/langchain_core/language_models/chat_models.py:1085\u001b[39m, in \u001b[36mBaseChatModel._generate_with_cache\u001b[39m\u001b[34m(self, messages, stop, run_manager, **kwargs)\u001b[39m\n\u001b[32m   1083\u001b[39m     result = generate_from_stream(\u001b[38;5;28miter\u001b[39m(chunks))\n\u001b[32m   1084\u001b[39m \u001b[38;5;28;01melif\u001b[39;00m inspect.signature(\u001b[38;5;28mself\u001b[39m._generate).parameters.get(\u001b[33m\"\u001b[39m\u001b[33mrun_manager\u001b[39m\u001b[33m\"\u001b[39m):\n\u001b[32m-> \u001b[39m\u001b[32m1085\u001b[39m     result = \u001b[38;5;28;43mself\u001b[39;49m\u001b[43m.\u001b[49m\u001b[43m_generate\u001b[49m\u001b[43m(\u001b[49m\n\u001b[32m   1086\u001b[39m \u001b[43m        \u001b[49m\u001b[43mmessages\u001b[49m\u001b[43m,\u001b[49m\u001b[43m \u001b[49m\u001b[43mstop\u001b[49m\u001b[43m=\u001b[49m\u001b[43mstop\u001b[49m\u001b[43m,\u001b[49m\u001b[43m \u001b[49m\u001b[43mrun_manager\u001b[49m\u001b[43m=\u001b[49m\u001b[43mrun_manager\u001b[49m\u001b[43m,\u001b[49m\u001b[43m \u001b[49m\u001b[43m*\u001b[49m\u001b[43m*\u001b[49m\u001b[43mkwargs\u001b[49m\n\u001b[32m   1087\u001b[39m \u001b[43m    \u001b[49m\u001b[43m)\u001b[49m\n\u001b[32m   1088\u001b[39m \u001b[38;5;28;01melse\u001b[39;00m:\n\u001b[32m   1089\u001b[39m     result = \u001b[38;5;28mself\u001b[39m._generate(messages, stop=stop, **kwargs)\n",
      "\u001b[36mFile \u001b[39m\u001b[32m~/anaconda3/envs/growbal/lib/python3.11/site-packages/langchain_anthropic/chat_models.py:1204\u001b[39m, in \u001b[36mChatAnthropic._generate\u001b[39m\u001b[34m(self, messages, stop, run_manager, **kwargs)\u001b[39m\n\u001b[32m   1202\u001b[39m     \u001b[38;5;28;01mreturn\u001b[39;00m generate_from_stream(stream_iter)\n\u001b[32m   1203\u001b[39m payload = \u001b[38;5;28mself\u001b[39m._get_request_payload(messages, stop=stop, **kwargs)\n\u001b[32m-> \u001b[39m\u001b[32m1204\u001b[39m data = \u001b[38;5;28;43mself\u001b[39;49m\u001b[43m.\u001b[49m\u001b[43m_client\u001b[49m\u001b[43m.\u001b[49m\u001b[43mmessages\u001b[49m\u001b[43m.\u001b[49m\u001b[43mcreate\u001b[49m\u001b[43m(\u001b[49m\u001b[43m*\u001b[49m\u001b[43m*\u001b[49m\u001b[43mpayload\u001b[49m\u001b[43m)\u001b[49m\n\u001b[32m   1205\u001b[39m \u001b[38;5;28;01mreturn\u001b[39;00m \u001b[38;5;28mself\u001b[39m._format_output(data, **kwargs)\n",
      "\u001b[36mFile \u001b[39m\u001b[32m~/anaconda3/envs/growbal/lib/python3.11/site-packages/anthropic/_utils/_utils.py:283\u001b[39m, in \u001b[36mrequired_args.<locals>.inner.<locals>.wrapper\u001b[39m\u001b[34m(*args, **kwargs)\u001b[39m\n\u001b[32m    281\u001b[39m             msg = \u001b[33mf\u001b[39m\u001b[33m\"\u001b[39m\u001b[33mMissing required argument: \u001b[39m\u001b[38;5;132;01m{\u001b[39;00mquote(missing[\u001b[32m0\u001b[39m])\u001b[38;5;132;01m}\u001b[39;00m\u001b[33m\"\u001b[39m\n\u001b[32m    282\u001b[39m     \u001b[38;5;28;01mraise\u001b[39;00m \u001b[38;5;167;01mTypeError\u001b[39;00m(msg)\n\u001b[32m--> \u001b[39m\u001b[32m283\u001b[39m \u001b[38;5;28;01mreturn\u001b[39;00m \u001b[43mfunc\u001b[49m\u001b[43m(\u001b[49m\u001b[43m*\u001b[49m\u001b[43margs\u001b[49m\u001b[43m,\u001b[49m\u001b[43m \u001b[49m\u001b[43m*\u001b[49m\u001b[43m*\u001b[49m\u001b[43mkwargs\u001b[49m\u001b[43m)\u001b[49m\n",
      "\u001b[36mFile \u001b[39m\u001b[32m~/anaconda3/envs/growbal/lib/python3.11/site-packages/anthropic/resources/messages/messages.py:954\u001b[39m, in \u001b[36mMessages.create\u001b[39m\u001b[34m(self, max_tokens, messages, model, metadata, stop_sequences, stream, system, temperature, thinking, tool_choice, tools, top_k, top_p, extra_headers, extra_query, extra_body, timeout)\u001b[39m\n\u001b[32m    947\u001b[39m \u001b[38;5;28;01mif\u001b[39;00m model \u001b[38;5;129;01min\u001b[39;00m DEPRECATED_MODELS:\n\u001b[32m    948\u001b[39m     warnings.warn(\n\u001b[32m    949\u001b[39m         \u001b[33mf\u001b[39m\u001b[33m\"\u001b[39m\u001b[33mThe model \u001b[39m\u001b[33m'\u001b[39m\u001b[38;5;132;01m{\u001b[39;00mmodel\u001b[38;5;132;01m}\u001b[39;00m\u001b[33m'\u001b[39m\u001b[33m is deprecated and will reach end-of-life on \u001b[39m\u001b[38;5;132;01m{\u001b[39;00mDEPRECATED_MODELS[model]\u001b[38;5;132;01m}\u001b[39;00m\u001b[33m.\u001b[39m\u001b[38;5;130;01m\\n\u001b[39;00m\u001b[33mPlease migrate to a newer model. Visit https://docs.anthropic.com/en/docs/resources/model-deprecations for more information.\u001b[39m\u001b[33m\"\u001b[39m,\n\u001b[32m    950\u001b[39m         \u001b[38;5;167;01mDeprecationWarning\u001b[39;00m,\n\u001b[32m    951\u001b[39m         stacklevel=\u001b[32m3\u001b[39m,\n\u001b[32m    952\u001b[39m     )\n\u001b[32m--> \u001b[39m\u001b[32m954\u001b[39m \u001b[38;5;28;01mreturn\u001b[39;00m \u001b[38;5;28;43mself\u001b[39;49m\u001b[43m.\u001b[49m\u001b[43m_post\u001b[49m\u001b[43m(\u001b[49m\n\u001b[32m    955\u001b[39m \u001b[43m    \u001b[49m\u001b[33;43m\"\u001b[39;49m\u001b[33;43m/v1/messages\u001b[39;49m\u001b[33;43m\"\u001b[39;49m\u001b[43m,\u001b[49m\n\u001b[32m    956\u001b[39m \u001b[43m    \u001b[49m\u001b[43mbody\u001b[49m\u001b[43m=\u001b[49m\u001b[43mmaybe_transform\u001b[49m\u001b[43m(\u001b[49m\n\u001b[32m    957\u001b[39m \u001b[43m        \u001b[49m\u001b[43m{\u001b[49m\n\u001b[32m    958\u001b[39m \u001b[43m            \u001b[49m\u001b[33;43m\"\u001b[39;49m\u001b[33;43mmax_tokens\u001b[39;49m\u001b[33;43m\"\u001b[39;49m\u001b[43m:\u001b[49m\u001b[43m \u001b[49m\u001b[43mmax_tokens\u001b[49m\u001b[43m,\u001b[49m\n\u001b[32m    959\u001b[39m \u001b[43m            \u001b[49m\u001b[33;43m\"\u001b[39;49m\u001b[33;43mmessages\u001b[39;49m\u001b[33;43m\"\u001b[39;49m\u001b[43m:\u001b[49m\u001b[43m \u001b[49m\u001b[43mmessages\u001b[49m\u001b[43m,\u001b[49m\n\u001b[32m    960\u001b[39m \u001b[43m            \u001b[49m\u001b[33;43m\"\u001b[39;49m\u001b[33;43mmodel\u001b[39;49m\u001b[33;43m\"\u001b[39;49m\u001b[43m:\u001b[49m\u001b[43m \u001b[49m\u001b[43mmodel\u001b[49m\u001b[43m,\u001b[49m\n\u001b[32m    961\u001b[39m \u001b[43m            \u001b[49m\u001b[33;43m\"\u001b[39;49m\u001b[33;43mmetadata\u001b[39;49m\u001b[33;43m\"\u001b[39;49m\u001b[43m:\u001b[49m\u001b[43m \u001b[49m\u001b[43mmetadata\u001b[49m\u001b[43m,\u001b[49m\n\u001b[32m    962\u001b[39m \u001b[43m            \u001b[49m\u001b[33;43m\"\u001b[39;49m\u001b[33;43mstop_sequences\u001b[39;49m\u001b[33;43m\"\u001b[39;49m\u001b[43m:\u001b[49m\u001b[43m \u001b[49m\u001b[43mstop_sequences\u001b[49m\u001b[43m,\u001b[49m\n\u001b[32m    963\u001b[39m \u001b[43m            \u001b[49m\u001b[33;43m\"\u001b[39;49m\u001b[33;43mstream\u001b[39;49m\u001b[33;43m\"\u001b[39;49m\u001b[43m:\u001b[49m\u001b[43m \u001b[49m\u001b[43mstream\u001b[49m\u001b[43m,\u001b[49m\n\u001b[32m    964\u001b[39m \u001b[43m            \u001b[49m\u001b[33;43m\"\u001b[39;49m\u001b[33;43msystem\u001b[39;49m\u001b[33;43m\"\u001b[39;49m\u001b[43m:\u001b[49m\u001b[43m \u001b[49m\u001b[43msystem\u001b[49m\u001b[43m,\u001b[49m\n\u001b[32m    965\u001b[39m \u001b[43m            \u001b[49m\u001b[33;43m\"\u001b[39;49m\u001b[33;43mtemperature\u001b[39;49m\u001b[33;43m\"\u001b[39;49m\u001b[43m:\u001b[49m\u001b[43m \u001b[49m\u001b[43mtemperature\u001b[49m\u001b[43m,\u001b[49m\n\u001b[32m    966\u001b[39m \u001b[43m            \u001b[49m\u001b[33;43m\"\u001b[39;49m\u001b[33;43mthinking\u001b[39;49m\u001b[33;43m\"\u001b[39;49m\u001b[43m:\u001b[49m\u001b[43m \u001b[49m\u001b[43mthinking\u001b[49m\u001b[43m,\u001b[49m\n\u001b[32m    967\u001b[39m \u001b[43m            \u001b[49m\u001b[33;43m\"\u001b[39;49m\u001b[33;43mtool_choice\u001b[39;49m\u001b[33;43m\"\u001b[39;49m\u001b[43m:\u001b[49m\u001b[43m \u001b[49m\u001b[43mtool_choice\u001b[49m\u001b[43m,\u001b[49m\n\u001b[32m    968\u001b[39m \u001b[43m            \u001b[49m\u001b[33;43m\"\u001b[39;49m\u001b[33;43mtools\u001b[39;49m\u001b[33;43m\"\u001b[39;49m\u001b[43m:\u001b[49m\u001b[43m \u001b[49m\u001b[43mtools\u001b[49m\u001b[43m,\u001b[49m\n\u001b[32m    969\u001b[39m \u001b[43m            \u001b[49m\u001b[33;43m\"\u001b[39;49m\u001b[33;43mtop_k\u001b[39;49m\u001b[33;43m\"\u001b[39;49m\u001b[43m:\u001b[49m\u001b[43m \u001b[49m\u001b[43mtop_k\u001b[49m\u001b[43m,\u001b[49m\n\u001b[32m    970\u001b[39m \u001b[43m            \u001b[49m\u001b[33;43m\"\u001b[39;49m\u001b[33;43mtop_p\u001b[39;49m\u001b[33;43m\"\u001b[39;49m\u001b[43m:\u001b[49m\u001b[43m \u001b[49m\u001b[43mtop_p\u001b[49m\u001b[43m,\u001b[49m\n\u001b[32m    971\u001b[39m \u001b[43m        \u001b[49m\u001b[43m}\u001b[49m\u001b[43m,\u001b[49m\n\u001b[32m    972\u001b[39m \u001b[43m        \u001b[49m\u001b[43mmessage_create_params\u001b[49m\u001b[43m.\u001b[49m\u001b[43mMessageCreateParamsStreaming\u001b[49m\n\u001b[32m    973\u001b[39m \u001b[43m        \u001b[49m\u001b[38;5;28;43;01mif\u001b[39;49;00m\u001b[43m \u001b[49m\u001b[43mstream\u001b[49m\n\u001b[32m    974\u001b[39m \u001b[43m        \u001b[49m\u001b[38;5;28;43;01melse\u001b[39;49;00m\u001b[43m \u001b[49m\u001b[43mmessage_create_params\u001b[49m\u001b[43m.\u001b[49m\u001b[43mMessageCreateParamsNonStreaming\u001b[49m\u001b[43m,\u001b[49m\n\u001b[32m    975\u001b[39m \u001b[43m    \u001b[49m\u001b[43m)\u001b[49m\u001b[43m,\u001b[49m\n\u001b[32m    976\u001b[39m \u001b[43m    \u001b[49m\u001b[43moptions\u001b[49m\u001b[43m=\u001b[49m\u001b[43mmake_request_options\u001b[49m\u001b[43m(\u001b[49m\n\u001b[32m    977\u001b[39m \u001b[43m        \u001b[49m\u001b[43mextra_headers\u001b[49m\u001b[43m=\u001b[49m\u001b[43mextra_headers\u001b[49m\u001b[43m,\u001b[49m\u001b[43m \u001b[49m\u001b[43mextra_query\u001b[49m\u001b[43m=\u001b[49m\u001b[43mextra_query\u001b[49m\u001b[43m,\u001b[49m\u001b[43m \u001b[49m\u001b[43mextra_body\u001b[49m\u001b[43m=\u001b[49m\u001b[43mextra_body\u001b[49m\u001b[43m,\u001b[49m\u001b[43m \u001b[49m\u001b[43mtimeout\u001b[49m\u001b[43m=\u001b[49m\u001b[43mtimeout\u001b[49m\n\u001b[32m    978\u001b[39m \u001b[43m    \u001b[49m\u001b[43m)\u001b[49m\u001b[43m,\u001b[49m\n\u001b[32m    979\u001b[39m \u001b[43m    \u001b[49m\u001b[43mcast_to\u001b[49m\u001b[43m=\u001b[49m\u001b[43mMessage\u001b[49m\u001b[43m,\u001b[49m\n\u001b[32m    980\u001b[39m \u001b[43m    \u001b[49m\u001b[43mstream\u001b[49m\u001b[43m=\u001b[49m\u001b[43mstream\u001b[49m\u001b[43m \u001b[49m\u001b[38;5;129;43;01mor\u001b[39;49;00m\u001b[43m \u001b[49m\u001b[38;5;28;43;01mFalse\u001b[39;49;00m\u001b[43m,\u001b[49m\n\u001b[32m    981\u001b[39m \u001b[43m    \u001b[49m\u001b[43mstream_cls\u001b[49m\u001b[43m=\u001b[49m\u001b[43mStream\u001b[49m\u001b[43m[\u001b[49m\u001b[43mRawMessageStreamEvent\u001b[49m\u001b[43m]\u001b[49m\u001b[43m,\u001b[49m\n\u001b[32m    982\u001b[39m \u001b[43m\u001b[49m\u001b[43m)\u001b[49m\n",
      "\u001b[36mFile \u001b[39m\u001b[32m~/anaconda3/envs/growbal/lib/python3.11/site-packages/anthropic/_base_client.py:1290\u001b[39m, in \u001b[36mSyncAPIClient.post\u001b[39m\u001b[34m(self, path, cast_to, body, options, files, stream, stream_cls)\u001b[39m\n\u001b[32m   1276\u001b[39m \u001b[38;5;28;01mdef\u001b[39;00m\u001b[38;5;250m \u001b[39m\u001b[34mpost\u001b[39m(\n\u001b[32m   1277\u001b[39m     \u001b[38;5;28mself\u001b[39m,\n\u001b[32m   1278\u001b[39m     path: \u001b[38;5;28mstr\u001b[39m,\n\u001b[32m   (...)\u001b[39m\u001b[32m   1285\u001b[39m     stream_cls: \u001b[38;5;28mtype\u001b[39m[_StreamT] | \u001b[38;5;28;01mNone\u001b[39;00m = \u001b[38;5;28;01mNone\u001b[39;00m,\n\u001b[32m   1286\u001b[39m ) -> ResponseT | _StreamT:\n\u001b[32m   1287\u001b[39m     opts = FinalRequestOptions.construct(\n\u001b[32m   1288\u001b[39m         method=\u001b[33m\"\u001b[39m\u001b[33mpost\u001b[39m\u001b[33m\"\u001b[39m, url=path, json_data=body, files=to_httpx_files(files), **options\n\u001b[32m   1289\u001b[39m     )\n\u001b[32m-> \u001b[39m\u001b[32m1290\u001b[39m     \u001b[38;5;28;01mreturn\u001b[39;00m cast(ResponseT, \u001b[38;5;28;43mself\u001b[39;49m\u001b[43m.\u001b[49m\u001b[43mrequest\u001b[49m\u001b[43m(\u001b[49m\u001b[43mcast_to\u001b[49m\u001b[43m,\u001b[49m\u001b[43m \u001b[49m\u001b[43mopts\u001b[49m\u001b[43m,\u001b[49m\u001b[43m \u001b[49m\u001b[43mstream\u001b[49m\u001b[43m=\u001b[49m\u001b[43mstream\u001b[49m\u001b[43m,\u001b[49m\u001b[43m \u001b[49m\u001b[43mstream_cls\u001b[49m\u001b[43m=\u001b[49m\u001b[43mstream_cls\u001b[49m\u001b[43m)\u001b[49m)\n",
      "\u001b[36mFile \u001b[39m\u001b[32m~/anaconda3/envs/growbal/lib/python3.11/site-packages/anthropic/_base_client.py:1085\u001b[39m, in \u001b[36mSyncAPIClient.request\u001b[39m\u001b[34m(self, cast_to, options, stream, stream_cls)\u001b[39m\n\u001b[32m   1082\u001b[39m             err.response.read()\n\u001b[32m   1084\u001b[39m         log.debug(\u001b[33m\"\u001b[39m\u001b[33mRe-raising status error\u001b[39m\u001b[33m\"\u001b[39m)\n\u001b[32m-> \u001b[39m\u001b[32m1085\u001b[39m         \u001b[38;5;28;01mraise\u001b[39;00m \u001b[38;5;28mself\u001b[39m._make_status_error_from_response(err.response) \u001b[38;5;28;01mfrom\u001b[39;00m\u001b[38;5;250m \u001b[39m\u001b[38;5;28;01mNone\u001b[39;00m\n\u001b[32m   1087\u001b[39m     \u001b[38;5;28;01mbreak\u001b[39;00m\n\u001b[32m   1089\u001b[39m \u001b[38;5;28;01massert\u001b[39;00m response \u001b[38;5;129;01mis\u001b[39;00m \u001b[38;5;129;01mnot\u001b[39;00m \u001b[38;5;28;01mNone\u001b[39;00m, \u001b[33m\"\u001b[39m\u001b[33mcould not resolve response (should never happen)\u001b[39m\u001b[33m\"\u001b[39m\n",
      "\u001b[31mBadRequestError\u001b[39m: Error code: 400 - {'type': 'error', 'error': {'type': 'invalid_request_error', 'message': 'Your credit balance is too low to access the Anthropic API. Please go to Plans & Billing to upgrade or purchase credits.'}, 'request_id': 'req_011CTHfR9EyukuWsBStwovRe'}"
     ]
    }
   ],
   "source": [
    "await main()"
   ]
  },
  {
   "cell_type": "code",
   "execution_count": null,
   "id": "083c4042",
   "metadata": {},
   "outputs": [],
   "source": [
    "# from __future__ import annotations\n",
    "\n",
    "# import os\n",
    "# import re\n",
    "# from pathlib import Path\n",
    "# from typing import Optional\n",
    "\n",
    "# import requests\n",
    "\n",
    "# try:\n",
    "#     import lxml.etree as _ET  # type: ignore\n",
    "#     import lxml.html as _LH  # type: ignore\n",
    "#     _HAS_LXML = True\n",
    "# except Exception:\n",
    "#     _ET = None  # type: ignore\n",
    "#     _LH = None  # type: ignore\n",
    "#     _HAS_LXML = False\n",
    "\n",
    "# try:\n",
    "#     from bs4 import BeautifulSoup  # type: ignore\n",
    "#     _HAS_BS4 = True\n",
    "# except Exception:\n",
    "#     BeautifulSoup = None  # type: ignore\n",
    "#     _HAS_BS4 = False\n",
    "\n",
    "\n",
    "# _VOID_TAGS = {\n",
    "#     \"area\", \"base\", \"br\", \"col\", \"embed\", \"hr\", \"img\", \"input\",\n",
    "#     \"link\", \"meta\", \"param\", \"source\", \"track\", \"wbr\"\n",
    "# }\n",
    "\n",
    "\n",
    "# def _simple_format_html(html: str, indent: int = 2) -> str:\n",
    "#     \"\"\"Very lightweight HTML formatter if lxml/bs4 are unavailable.\n",
    "\n",
    "#     - Inserts newlines between adjacent tags\n",
    "#     - Applies naive indentation based on opening/closing tags\n",
    "#     \"\"\"\n",
    "#     # Normalize line endings and collapse long whitespace between tags\n",
    "#     text = html.replace(\"\\r\\n\", \"\\n\").replace(\"\\r\", \"\\n\")\n",
    "#     text = re.sub(r\">\\s*<\", \">\\n<\", text)\n",
    "\n",
    "#     lines = text.splitlines()\n",
    "#     result_lines: list[str] = []\n",
    "#     depth = 0\n",
    "\n",
    "#     for raw_line in lines:\n",
    "#         line = raw_line.strip()\n",
    "#         if not line:\n",
    "#             continue\n",
    "\n",
    "#         # Detect starting/ending tags for indentation adjustment\n",
    "#         is_closing = bool(re.match(r\"^</[A-Za-z0-9]\", line))\n",
    "#         is_comment = line.startswith(\"<!--\") and line.endswith(\"-->\")\n",
    "#         is_doctype = line.upper().startswith(\"<!DOCTYPE\")\n",
    "\n",
    "#         if is_closing and depth > 0:\n",
    "#             depth -= 1\n",
    "\n",
    "#         # Render with current depth\n",
    "#         result_lines.append((\" \" * (indent * depth)) + line)\n",
    "\n",
    "#         if is_comment or is_doctype:\n",
    "#             continue\n",
    "\n",
    "#         # Detect opening tag name\n",
    "#         m = re.match(r\"^<([A-Za-z0-9]+)(\\s|>|/>)\", line)\n",
    "#         if m:\n",
    "#             tag = m.group(1).lower()\n",
    "#             self_closed = line.endswith(\"/>\") or tag in _VOID_TAGS\n",
    "#             is_opening = (not line.startswith(\"</\")) and (not self_closed)\n",
    "#             if is_opening:\n",
    "#                 depth += 1\n",
    "\n",
    "#     return \"\\n\".join(result_lines) + \"\\n\"\n",
    "\n",
    "\n",
    "# def _postprocess(text: str, max_consecutive_blanks: int = 1) -> str:\n",
    "#     \"\"\"Normalize whitespace after pretty printing.\n",
    "\n",
    "#     - Normalize line endings\n",
    "#     - Limit consecutive blank lines\n",
    "#     - Strip trailing spaces\n",
    "#     \"\"\"\n",
    "#     text = text.replace(\"\\r\\n\", \"\\n\").replace(\"\\r\", \"\\n\")\n",
    "#     out_lines: list[str] = []\n",
    "#     blank_run = 0\n",
    "#     for line in text.split(\"\\n\"):\n",
    "#         if line.strip() == \"\":\n",
    "#             blank_run += 1\n",
    "#             if blank_run <= max_consecutive_blanks:\n",
    "#                 out_lines.append(\"\")\n",
    "#         else:\n",
    "#             blank_run = 0\n",
    "#             out_lines.append(line.rstrip())\n",
    "#     return \"\\n\".join(out_lines).strip() + \"\\n\"\n",
    "\n",
    "\n",
    "# def format_html(html: str, prefer: str = \"auto\") -> str:\n",
    "#     \"\"\"Format arbitrary HTML into a readable, indented form.\n",
    "\n",
    "#     Strategy:\n",
    "#     - Try lxml pretty_print (best indentation/structure)\n",
    "#     - Fallback to BeautifulSoup.prettify()\n",
    "#     - Fallback to a simple regex/indent-based formatter\n",
    "\n",
    "#     Args:\n",
    "#         html: Raw HTML string\n",
    "#         prefer: 'auto' | 'lxml' | 'bs4' | 'simple'\n",
    "\n",
    "#     Returns:\n",
    "#         Readable, indented HTML as a string\n",
    "#     \"\"\"\n",
    "#     prefer = prefer.lower().strip()\n",
    "\n",
    "#     if prefer in (\"auto\", \"lxml\") and _HAS_LXML:\n",
    "#         try:\n",
    "#             # lxml.html can fix up broken markup better than etree.HTML sometimes\n",
    "#             doc = _LH.fromstring(html)\n",
    "#             pretty = _LH.tostring(doc, encoding=\"unicode\", method=\"html\", pretty_print=True)\n",
    "#             return _postprocess(pretty)\n",
    "#         except Exception:\n",
    "#             # Fall through to next method\n",
    "#             pass\n",
    "\n",
    "#     if prefer in (\"auto\", \"bs4\") and _HAS_BS4:\n",
    "#         try:\n",
    "#             parser_choice = \"lxml\" if _HAS_LXML else \"html.parser\"\n",
    "#             soup = BeautifulSoup(html, parser_choice)  # type: ignore[arg-type]\n",
    "#             pretty = soup.prettify()\n",
    "#             return _postprocess(pretty)\n",
    "#         except Exception:\n",
    "#             pass\n",
    "\n",
    "#     # Simple fallback\n",
    "#     simple = _simple_format_html(html)\n",
    "#     return _postprocess(simple)\n",
    "\n",
    "\n",
    "# def fetch_html(url: str, timeout: int = 20) -> str:\n",
    "#     \"\"\"Fetch HTML with a reasonable desktop user-agent and timeouts.\"\"\"\n",
    "#     headers = {\n",
    "#         \"User-Agent\": (\n",
    "#             \"Mozilla/5.0 (X11; Linux x86_64) AppleWebKit/537.36 \"\n",
    "#             \"(KHTML, like Gecko) Chrome/127.0.0.0 Safari/537.36\"\n",
    "#         ),\n",
    "#         \"Accept\": \"text/html,application/xhtml+xml,application/xml;q=0.9,*/*;q=0.8\",\n",
    "#         \"Accept-Language\": \"en-US,en;q=0.9\",\n",
    "#         \"Cache-Control\": \"no-cache\",\n",
    "#         \"Pragma\": \"no-cache\",\n",
    "#     }\n",
    "#     resp = requests.get(url, headers=headers, timeout=timeout)\n",
    "#     resp.raise_for_status()\n",
    "#     # requests will decode based on headers/encoding; resp.text is fine here\n",
    "#     return resp.text\n",
    "\n",
    "\n",
    "# def save_formatted(html_text: str, destination: Path) -> None:\n",
    "#     destination.parent.mkdir(parents=True, exist_ok=True)\n",
    "#     destination.write_text(html_text, encoding=\"utf-8\")\n",
    "\n",
    "\n",
    "# # --- Demo: fetch and format a couple of real pages ---\n",
    "# try:\n",
    "#     project_root = Path(\"/home/mohammed/Desktop/tech_projects/growbal\")\n",
    "#     logs_dir = project_root / \"crawler_v2\" / \"logs\"\n",
    "\n",
    "#     test_urls = [\n",
    "#         \"https://am-alansari.com/\",\n",
    "#     ]\n",
    "\n",
    "#     for url in test_urls:\n",
    "#         try:\n",
    "#             print(f\"\\nFetching: {url}\")\n",
    "#             raw = fetch_html(url)\n",
    "#             formatted = format_html(raw)\n",
    "\n",
    "#             domain = re.sub(r\"^https?://\", \"\", url).split(\"/\")[0]\n",
    "#             out_path = logs_dir / f\"formatted_{domain}.html\"\n",
    "#             save_formatted(formatted, out_path)\n",
    "\n",
    "#             # Print a short preview to the notebook\n",
    "#             # preview_lines = formatted.splitlines()[:200]\n",
    "#             print(f\"Saved formatted HTML to: {out_path}\")\n",
    "#             print(f\"Preview (first 200 lines):\\n{formatted}\")\n",
    "#         except Exception as e:\n",
    "#             print(f\"Error processing {url}: {e}\")\n",
    "# except Exception as outer_e:\n",
    "#     print(f\"Setup error: {outer_e}\")\n",
    "\n"
   ]
  }
 ],
 "metadata": {
  "kernelspec": {
   "display_name": "growbal",
   "language": "python",
   "name": "python3"
  },
  "language_info": {
   "codemirror_mode": {
    "name": "ipython",
    "version": 3
   },
   "file_extension": ".py",
   "mimetype": "text/x-python",
   "name": "python",
   "nbconvert_exporter": "python",
   "pygments_lexer": "ipython3",
   "version": "3.11.11"
  }
 },
 "nbformat": 4,
 "nbformat_minor": 5
}
